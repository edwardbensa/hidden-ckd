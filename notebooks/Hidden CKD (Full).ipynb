{
 "cells": [
  {
   "cell_type": "markdown",
   "id": "8000e11e",
   "metadata": {},
   "source": [
    "# Hidden CKD"
   ]
  },
  {
   "cell_type": "markdown",
   "id": "cb746b1b",
   "metadata": {},
   "source": [
    "#### Variables\n",
    "- Date of event: Date of the screening\n",
    "- Gender: Gender of the patient (M: Male, F: Female)\n",
    "- Ethnicity: The ethnicity of the participant\n",
    "- D.O.B.: The date of birth of the participant\n",
    "- Age: Age of the patient (years)\n",
    "- Height (cm): Height of the participant in cm\n",
    "- Weight (kg): Weight of the participant in kg\n",
    "- BMI: BMI of the participant\n",
    "- BMI Category: Classification of the particpant BMI according to NICE guidelines\n",
    "- Systolic, Diastolic: The systolic and diastolic of the partcipants\n",
    "- BP Category: Classification of the particpant BP according to NICE guidelines\n",
    "- Medical Conditions: Medical conditions the patient has (High blood pressure, Diabetes, Kidney disease, Heart disease and Other\n",
    "- What medications/tablets are you currently taking?: The kinds of medication the participants are taking (Cholesterol, BP, Diabetes, Other)\n",
    "- Name of blood pressure medication / Tablets\n",
    "- Name of blood pressure medication / Tablets\n",
    "- Name of blood pressure medication / Tablets\n",
    "- Do you have a family history of kidney disease?: Whether or not the participant has a family history of kidney disease\n",
    "- uACR: Urine albumin to creatinine ratio of the participants as measured using a urine dipstick (Normal, Abnormal, High Abnormal)"
   ]
  },
  {
   "cell_type": "code",
   "execution_count": 9,
   "id": "0967f474",
   "metadata": {},
   "outputs": [],
   "source": [
    "import numpy as np\n",
    "import pandas as pd"
   ]
  },
  {
   "cell_type": "code",
   "execution_count": 10,
   "id": "49608da2",
   "metadata": {},
   "outputs": [],
   "source": [
    "raw_data=pd.read_csv('https://raw.githubusercontent.com/edwardbensa/hidden-ckd/main/data/raw/hidden_ckd_raw.csv')"
   ]
  },
  {
   "cell_type": "markdown",
   "id": "9606a9cf",
   "metadata": {},
   "source": [
    "# **Cleaning and Preprocessing Raw Data**"
   ]
  },
  {
   "cell_type": "code",
   "execution_count": 11,
   "id": "542fad53",
   "metadata": {},
   "outputs": [],
   "source": [
    "# Filtering out all rows with uACR results that are not Normal, Abnormal or High Abnormal\n",
    "raw_data = raw_data[(raw_data['uACR'] == \"Normal\") | (raw_data['uACR'] == \"Abnormal\") | (raw_data['uACR'] == \"High abnormal\")]"
   ]
  },
  {
   "cell_type": "code",
   "execution_count": 12,
   "id": "b381de14",
   "metadata": {},
   "outputs": [],
   "source": [
    "# Renaming specific row values\n",
    "raw_data['uACR']=raw_data['uACR'].replace({'High abnormal': 'High Abnormal'})\n",
    "raw_data['Ethnicity'] = raw_data['Ethnicity'].replace({'Black African ' : 'Black African (unspecified)',\n",
    "                                                       'Black African' : 'Black African (unspecified)'})"
   ]
  },
  {
   "cell_type": "code",
   "execution_count": 13,
   "id": "6f9cab77",
   "metadata": {},
   "outputs": [],
   "source": [
    "# Adding a \"Simplified Ethnicity\" column\n",
    "raw_data['S_Ethnicity'] = raw_data['Ethnicity'].replace({\n",
    "    'Black African' : 'Black',\n",
    "    'Black African (Central Africa)' : 'Black',\n",
    "    'Black African (East Africa)' : 'Black',\n",
    "    'Black African (North Africa)' : 'Black',\n",
    "    'Black African (South Africa)' : 'Black',\n",
    "    'Black African (West Africa)' : 'Black',\n",
    "    'Black African (unspecified)' : 'Black',\n",
    "    'Black Caribbean' : 'Black',\n",
    "    'Black other' : 'Black',\n",
    "    'Indian' : 'Indian',\n",
    "    'Mixed White/Asian' : 'Mixed',\n",
    "    'Mixed White/Black African' : 'Mixed',\n",
    "    'Mixed White/Black Caribbean' : 'Mixed',\n",
    "    'Mixed other' : 'Mixed',\n",
    "    'Pakistani' : 'Indian',\n",
    "    'White British' : 'White',\n",
    "    'White Gypsy/Traveller' : 'White',\n",
    "    'White Irish' : 'White',\n",
    "    'White other' : 'White',\n",
    "    'Any other' : 'Other',\n",
    "    'Asian other' : 'SE Asian',\n",
    "    'Bangladeshi' : 'Indian'})"
   ]
  },
  {
   "cell_type": "code",
   "execution_count": 14,
   "id": "1e9836d9",
   "metadata": {},
   "outputs": [],
   "source": [
    "# Adding another column that simply shows whether the ethicity is black or not\n",
    "raw_data['Ethnicity_Black'] = raw_data['Ethnicity'].str.contains('Black')"
   ]
  },
  {
   "cell_type": "code",
   "execution_count": 15,
   "id": "f81a702c",
   "metadata": {},
   "outputs": [],
   "source": [
    "# Dropping the one gender outlier 'Prefer not to say' (sample size of gender='Prefer not to say' = 1. This may interfere with analysis)\n",
    "raw_data.drop(raw_data[raw_data.Gender == 'Prefer not to say'].index, inplace=True)\n",
    "\n",
    "# Dropping an outlier whose date of birth was recorded as 10/09/2023\n",
    "raw_data.drop(raw_data[raw_data['D.O.B.'] == \"10/09/2023\"].index, inplace=True)\n",
    "\n",
    "# Dropping the one BMI outlier whose BMI Category is 'Underweight' (sample size = 1. May interfere with analysis)\n",
    "raw_data.drop(raw_data[raw_data['BMI Category'] == \"UNDERWEIGHT\"].index, inplace=True)"
   ]
  },
  {
   "cell_type": "code",
   "execution_count": 16,
   "id": "d6bc642f",
   "metadata": {},
   "outputs": [],
   "source": [
    "# Splitting the \"Medical Conditions\" column into the constituent medical conditions\n",
    "raw_data['Has_High_BP'] = raw_data['Medical Conditions'].apply(lambda x: 'High blood pressure' in x)\n",
    "raw_data['Has_Diabetes'] = raw_data['Medical Conditions'].apply(lambda x: 'Diabetes' in x)\n",
    "raw_data['Has_KD'] = raw_data['Medical Conditions'].apply(lambda x: 'Kidney disease' in x)\n",
    "raw_data['Has_HD'] = raw_data['Medical Conditions'].apply(lambda x: 'Heart disease (heart attack, angina, heart failure)' in x)\n",
    "raw_data['Has_Other'] = raw_data['Medical Conditions'].apply(lambda x: 'Other' in x)\n",
    "\n",
    "# Splitting the \"What medications/tablets are you currently taking? -\" column into the constituent forms of medication\n",
    "raw_data['BP_Meds'] = raw_data['What medications/tablets are you currently taking? - '].apply(lambda x: 'Blood pressure medication' in x)\n",
    "raw_data['Diabetes_Meds'] = raw_data['What medications/tablets are you currently taking? - '].apply(lambda x: 'Diabetes medication' in x)\n",
    "raw_data['Cholesterol_Meds'] = raw_data['What medications/tablets are you currently taking? - '].apply(lambda x: 'Cholesterol medication (e.g. Statin)' in x)\n",
    "raw_data['Other_Meds'] = raw_data['What medications/tablets are you currently taking? - '].apply(lambda x: 'Other' in x)"
   ]
  },
  {
   "cell_type": "code",
   "execution_count": 17,
   "id": "f41b6740",
   "metadata": {},
   "outputs": [],
   "source": [
    "data = raw_data.rename({\"Date of event\": \"Date\",\n",
    "                        \"D.O.B.\": \"DOB\", \n",
    "                        \"Height (cm)\": \"Height\",\n",
    "                        \"Weight(kg)\": \"Weight\",\n",
    "                        \"BMI Category\": \"BMI_Category\",\n",
    "                        \"BP Category\": \"BP_Category\",\n",
    "                        \"Do you have a family history of  kidney disease?\":\"Family_KD\"},\n",
    "                       axis=1)"
   ]
  },
  {
   "cell_type": "code",
   "execution_count": 18,
   "id": "e3a0760b",
   "metadata": {},
   "outputs": [],
   "source": [
    "data['Age'] = data['Age'] = (pd.to_datetime(data['Date'], dayfirst = True) - pd.to_datetime(data['DOB'], dayfirst = True)) / np.timedelta64(1, 'D') / 365\n",
    "data['Age'] = data['Age'].round(1)"
   ]
  },
  {
   "cell_type": "code",
   "execution_count": 19,
   "id": "ccf288b1",
   "metadata": {},
   "outputs": [],
   "source": [
    "data['Age_Category'] = pd.cut(data['Age'], bins=[0, 25, 40, 55, 70, float('inf')], labels=['<25', '25-40', '41-55', '56-70', '>70']).astype(str)"
   ]
  },
  {
   "cell_type": "code",
   "execution_count": 20,
   "id": "ea48206d",
   "metadata": {},
   "outputs": [],
   "source": [
    "data = data[['Date', 'Gender', 'Ethnicity', 'S_Ethnicity', 'Ethnicity_Black', 'DOB', 'Age', 'Age_Category', 'Height', 'Weight', 'BMI', 'BMI_Category', 'Systolic', 'Diastolic', 'BP_Category', 'Has_High_BP', 'Has_Diabetes', 'Has_KD', 'Has_HD', 'BP_Meds', 'Diabetes_Meds', 'Cholesterol_Meds', 'Other_Meds', 'Family_KD', 'uACR']]"
   ]
  },
  {
   "cell_type": "code",
   "execution_count": 21,
   "id": "3b23b961",
   "metadata": {},
   "outputs": [],
   "source": [
    "data = data.reset_index(drop=True)"
   ]
  },
  {
   "cell_type": "code",
   "execution_count": 22,
   "id": "b5689475",
   "metadata": {},
   "outputs": [
    {
     "data": {
      "application/vnd.microsoft.datawrangler.viewer.v0+json": {
       "columns": [
        {
         "name": "index",
         "rawType": "int64",
         "type": "integer"
        },
        {
         "name": "Date",
         "rawType": "object",
         "type": "string"
        },
        {
         "name": "Gender",
         "rawType": "object",
         "type": "string"
        },
        {
         "name": "Ethnicity",
         "rawType": "object",
         "type": "string"
        },
        {
         "name": "S_Ethnicity",
         "rawType": "object",
         "type": "string"
        },
        {
         "name": "Ethnicity_Black",
         "rawType": "bool",
         "type": "boolean"
        },
        {
         "name": "DOB",
         "rawType": "object",
         "type": "string"
        },
        {
         "name": "Age",
         "rawType": "float64",
         "type": "float"
        },
        {
         "name": "Age_Category",
         "rawType": "object",
         "type": "string"
        },
        {
         "name": "Height",
         "rawType": "float64",
         "type": "float"
        },
        {
         "name": "Weight",
         "rawType": "float64",
         "type": "float"
        },
        {
         "name": "BMI",
         "rawType": "float64",
         "type": "float"
        },
        {
         "name": "BMI_Category",
         "rawType": "object",
         "type": "string"
        },
        {
         "name": "Systolic",
         "rawType": "float64",
         "type": "float"
        },
        {
         "name": "Diastolic",
         "rawType": "float64",
         "type": "float"
        },
        {
         "name": "BP_Category",
         "rawType": "object",
         "type": "string"
        },
        {
         "name": "Has_High_BP",
         "rawType": "bool",
         "type": "boolean"
        },
        {
         "name": "Has_Diabetes",
         "rawType": "bool",
         "type": "boolean"
        },
        {
         "name": "Has_KD",
         "rawType": "bool",
         "type": "boolean"
        },
        {
         "name": "Has_HD",
         "rawType": "bool",
         "type": "boolean"
        },
        {
         "name": "BP_Meds",
         "rawType": "bool",
         "type": "boolean"
        },
        {
         "name": "Diabetes_Meds",
         "rawType": "bool",
         "type": "boolean"
        },
        {
         "name": "Cholesterol_Meds",
         "rawType": "bool",
         "type": "boolean"
        },
        {
         "name": "Other_Meds",
         "rawType": "bool",
         "type": "boolean"
        },
        {
         "name": "Family_KD",
         "rawType": "object",
         "type": "string"
        },
        {
         "name": "uACR",
         "rawType": "object",
         "type": "string"
        }
       ],
       "ref": "127c9dee-c2c9-443c-832f-8adde564b79d",
       "rows": [
        [
         "0",
         "23/10/2022",
         "Male",
         "Black Caribbean",
         "Black",
         "True",
         "21/05/1946",
         "76.5",
         ">70",
         "161.0",
         "64.0",
         "24.7",
         "HEALTHY",
         "118.0",
         "63.0",
         "NORMAL",
         "False",
         "False",
         "False",
         "False",
         "False",
         "False",
         "False",
         "False",
         "Definitely not",
         "Abnormal"
        ],
        [
         "1",
         "23/10/2022",
         "Male",
         "Black African (West Africa)",
         "Black",
         "True",
         "25/01/1970",
         "52.8",
         "41-55",
         "163.0",
         "78.0",
         "29.4",
         "OVERWEIGHT",
         "128.0",
         "69.0",
         "NORMAL",
         "False",
         "False",
         "False",
         "False",
         "False",
         "False",
         "False",
         "False",
         "Definitely not",
         "Abnormal"
        ],
        [
         "2",
         "26/08/2023",
         "Male",
         "Black Caribbean",
         "Black",
         "True",
         "14/07/2005",
         "18.1",
         "<25",
         "167.0",
         "91.0",
         "32.6",
         "OBESE",
         "128.0",
         "73.0",
         "NORMAL",
         "False",
         "False",
         "False",
         "False",
         "False",
         "False",
         "False",
         "False",
         "Definitely not",
         "Normal"
        ],
        [
         "3",
         "28/04/2023",
         "Male",
         "Black Caribbean",
         "Black",
         "True",
         "25/04/1969",
         "54.0",
         "41-55",
         "168.0",
         "87.0",
         "30.8",
         "OBESE",
         "143.0",
         "81.0",
         "PRE HPT",
         "False",
         "False",
         "False",
         "False",
         "False",
         "False",
         "False",
         "False",
         "Definitely not",
         "Abnormal"
        ],
        [
         "4",
         "06/11/2022",
         "Female",
         "Black African (West Africa)",
         "Black",
         "True",
         "03/11/1979",
         "43.0",
         "41-55",
         "187.0",
         "109.0",
         "31.2",
         "OBESE",
         "156.0",
         "98.0",
         "HPT 1",
         "False",
         "False",
         "False",
         "False",
         "False",
         "False",
         "False",
         "False",
         "Definitely not",
         "Abnormal"
        ]
       ],
       "shape": {
        "columns": 25,
        "rows": 5
       }
      },
      "text/html": [
       "<div>\n",
       "<style scoped>\n",
       "    .dataframe tbody tr th:only-of-type {\n",
       "        vertical-align: middle;\n",
       "    }\n",
       "\n",
       "    .dataframe tbody tr th {\n",
       "        vertical-align: top;\n",
       "    }\n",
       "\n",
       "    .dataframe thead th {\n",
       "        text-align: right;\n",
       "    }\n",
       "</style>\n",
       "<table border=\"1\" class=\"dataframe\">\n",
       "  <thead>\n",
       "    <tr style=\"text-align: right;\">\n",
       "      <th></th>\n",
       "      <th>Date</th>\n",
       "      <th>Gender</th>\n",
       "      <th>Ethnicity</th>\n",
       "      <th>S_Ethnicity</th>\n",
       "      <th>Ethnicity_Black</th>\n",
       "      <th>DOB</th>\n",
       "      <th>Age</th>\n",
       "      <th>Age_Category</th>\n",
       "      <th>Height</th>\n",
       "      <th>Weight</th>\n",
       "      <th>...</th>\n",
       "      <th>Has_High_BP</th>\n",
       "      <th>Has_Diabetes</th>\n",
       "      <th>Has_KD</th>\n",
       "      <th>Has_HD</th>\n",
       "      <th>BP_Meds</th>\n",
       "      <th>Diabetes_Meds</th>\n",
       "      <th>Cholesterol_Meds</th>\n",
       "      <th>Other_Meds</th>\n",
       "      <th>Family_KD</th>\n",
       "      <th>uACR</th>\n",
       "    </tr>\n",
       "  </thead>\n",
       "  <tbody>\n",
       "    <tr>\n",
       "      <th>0</th>\n",
       "      <td>23/10/2022</td>\n",
       "      <td>Male</td>\n",
       "      <td>Black Caribbean</td>\n",
       "      <td>Black</td>\n",
       "      <td>True</td>\n",
       "      <td>21/05/1946</td>\n",
       "      <td>76.5</td>\n",
       "      <td>&gt;70</td>\n",
       "      <td>161.0</td>\n",
       "      <td>64.0</td>\n",
       "      <td>...</td>\n",
       "      <td>False</td>\n",
       "      <td>False</td>\n",
       "      <td>False</td>\n",
       "      <td>False</td>\n",
       "      <td>False</td>\n",
       "      <td>False</td>\n",
       "      <td>False</td>\n",
       "      <td>False</td>\n",
       "      <td>Definitely not</td>\n",
       "      <td>Abnormal</td>\n",
       "    </tr>\n",
       "    <tr>\n",
       "      <th>1</th>\n",
       "      <td>23/10/2022</td>\n",
       "      <td>Male</td>\n",
       "      <td>Black African (West Africa)</td>\n",
       "      <td>Black</td>\n",
       "      <td>True</td>\n",
       "      <td>25/01/1970</td>\n",
       "      <td>52.8</td>\n",
       "      <td>41-55</td>\n",
       "      <td>163.0</td>\n",
       "      <td>78.0</td>\n",
       "      <td>...</td>\n",
       "      <td>False</td>\n",
       "      <td>False</td>\n",
       "      <td>False</td>\n",
       "      <td>False</td>\n",
       "      <td>False</td>\n",
       "      <td>False</td>\n",
       "      <td>False</td>\n",
       "      <td>False</td>\n",
       "      <td>Definitely not</td>\n",
       "      <td>Abnormal</td>\n",
       "    </tr>\n",
       "    <tr>\n",
       "      <th>2</th>\n",
       "      <td>26/08/2023</td>\n",
       "      <td>Male</td>\n",
       "      <td>Black Caribbean</td>\n",
       "      <td>Black</td>\n",
       "      <td>True</td>\n",
       "      <td>14/07/2005</td>\n",
       "      <td>18.1</td>\n",
       "      <td>&lt;25</td>\n",
       "      <td>167.0</td>\n",
       "      <td>91.0</td>\n",
       "      <td>...</td>\n",
       "      <td>False</td>\n",
       "      <td>False</td>\n",
       "      <td>False</td>\n",
       "      <td>False</td>\n",
       "      <td>False</td>\n",
       "      <td>False</td>\n",
       "      <td>False</td>\n",
       "      <td>False</td>\n",
       "      <td>Definitely not</td>\n",
       "      <td>Normal</td>\n",
       "    </tr>\n",
       "    <tr>\n",
       "      <th>3</th>\n",
       "      <td>28/04/2023</td>\n",
       "      <td>Male</td>\n",
       "      <td>Black Caribbean</td>\n",
       "      <td>Black</td>\n",
       "      <td>True</td>\n",
       "      <td>25/04/1969</td>\n",
       "      <td>54.0</td>\n",
       "      <td>41-55</td>\n",
       "      <td>168.0</td>\n",
       "      <td>87.0</td>\n",
       "      <td>...</td>\n",
       "      <td>False</td>\n",
       "      <td>False</td>\n",
       "      <td>False</td>\n",
       "      <td>False</td>\n",
       "      <td>False</td>\n",
       "      <td>False</td>\n",
       "      <td>False</td>\n",
       "      <td>False</td>\n",
       "      <td>Definitely not</td>\n",
       "      <td>Abnormal</td>\n",
       "    </tr>\n",
       "    <tr>\n",
       "      <th>4</th>\n",
       "      <td>06/11/2022</td>\n",
       "      <td>Female</td>\n",
       "      <td>Black African (West Africa)</td>\n",
       "      <td>Black</td>\n",
       "      <td>True</td>\n",
       "      <td>03/11/1979</td>\n",
       "      <td>43.0</td>\n",
       "      <td>41-55</td>\n",
       "      <td>187.0</td>\n",
       "      <td>109.0</td>\n",
       "      <td>...</td>\n",
       "      <td>False</td>\n",
       "      <td>False</td>\n",
       "      <td>False</td>\n",
       "      <td>False</td>\n",
       "      <td>False</td>\n",
       "      <td>False</td>\n",
       "      <td>False</td>\n",
       "      <td>False</td>\n",
       "      <td>Definitely not</td>\n",
       "      <td>Abnormal</td>\n",
       "    </tr>\n",
       "  </tbody>\n",
       "</table>\n",
       "<p>5 rows × 25 columns</p>\n",
       "</div>"
      ],
      "text/plain": [
       "         Date  Gender                    Ethnicity S_Ethnicity  \\\n",
       "0  23/10/2022    Male              Black Caribbean       Black   \n",
       "1  23/10/2022    Male  Black African (West Africa)       Black   \n",
       "2  26/08/2023    Male              Black Caribbean       Black   \n",
       "3  28/04/2023    Male              Black Caribbean       Black   \n",
       "4  06/11/2022  Female  Black African (West Africa)       Black   \n",
       "\n",
       "   Ethnicity_Black         DOB   Age Age_Category  Height  Weight  ...  \\\n",
       "0             True  21/05/1946  76.5          >70   161.0    64.0  ...   \n",
       "1             True  25/01/1970  52.8        41-55   163.0    78.0  ...   \n",
       "2             True  14/07/2005  18.1          <25   167.0    91.0  ...   \n",
       "3             True  25/04/1969  54.0        41-55   168.0    87.0  ...   \n",
       "4             True  03/11/1979  43.0        41-55   187.0   109.0  ...   \n",
       "\n",
       "   Has_High_BP Has_Diabetes  Has_KD  Has_HD BP_Meds  Diabetes_Meds  \\\n",
       "0        False        False   False   False   False          False   \n",
       "1        False        False   False   False   False          False   \n",
       "2        False        False   False   False   False          False   \n",
       "3        False        False   False   False   False          False   \n",
       "4        False        False   False   False   False          False   \n",
       "\n",
       "   Cholesterol_Meds  Other_Meds       Family_KD      uACR  \n",
       "0             False       False  Definitely not  Abnormal  \n",
       "1             False       False  Definitely not  Abnormal  \n",
       "2             False       False  Definitely not    Normal  \n",
       "3             False       False  Definitely not  Abnormal  \n",
       "4             False       False  Definitely not  Abnormal  \n",
       "\n",
       "[5 rows x 25 columns]"
      ]
     },
     "execution_count": 22,
     "metadata": {},
     "output_type": "execute_result"
    }
   ],
   "source": [
    "data.head(5)"
   ]
  },
  {
   "cell_type": "markdown",
   "id": "745f39c5",
   "metadata": {},
   "source": [
    "# **Exploratory Data Analysis**"
   ]
  },
  {
   "cell_type": "code",
   "execution_count": 23,
   "id": "263bece3",
   "metadata": {},
   "outputs": [],
   "source": [
    "import matplotlib.pyplot as plt\n",
    "import seaborn as sns\n",
    "import plotly.express as px\n",
    "import plotly.graph_objects as go\n",
    "from plotly.subplots import make_subplots"
   ]
  },
  {
   "cell_type": "code",
   "execution_count": 24,
   "id": "6f13b6f9",
   "metadata": {},
   "outputs": [
    {
     "data": {
      "application/vnd.microsoft.datawrangler.viewer.v0+json": {
       "columns": [
        {
         "name": "index",
         "rawType": "object",
         "type": "string"
        },
        {
         "name": "Age",
         "rawType": "float64",
         "type": "float"
        },
        {
         "name": "Height",
         "rawType": "float64",
         "type": "float"
        },
        {
         "name": "Weight",
         "rawType": "float64",
         "type": "float"
        },
        {
         "name": "BMI",
         "rawType": "float64",
         "type": "float"
        },
        {
         "name": "Systolic",
         "rawType": "float64",
         "type": "float"
        },
        {
         "name": "Diastolic",
         "rawType": "float64",
         "type": "float"
        }
       ],
       "ref": "b2d66d2a-f5b2-473b-a6fa-c9ba0c73a421",
       "rows": [
        [
         "count",
         "961.0",
         "961.0",
         "961.0",
         "961.0",
         "961.0",
         "961.0"
        ],
        [
         "mean",
         "50.90145681581685",
         "165.81330905306976",
         "81.79976066597294",
         "29.84120707596254",
         "136.210197710718",
         "82.66805411030177"
        ],
        [
         "std",
         "14.16501698582852",
         "9.140737723077669",
         "15.422907294729685",
         "5.720421039992004",
         "20.212144144013276",
         "11.863947016643982"
        ],
        [
         "min",
         "14.4",
         "111.5",
         "45.5",
         "19.0",
         "88.0",
         "45.0"
        ],
        [
         "25%",
         "42.1",
         "159.0",
         "71.0",
         "25.8",
         "123.0",
         "75.0"
        ],
        [
         "50%",
         "52.9",
         "165.0",
         "80.2",
         "29.2",
         "134.0",
         "82.0"
        ],
        [
         "75%",
         "60.3",
         "171.0",
         "90.0",
         "32.9",
         "146.0",
         "90.0"
        ],
        [
         "max",
         "92.1",
         "198.0",
         "169.0",
         "62.1",
         "243.0",
         "141.0"
        ]
       ],
       "shape": {
        "columns": 6,
        "rows": 8
       }
      },
      "text/html": [
       "<div>\n",
       "<style scoped>\n",
       "    .dataframe tbody tr th:only-of-type {\n",
       "        vertical-align: middle;\n",
       "    }\n",
       "\n",
       "    .dataframe tbody tr th {\n",
       "        vertical-align: top;\n",
       "    }\n",
       "\n",
       "    .dataframe thead th {\n",
       "        text-align: right;\n",
       "    }\n",
       "</style>\n",
       "<table border=\"1\" class=\"dataframe\">\n",
       "  <thead>\n",
       "    <tr style=\"text-align: right;\">\n",
       "      <th></th>\n",
       "      <th>Age</th>\n",
       "      <th>Height</th>\n",
       "      <th>Weight</th>\n",
       "      <th>BMI</th>\n",
       "      <th>Systolic</th>\n",
       "      <th>Diastolic</th>\n",
       "    </tr>\n",
       "  </thead>\n",
       "  <tbody>\n",
       "    <tr>\n",
       "      <th>count</th>\n",
       "      <td>961.000000</td>\n",
       "      <td>961.000000</td>\n",
       "      <td>961.000000</td>\n",
       "      <td>961.000000</td>\n",
       "      <td>961.000000</td>\n",
       "      <td>961.000000</td>\n",
       "    </tr>\n",
       "    <tr>\n",
       "      <th>mean</th>\n",
       "      <td>50.901457</td>\n",
       "      <td>165.813309</td>\n",
       "      <td>81.799761</td>\n",
       "      <td>29.841207</td>\n",
       "      <td>136.210198</td>\n",
       "      <td>82.668054</td>\n",
       "    </tr>\n",
       "    <tr>\n",
       "      <th>std</th>\n",
       "      <td>14.165017</td>\n",
       "      <td>9.140738</td>\n",
       "      <td>15.422907</td>\n",
       "      <td>5.720421</td>\n",
       "      <td>20.212144</td>\n",
       "      <td>11.863947</td>\n",
       "    </tr>\n",
       "    <tr>\n",
       "      <th>min</th>\n",
       "      <td>14.400000</td>\n",
       "      <td>111.500000</td>\n",
       "      <td>45.500000</td>\n",
       "      <td>19.000000</td>\n",
       "      <td>88.000000</td>\n",
       "      <td>45.000000</td>\n",
       "    </tr>\n",
       "    <tr>\n",
       "      <th>25%</th>\n",
       "      <td>42.100000</td>\n",
       "      <td>159.000000</td>\n",
       "      <td>71.000000</td>\n",
       "      <td>25.800000</td>\n",
       "      <td>123.000000</td>\n",
       "      <td>75.000000</td>\n",
       "    </tr>\n",
       "    <tr>\n",
       "      <th>50%</th>\n",
       "      <td>52.900000</td>\n",
       "      <td>165.000000</td>\n",
       "      <td>80.200000</td>\n",
       "      <td>29.200000</td>\n",
       "      <td>134.000000</td>\n",
       "      <td>82.000000</td>\n",
       "    </tr>\n",
       "    <tr>\n",
       "      <th>75%</th>\n",
       "      <td>60.300000</td>\n",
       "      <td>171.000000</td>\n",
       "      <td>90.000000</td>\n",
       "      <td>32.900000</td>\n",
       "      <td>146.000000</td>\n",
       "      <td>90.000000</td>\n",
       "    </tr>\n",
       "    <tr>\n",
       "      <th>max</th>\n",
       "      <td>92.100000</td>\n",
       "      <td>198.000000</td>\n",
       "      <td>169.000000</td>\n",
       "      <td>62.100000</td>\n",
       "      <td>243.000000</td>\n",
       "      <td>141.000000</td>\n",
       "    </tr>\n",
       "  </tbody>\n",
       "</table>\n",
       "</div>"
      ],
      "text/plain": [
       "              Age      Height      Weight         BMI    Systolic   Diastolic\n",
       "count  961.000000  961.000000  961.000000  961.000000  961.000000  961.000000\n",
       "mean    50.901457  165.813309   81.799761   29.841207  136.210198   82.668054\n",
       "std     14.165017    9.140738   15.422907    5.720421   20.212144   11.863947\n",
       "min     14.400000  111.500000   45.500000   19.000000   88.000000   45.000000\n",
       "25%     42.100000  159.000000   71.000000   25.800000  123.000000   75.000000\n",
       "50%     52.900000  165.000000   80.200000   29.200000  134.000000   82.000000\n",
       "75%     60.300000  171.000000   90.000000   32.900000  146.000000   90.000000\n",
       "max     92.100000  198.000000  169.000000   62.100000  243.000000  141.000000"
      ]
     },
     "execution_count": 24,
     "metadata": {},
     "output_type": "execute_result"
    }
   ],
   "source": [
    "data.describe()"
   ]
  },
  {
   "cell_type": "code",
   "execution_count": 25,
   "id": "f3bc9bfd",
   "metadata": {},
   "outputs": [
    {
     "data": {
      "application/vnd.plotly.v1+json": {
       "config": {
        "plotlyServerURL": "https://plot.ly"
       },
       "data": [
        {
         "colorscale": [
          [
           0,
           "rgb(165,0,38)"
          ],
          [
           0.1,
           "rgb(215,48,39)"
          ],
          [
           0.2,
           "rgb(244,109,67)"
          ],
          [
           0.3,
           "rgb(253,174,97)"
          ],
          [
           0.4,
           "rgb(254,224,139)"
          ],
          [
           0.5,
           "rgb(255,255,191)"
          ],
          [
           0.6,
           "rgb(217,239,139)"
          ],
          [
           0.7,
           "rgb(166,217,106)"
          ],
          [
           0.8,
           "rgb(102,189,99)"
          ],
          [
           0.9,
           "rgb(26,152,80)"
          ],
          [
           1,
           "rgb(0,104,55)"
          ]
         ],
         "type": "heatmap",
         "x": [
          "Age",
          "Height",
          "Weight",
          "BMI",
          "Systolic",
          "Diastolic"
         ],
         "y": [
          "Age",
          "Height",
          "Weight",
          "BMI",
          "Systolic",
          "Diastolic"
         ],
         "z": [
          [
           1,
           -0.1488454431633129,
           0.04084821542473191,
           0.12666128270073346,
           0.2750410740481375,
           0.13109370840022283
          ],
          [
           -0.1488454431633129,
           1,
           0.30083536169850417,
           -0.2910756168845757,
           0.02762126710317116,
           0.04818163431635854
          ],
          [
           0.04084821542473191,
           0.30083536169850417,
           1,
           0.8166265604358004,
           0.17847768234324418,
           0.2060156562530651
          ],
          [
           0.12666128270073346,
           -0.2910756168845757,
           0.8166265604358004,
           1,
           0.15747147319404511,
           0.1786027593074363
          ],
          [
           0.2750410740481375,
           0.02762126710317116,
           0.17847768234324418,
           0.15747147319404511,
           1,
           0.6759572814411575
          ],
          [
           0.13109370840022283,
           0.04818163431635854,
           0.2060156562530651,
           0.1786027593074363,
           0.6759572814411575,
           1
          ]
         ],
         "zmax": 1,
         "zmin": -1
        }
       ],
       "layout": {
        "template": {
         "data": {
          "bar": [
           {
            "error_x": {
             "color": "#2a3f5f"
            },
            "error_y": {
             "color": "#2a3f5f"
            },
            "marker": {
             "line": {
              "color": "#E5ECF6",
              "width": 0.5
             },
             "pattern": {
              "fillmode": "overlay",
              "size": 10,
              "solidity": 0.2
             }
            },
            "type": "bar"
           }
          ],
          "barpolar": [
           {
            "marker": {
             "line": {
              "color": "#E5ECF6",
              "width": 0.5
             },
             "pattern": {
              "fillmode": "overlay",
              "size": 10,
              "solidity": 0.2
             }
            },
            "type": "barpolar"
           }
          ],
          "carpet": [
           {
            "aaxis": {
             "endlinecolor": "#2a3f5f",
             "gridcolor": "white",
             "linecolor": "white",
             "minorgridcolor": "white",
             "startlinecolor": "#2a3f5f"
            },
            "baxis": {
             "endlinecolor": "#2a3f5f",
             "gridcolor": "white",
             "linecolor": "white",
             "minorgridcolor": "white",
             "startlinecolor": "#2a3f5f"
            },
            "type": "carpet"
           }
          ],
          "choropleth": [
           {
            "colorbar": {
             "outlinewidth": 0,
             "ticks": ""
            },
            "type": "choropleth"
           }
          ],
          "contour": [
           {
            "colorbar": {
             "outlinewidth": 0,
             "ticks": ""
            },
            "colorscale": [
             [
              0,
              "#0d0887"
             ],
             [
              0.1111111111111111,
              "#46039f"
             ],
             [
              0.2222222222222222,
              "#7201a8"
             ],
             [
              0.3333333333333333,
              "#9c179e"
             ],
             [
              0.4444444444444444,
              "#bd3786"
             ],
             [
              0.5555555555555556,
              "#d8576b"
             ],
             [
              0.6666666666666666,
              "#ed7953"
             ],
             [
              0.7777777777777778,
              "#fb9f3a"
             ],
             [
              0.8888888888888888,
              "#fdca26"
             ],
             [
              1,
              "#f0f921"
             ]
            ],
            "type": "contour"
           }
          ],
          "contourcarpet": [
           {
            "colorbar": {
             "outlinewidth": 0,
             "ticks": ""
            },
            "type": "contourcarpet"
           }
          ],
          "heatmap": [
           {
            "colorbar": {
             "outlinewidth": 0,
             "ticks": ""
            },
            "colorscale": [
             [
              0,
              "#0d0887"
             ],
             [
              0.1111111111111111,
              "#46039f"
             ],
             [
              0.2222222222222222,
              "#7201a8"
             ],
             [
              0.3333333333333333,
              "#9c179e"
             ],
             [
              0.4444444444444444,
              "#bd3786"
             ],
             [
              0.5555555555555556,
              "#d8576b"
             ],
             [
              0.6666666666666666,
              "#ed7953"
             ],
             [
              0.7777777777777778,
              "#fb9f3a"
             ],
             [
              0.8888888888888888,
              "#fdca26"
             ],
             [
              1,
              "#f0f921"
             ]
            ],
            "type": "heatmap"
           }
          ],
          "histogram": [
           {
            "marker": {
             "pattern": {
              "fillmode": "overlay",
              "size": 10,
              "solidity": 0.2
             }
            },
            "type": "histogram"
           }
          ],
          "histogram2d": [
           {
            "colorbar": {
             "outlinewidth": 0,
             "ticks": ""
            },
            "colorscale": [
             [
              0,
              "#0d0887"
             ],
             [
              0.1111111111111111,
              "#46039f"
             ],
             [
              0.2222222222222222,
              "#7201a8"
             ],
             [
              0.3333333333333333,
              "#9c179e"
             ],
             [
              0.4444444444444444,
              "#bd3786"
             ],
             [
              0.5555555555555556,
              "#d8576b"
             ],
             [
              0.6666666666666666,
              "#ed7953"
             ],
             [
              0.7777777777777778,
              "#fb9f3a"
             ],
             [
              0.8888888888888888,
              "#fdca26"
             ],
             [
              1,
              "#f0f921"
             ]
            ],
            "type": "histogram2d"
           }
          ],
          "histogram2dcontour": [
           {
            "colorbar": {
             "outlinewidth": 0,
             "ticks": ""
            },
            "colorscale": [
             [
              0,
              "#0d0887"
             ],
             [
              0.1111111111111111,
              "#46039f"
             ],
             [
              0.2222222222222222,
              "#7201a8"
             ],
             [
              0.3333333333333333,
              "#9c179e"
             ],
             [
              0.4444444444444444,
              "#bd3786"
             ],
             [
              0.5555555555555556,
              "#d8576b"
             ],
             [
              0.6666666666666666,
              "#ed7953"
             ],
             [
              0.7777777777777778,
              "#fb9f3a"
             ],
             [
              0.8888888888888888,
              "#fdca26"
             ],
             [
              1,
              "#f0f921"
             ]
            ],
            "type": "histogram2dcontour"
           }
          ],
          "mesh3d": [
           {
            "colorbar": {
             "outlinewidth": 0,
             "ticks": ""
            },
            "type": "mesh3d"
           }
          ],
          "parcoords": [
           {
            "line": {
             "colorbar": {
              "outlinewidth": 0,
              "ticks": ""
             }
            },
            "type": "parcoords"
           }
          ],
          "pie": [
           {
            "automargin": true,
            "type": "pie"
           }
          ],
          "scatter": [
           {
            "fillpattern": {
             "fillmode": "overlay",
             "size": 10,
             "solidity": 0.2
            },
            "type": "scatter"
           }
          ],
          "scatter3d": [
           {
            "line": {
             "colorbar": {
              "outlinewidth": 0,
              "ticks": ""
             }
            },
            "marker": {
             "colorbar": {
              "outlinewidth": 0,
              "ticks": ""
             }
            },
            "type": "scatter3d"
           }
          ],
          "scattercarpet": [
           {
            "marker": {
             "colorbar": {
              "outlinewidth": 0,
              "ticks": ""
             }
            },
            "type": "scattercarpet"
           }
          ],
          "scattergeo": [
           {
            "marker": {
             "colorbar": {
              "outlinewidth": 0,
              "ticks": ""
             }
            },
            "type": "scattergeo"
           }
          ],
          "scattergl": [
           {
            "marker": {
             "colorbar": {
              "outlinewidth": 0,
              "ticks": ""
             }
            },
            "type": "scattergl"
           }
          ],
          "scattermap": [
           {
            "marker": {
             "colorbar": {
              "outlinewidth": 0,
              "ticks": ""
             }
            },
            "type": "scattermap"
           }
          ],
          "scattermapbox": [
           {
            "marker": {
             "colorbar": {
              "outlinewidth": 0,
              "ticks": ""
             }
            },
            "type": "scattermapbox"
           }
          ],
          "scatterpolar": [
           {
            "marker": {
             "colorbar": {
              "outlinewidth": 0,
              "ticks": ""
             }
            },
            "type": "scatterpolar"
           }
          ],
          "scatterpolargl": [
           {
            "marker": {
             "colorbar": {
              "outlinewidth": 0,
              "ticks": ""
             }
            },
            "type": "scatterpolargl"
           }
          ],
          "scatterternary": [
           {
            "marker": {
             "colorbar": {
              "outlinewidth": 0,
              "ticks": ""
             }
            },
            "type": "scatterternary"
           }
          ],
          "surface": [
           {
            "colorbar": {
             "outlinewidth": 0,
             "ticks": ""
            },
            "colorscale": [
             [
              0,
              "#0d0887"
             ],
             [
              0.1111111111111111,
              "#46039f"
             ],
             [
              0.2222222222222222,
              "#7201a8"
             ],
             [
              0.3333333333333333,
              "#9c179e"
             ],
             [
              0.4444444444444444,
              "#bd3786"
             ],
             [
              0.5555555555555556,
              "#d8576b"
             ],
             [
              0.6666666666666666,
              "#ed7953"
             ],
             [
              0.7777777777777778,
              "#fb9f3a"
             ],
             [
              0.8888888888888888,
              "#fdca26"
             ],
             [
              1,
              "#f0f921"
             ]
            ],
            "type": "surface"
           }
          ],
          "table": [
           {
            "cells": {
             "fill": {
              "color": "#EBF0F8"
             },
             "line": {
              "color": "white"
             }
            },
            "header": {
             "fill": {
              "color": "#C8D4E3"
             },
             "line": {
              "color": "white"
             }
            },
            "type": "table"
           }
          ]
         },
         "layout": {
          "annotationdefaults": {
           "arrowcolor": "#2a3f5f",
           "arrowhead": 0,
           "arrowwidth": 1
          },
          "autotypenumbers": "strict",
          "coloraxis": {
           "colorbar": {
            "outlinewidth": 0,
            "ticks": ""
           }
          },
          "colorscale": {
           "diverging": [
            [
             0,
             "#8e0152"
            ],
            [
             0.1,
             "#c51b7d"
            ],
            [
             0.2,
             "#de77ae"
            ],
            [
             0.3,
             "#f1b6da"
            ],
            [
             0.4,
             "#fde0ef"
            ],
            [
             0.5,
             "#f7f7f7"
            ],
            [
             0.6,
             "#e6f5d0"
            ],
            [
             0.7,
             "#b8e186"
            ],
            [
             0.8,
             "#7fbc41"
            ],
            [
             0.9,
             "#4d9221"
            ],
            [
             1,
             "#276419"
            ]
           ],
           "sequential": [
            [
             0,
             "#0d0887"
            ],
            [
             0.1111111111111111,
             "#46039f"
            ],
            [
             0.2222222222222222,
             "#7201a8"
            ],
            [
             0.3333333333333333,
             "#9c179e"
            ],
            [
             0.4444444444444444,
             "#bd3786"
            ],
            [
             0.5555555555555556,
             "#d8576b"
            ],
            [
             0.6666666666666666,
             "#ed7953"
            ],
            [
             0.7777777777777778,
             "#fb9f3a"
            ],
            [
             0.8888888888888888,
             "#fdca26"
            ],
            [
             1,
             "#f0f921"
            ]
           ],
           "sequentialminus": [
            [
             0,
             "#0d0887"
            ],
            [
             0.1111111111111111,
             "#46039f"
            ],
            [
             0.2222222222222222,
             "#7201a8"
            ],
            [
             0.3333333333333333,
             "#9c179e"
            ],
            [
             0.4444444444444444,
             "#bd3786"
            ],
            [
             0.5555555555555556,
             "#d8576b"
            ],
            [
             0.6666666666666666,
             "#ed7953"
            ],
            [
             0.7777777777777778,
             "#fb9f3a"
            ],
            [
             0.8888888888888888,
             "#fdca26"
            ],
            [
             1,
             "#f0f921"
            ]
           ]
          },
          "colorway": [
           "#636efa",
           "#EF553B",
           "#00cc96",
           "#ab63fa",
           "#FFA15A",
           "#19d3f3",
           "#FF6692",
           "#B6E880",
           "#FF97FF",
           "#FECB52"
          ],
          "font": {
           "color": "#2a3f5f"
          },
          "geo": {
           "bgcolor": "white",
           "lakecolor": "white",
           "landcolor": "#E5ECF6",
           "showlakes": true,
           "showland": true,
           "subunitcolor": "white"
          },
          "hoverlabel": {
           "align": "left"
          },
          "hovermode": "closest",
          "mapbox": {
           "style": "light"
          },
          "paper_bgcolor": "white",
          "plot_bgcolor": "#E5ECF6",
          "polar": {
           "angularaxis": {
            "gridcolor": "white",
            "linecolor": "white",
            "ticks": ""
           },
           "bgcolor": "#E5ECF6",
           "radialaxis": {
            "gridcolor": "white",
            "linecolor": "white",
            "ticks": ""
           }
          },
          "scene": {
           "xaxis": {
            "backgroundcolor": "#E5ECF6",
            "gridcolor": "white",
            "gridwidth": 2,
            "linecolor": "white",
            "showbackground": true,
            "ticks": "",
            "zerolinecolor": "white"
           },
           "yaxis": {
            "backgroundcolor": "#E5ECF6",
            "gridcolor": "white",
            "gridwidth": 2,
            "linecolor": "white",
            "showbackground": true,
            "ticks": "",
            "zerolinecolor": "white"
           },
           "zaxis": {
            "backgroundcolor": "#E5ECF6",
            "gridcolor": "white",
            "gridwidth": 2,
            "linecolor": "white",
            "showbackground": true,
            "ticks": "",
            "zerolinecolor": "white"
           }
          },
          "shapedefaults": {
           "line": {
            "color": "#2a3f5f"
           }
          },
          "ternary": {
           "aaxis": {
            "gridcolor": "white",
            "linecolor": "white",
            "ticks": ""
           },
           "baxis": {
            "gridcolor": "white",
            "linecolor": "white",
            "ticks": ""
           },
           "bgcolor": "#E5ECF6",
           "caxis": {
            "gridcolor": "white",
            "linecolor": "white",
            "ticks": ""
           }
          },
          "title": {
           "x": 0.05
          },
          "xaxis": {
           "automargin": true,
           "gridcolor": "white",
           "linecolor": "white",
           "ticks": "",
           "title": {
            "standoff": 15
           },
           "zerolinecolor": "white",
           "zerolinewidth": 2
          },
          "yaxis": {
           "automargin": true,
           "gridcolor": "white",
           "linecolor": "white",
           "ticks": "",
           "title": {
            "standoff": 15
           },
           "zerolinecolor": "white",
           "zerolinewidth": 2
          }
         }
        }
       }
      }
     },
     "metadata": {},
     "output_type": "display_data"
    }
   ],
   "source": [
    "# Pairwise Pearson correlations between numeric variables\n",
    "cr = data[['Age', 'Height', 'Weight', 'BMI', 'Systolic', 'Diastolic']].corr(method='pearson')\n",
    "\n",
    "fig = go.Figure(go.Heatmap(\n",
    "    x=cr.columns,\n",
    "    y=cr.columns,\n",
    "    z=cr.values.tolist(),\n",
    "    colorscale='rdylgn', zmin=-1, zmax=1\n",
    "))\n",
    "\n",
    "fig.show()"
   ]
  },
  {
   "cell_type": "markdown",
   "id": "310a01d2-22ff-4705-9f00-78b6eb491c2c",
   "metadata": {},
   "source": [
    "Systolic and diastolic BP readings are weakly positively correlated with age and weight as expected"
   ]
  },
  {
   "cell_type": "markdown",
   "id": "f6e9e00f-a511-4ae5-b506-8e9a0c7b84e3",
   "metadata": {},
   "source": [
    "## **Grouped/Aggregated Statistics**"
   ]
  },
  {
   "cell_type": "code",
   "execution_count": 26,
   "id": "54b57c03",
   "metadata": {},
   "outputs": [],
   "source": [
    "# Creating a function to group variables\n",
    "\n",
    "def group_stats(column_name):\n",
    "    '''\n",
    "    Groups the data and runs some basic stats\n",
    "    '''\n",
    "    table = {\n",
    "        column_name: data[column_name].sort_values().unique(),\n",
    "        'Mean Age': data.groupby(column_name)['Age'].mean().round(2),\n",
    "        'Mean Height (cm)': data.groupby(column_name)['Height'].mean().round(2),\n",
    "        'Mean Weight (kg)': data.groupby(column_name)['Weight'].mean().round(2),\n",
    "        'Mean BMI': data.groupby(column_name)['BMI'].mean().round(2),\n",
    "        'Mean Systolic': data.groupby(column_name)['Systolic'].mean().round(2),\n",
    "        'Mean Diastolic': data.groupby(column_name)['Diastolic'].mean().round(2),\n",
    "        'Count': data.groupby(column_name).size(),\n",
    "        'Normal uACR %': round(data[(data['uACR'] == 'Normal')].groupby([column_name]).size()/data.groupby(column_name).size()*100, 2),\n",
    "        'Abnormal uACR %': round(data[(data['uACR'] == 'Abnormal')].groupby([column_name]).size()/data.groupby(column_name).size()*100, 2),\n",
    "        'High Abnormal uACR %': round(data[(data['uACR'] == 'High Abnormal')].groupby([column_name]).size()/data.groupby(column_name).size()*100, 2),\n",
    "        }\n",
    "    table = pd.DataFrame(table).set_index(column_name).fillna(0)\n",
    "\n",
    "    return table"
   ]
  },
  {
   "cell_type": "code",
   "execution_count": 27,
   "id": "cd2b0983",
   "metadata": {},
   "outputs": [
    {
     "data": {
      "application/vnd.microsoft.datawrangler.viewer.v0+json": {
       "columns": [
        {
         "name": "Ethnicity",
         "rawType": "object",
         "type": "string"
        },
        {
         "name": "Mean Age",
         "rawType": "float64",
         "type": "float"
        },
        {
         "name": "Mean Height (cm)",
         "rawType": "float64",
         "type": "float"
        },
        {
         "name": "Mean Weight (kg)",
         "rawType": "float64",
         "type": "float"
        },
        {
         "name": "Mean BMI",
         "rawType": "float64",
         "type": "float"
        },
        {
         "name": "Mean Systolic",
         "rawType": "float64",
         "type": "float"
        },
        {
         "name": "Mean Diastolic",
         "rawType": "float64",
         "type": "float"
        },
        {
         "name": "Count",
         "rawType": "int64",
         "type": "integer"
        },
        {
         "name": "Normal uACR %",
         "rawType": "float64",
         "type": "float"
        },
        {
         "name": "Abnormal uACR %",
         "rawType": "float64",
         "type": "float"
        },
        {
         "name": "High Abnormal uACR %",
         "rawType": "float64",
         "type": "float"
        }
       ],
       "ref": "3aaf5727-57de-4eba-a06f-5578f349dee9",
       "rows": [
        [
         "Any other",
         "53.28",
         "170.88",
         "97.35",
         "33.1",
         "133.25",
         "82.25",
         "4",
         "75.0",
         "25.0",
         "0.0"
        ],
        [
         "Asian other",
         "50.09",
         "168.34",
         "84.01",
         "29.66",
         "128.96",
         "78.87",
         "23",
         "65.22",
         "30.43",
         "4.35"
        ],
        [
         "Bangladeshi",
         "59.2",
         "167.91",
         "80.63",
         "28.44",
         "152.71",
         "84.71",
         "7",
         "85.71",
         "14.29",
         "0.0"
        ],
        [
         "Black African (Central Africa)",
         "51.42",
         "168.65",
         "83.7",
         "29.49",
         "138.0",
         "83.93",
         "15",
         "66.67",
         "33.33",
         "0.0"
        ],
        [
         "Black African (East Africa)",
         "47.48",
         "163.08",
         "78.08",
         "29.44",
         "128.24",
         "79.24",
         "21",
         "47.62",
         "42.86",
         "9.52"
        ],
        [
         "Black African (North Africa)",
         "54.88",
         "170.75",
         "77.33",
         "26.58",
         "130.0",
         "80.83",
         "6",
         "83.33",
         "16.67",
         "0.0"
        ],
        [
         "Black African (South Africa)",
         "46.72",
         "164.92",
         "82.48",
         "30.28",
         "126.0",
         "78.5",
         "6",
         "16.67",
         "83.33",
         "0.0"
        ],
        [
         "Black African (West Africa)",
         "50.98",
         "166.03",
         "81.88",
         "29.79",
         "136.51",
         "82.84",
         "499",
         "52.91",
         "39.68",
         "7.41"
        ],
        [
         "Black African (unspecified)",
         "51.32",
         "164.79",
         "81.33",
         "30.13",
         "136.57",
         "83.36",
         "149",
         "51.68",
         "41.61",
         "6.71"
        ],
        [
         "Black Caribbean",
         "50.48",
         "165.68",
         "80.47",
         "29.31",
         "137.0",
         "82.33",
         "103",
         "48.54",
         "48.54",
         "2.91"
        ],
        [
         "Black other",
         "50.35",
         "169.32",
         "83.71",
         "29.4",
         "131.94",
         "79.06",
         "18",
         "72.22",
         "27.78",
         "0.0"
        ],
        [
         "Indian",
         "50.15",
         "166.02",
         "79.05",
         "28.62",
         "136.55",
         "82.45",
         "11",
         "81.82",
         "18.18",
         "0.0"
        ],
        [
         "Mixed White/Asian",
         "53.1",
         "155.1",
         "75.1",
         "31.2",
         "113.0",
         "67.0",
         "1",
         "100.0",
         "0.0",
         "0.0"
        ],
        [
         "Mixed White/Black African",
         "58.71",
         "165.65",
         "81.02",
         "29.48",
         "142.31",
         "83.5",
         "16",
         "50.0",
         "37.5",
         "12.5"
        ],
        [
         "Mixed White/Black Caribbean",
         "53.26",
         "162.73",
         "85.05",
         "32.22",
         "138.0",
         "80.3",
         "10",
         "50.0",
         "40.0",
         "10.0"
        ],
        [
         "Mixed other",
         "56.1",
         "159.18",
         "85.58",
         "33.27",
         "146.33",
         "87.0",
         "6",
         "66.67",
         "33.33",
         "0.0"
        ],
        [
         "Pakistani",
         "49.87",
         "170.71",
         "85.54",
         "29.75",
         "139.36",
         "86.93",
         "14",
         "71.43",
         "28.57",
         "0.0"
        ],
        [
         "White British",
         "48.47",
         "165.01",
         "83.24",
         "30.63",
         "132.12",
         "82.03",
         "34",
         "79.41",
         "17.65",
         "2.94"
        ],
        [
         "White Gypsy/Traveller",
         "40.7",
         "166.9",
         "69.1",
         "24.8",
         "135.0",
         "85.0",
         "1",
         "0.0",
         "0.0",
         "100.0"
        ],
        [
         "White Irish",
         "48.1",
         "169.5",
         "83.65",
         "29.15",
         "131.5",
         "79.5",
         "2",
         "100.0",
         "0.0",
         "0.0"
        ],
        [
         "White other",
         "44.75",
         "160.91",
         "82.06",
         "31.74",
         "139.27",
         "85.73",
         "15",
         "66.67",
         "33.33",
         "0.0"
        ]
       ],
       "shape": {
        "columns": 10,
        "rows": 21
       }
      },
      "text/html": [
       "<div>\n",
       "<style scoped>\n",
       "    .dataframe tbody tr th:only-of-type {\n",
       "        vertical-align: middle;\n",
       "    }\n",
       "\n",
       "    .dataframe tbody tr th {\n",
       "        vertical-align: top;\n",
       "    }\n",
       "\n",
       "    .dataframe thead th {\n",
       "        text-align: right;\n",
       "    }\n",
       "</style>\n",
       "<table border=\"1\" class=\"dataframe\">\n",
       "  <thead>\n",
       "    <tr style=\"text-align: right;\">\n",
       "      <th></th>\n",
       "      <th>Mean Age</th>\n",
       "      <th>Mean Height (cm)</th>\n",
       "      <th>Mean Weight (kg)</th>\n",
       "      <th>Mean BMI</th>\n",
       "      <th>Mean Systolic</th>\n",
       "      <th>Mean Diastolic</th>\n",
       "      <th>Count</th>\n",
       "      <th>Normal uACR %</th>\n",
       "      <th>Abnormal uACR %</th>\n",
       "      <th>High Abnormal uACR %</th>\n",
       "    </tr>\n",
       "    <tr>\n",
       "      <th>Ethnicity</th>\n",
       "      <th></th>\n",
       "      <th></th>\n",
       "      <th></th>\n",
       "      <th></th>\n",
       "      <th></th>\n",
       "      <th></th>\n",
       "      <th></th>\n",
       "      <th></th>\n",
       "      <th></th>\n",
       "      <th></th>\n",
       "    </tr>\n",
       "  </thead>\n",
       "  <tbody>\n",
       "    <tr>\n",
       "      <th>Any other</th>\n",
       "      <td>53.28</td>\n",
       "      <td>170.88</td>\n",
       "      <td>97.35</td>\n",
       "      <td>33.10</td>\n",
       "      <td>133.25</td>\n",
       "      <td>82.25</td>\n",
       "      <td>4</td>\n",
       "      <td>75.00</td>\n",
       "      <td>25.00</td>\n",
       "      <td>0.00</td>\n",
       "    </tr>\n",
       "    <tr>\n",
       "      <th>Asian other</th>\n",
       "      <td>50.09</td>\n",
       "      <td>168.34</td>\n",
       "      <td>84.01</td>\n",
       "      <td>29.66</td>\n",
       "      <td>128.96</td>\n",
       "      <td>78.87</td>\n",
       "      <td>23</td>\n",
       "      <td>65.22</td>\n",
       "      <td>30.43</td>\n",
       "      <td>4.35</td>\n",
       "    </tr>\n",
       "    <tr>\n",
       "      <th>Bangladeshi</th>\n",
       "      <td>59.20</td>\n",
       "      <td>167.91</td>\n",
       "      <td>80.63</td>\n",
       "      <td>28.44</td>\n",
       "      <td>152.71</td>\n",
       "      <td>84.71</td>\n",
       "      <td>7</td>\n",
       "      <td>85.71</td>\n",
       "      <td>14.29</td>\n",
       "      <td>0.00</td>\n",
       "    </tr>\n",
       "    <tr>\n",
       "      <th>Black African (Central Africa)</th>\n",
       "      <td>51.42</td>\n",
       "      <td>168.65</td>\n",
       "      <td>83.70</td>\n",
       "      <td>29.49</td>\n",
       "      <td>138.00</td>\n",
       "      <td>83.93</td>\n",
       "      <td>15</td>\n",
       "      <td>66.67</td>\n",
       "      <td>33.33</td>\n",
       "      <td>0.00</td>\n",
       "    </tr>\n",
       "    <tr>\n",
       "      <th>Black African (East Africa)</th>\n",
       "      <td>47.48</td>\n",
       "      <td>163.08</td>\n",
       "      <td>78.08</td>\n",
       "      <td>29.44</td>\n",
       "      <td>128.24</td>\n",
       "      <td>79.24</td>\n",
       "      <td>21</td>\n",
       "      <td>47.62</td>\n",
       "      <td>42.86</td>\n",
       "      <td>9.52</td>\n",
       "    </tr>\n",
       "    <tr>\n",
       "      <th>Black African (North Africa)</th>\n",
       "      <td>54.88</td>\n",
       "      <td>170.75</td>\n",
       "      <td>77.33</td>\n",
       "      <td>26.58</td>\n",
       "      <td>130.00</td>\n",
       "      <td>80.83</td>\n",
       "      <td>6</td>\n",
       "      <td>83.33</td>\n",
       "      <td>16.67</td>\n",
       "      <td>0.00</td>\n",
       "    </tr>\n",
       "    <tr>\n",
       "      <th>Black African (South Africa)</th>\n",
       "      <td>46.72</td>\n",
       "      <td>164.92</td>\n",
       "      <td>82.48</td>\n",
       "      <td>30.28</td>\n",
       "      <td>126.00</td>\n",
       "      <td>78.50</td>\n",
       "      <td>6</td>\n",
       "      <td>16.67</td>\n",
       "      <td>83.33</td>\n",
       "      <td>0.00</td>\n",
       "    </tr>\n",
       "    <tr>\n",
       "      <th>Black African (West Africa)</th>\n",
       "      <td>50.98</td>\n",
       "      <td>166.03</td>\n",
       "      <td>81.88</td>\n",
       "      <td>29.79</td>\n",
       "      <td>136.51</td>\n",
       "      <td>82.84</td>\n",
       "      <td>499</td>\n",
       "      <td>52.91</td>\n",
       "      <td>39.68</td>\n",
       "      <td>7.41</td>\n",
       "    </tr>\n",
       "    <tr>\n",
       "      <th>Black African (unspecified)</th>\n",
       "      <td>51.32</td>\n",
       "      <td>164.79</td>\n",
       "      <td>81.33</td>\n",
       "      <td>30.13</td>\n",
       "      <td>136.57</td>\n",
       "      <td>83.36</td>\n",
       "      <td>149</td>\n",
       "      <td>51.68</td>\n",
       "      <td>41.61</td>\n",
       "      <td>6.71</td>\n",
       "    </tr>\n",
       "    <tr>\n",
       "      <th>Black Caribbean</th>\n",
       "      <td>50.48</td>\n",
       "      <td>165.68</td>\n",
       "      <td>80.47</td>\n",
       "      <td>29.31</td>\n",
       "      <td>137.00</td>\n",
       "      <td>82.33</td>\n",
       "      <td>103</td>\n",
       "      <td>48.54</td>\n",
       "      <td>48.54</td>\n",
       "      <td>2.91</td>\n",
       "    </tr>\n",
       "    <tr>\n",
       "      <th>Black other</th>\n",
       "      <td>50.35</td>\n",
       "      <td>169.32</td>\n",
       "      <td>83.71</td>\n",
       "      <td>29.40</td>\n",
       "      <td>131.94</td>\n",
       "      <td>79.06</td>\n",
       "      <td>18</td>\n",
       "      <td>72.22</td>\n",
       "      <td>27.78</td>\n",
       "      <td>0.00</td>\n",
       "    </tr>\n",
       "    <tr>\n",
       "      <th>Indian</th>\n",
       "      <td>50.15</td>\n",
       "      <td>166.02</td>\n",
       "      <td>79.05</td>\n",
       "      <td>28.62</td>\n",
       "      <td>136.55</td>\n",
       "      <td>82.45</td>\n",
       "      <td>11</td>\n",
       "      <td>81.82</td>\n",
       "      <td>18.18</td>\n",
       "      <td>0.00</td>\n",
       "    </tr>\n",
       "    <tr>\n",
       "      <th>Mixed White/Asian</th>\n",
       "      <td>53.10</td>\n",
       "      <td>155.10</td>\n",
       "      <td>75.10</td>\n",
       "      <td>31.20</td>\n",
       "      <td>113.00</td>\n",
       "      <td>67.00</td>\n",
       "      <td>1</td>\n",
       "      <td>100.00</td>\n",
       "      <td>0.00</td>\n",
       "      <td>0.00</td>\n",
       "    </tr>\n",
       "    <tr>\n",
       "      <th>Mixed White/Black African</th>\n",
       "      <td>58.71</td>\n",
       "      <td>165.65</td>\n",
       "      <td>81.02</td>\n",
       "      <td>29.48</td>\n",
       "      <td>142.31</td>\n",
       "      <td>83.50</td>\n",
       "      <td>16</td>\n",
       "      <td>50.00</td>\n",
       "      <td>37.50</td>\n",
       "      <td>12.50</td>\n",
       "    </tr>\n",
       "    <tr>\n",
       "      <th>Mixed White/Black Caribbean</th>\n",
       "      <td>53.26</td>\n",
       "      <td>162.73</td>\n",
       "      <td>85.05</td>\n",
       "      <td>32.22</td>\n",
       "      <td>138.00</td>\n",
       "      <td>80.30</td>\n",
       "      <td>10</td>\n",
       "      <td>50.00</td>\n",
       "      <td>40.00</td>\n",
       "      <td>10.00</td>\n",
       "    </tr>\n",
       "    <tr>\n",
       "      <th>Mixed other</th>\n",
       "      <td>56.10</td>\n",
       "      <td>159.18</td>\n",
       "      <td>85.58</td>\n",
       "      <td>33.27</td>\n",
       "      <td>146.33</td>\n",
       "      <td>87.00</td>\n",
       "      <td>6</td>\n",
       "      <td>66.67</td>\n",
       "      <td>33.33</td>\n",
       "      <td>0.00</td>\n",
       "    </tr>\n",
       "    <tr>\n",
       "      <th>Pakistani</th>\n",
       "      <td>49.87</td>\n",
       "      <td>170.71</td>\n",
       "      <td>85.54</td>\n",
       "      <td>29.75</td>\n",
       "      <td>139.36</td>\n",
       "      <td>86.93</td>\n",
       "      <td>14</td>\n",
       "      <td>71.43</td>\n",
       "      <td>28.57</td>\n",
       "      <td>0.00</td>\n",
       "    </tr>\n",
       "    <tr>\n",
       "      <th>White British</th>\n",
       "      <td>48.47</td>\n",
       "      <td>165.01</td>\n",
       "      <td>83.24</td>\n",
       "      <td>30.63</td>\n",
       "      <td>132.12</td>\n",
       "      <td>82.03</td>\n",
       "      <td>34</td>\n",
       "      <td>79.41</td>\n",
       "      <td>17.65</td>\n",
       "      <td>2.94</td>\n",
       "    </tr>\n",
       "    <tr>\n",
       "      <th>White Gypsy/Traveller</th>\n",
       "      <td>40.70</td>\n",
       "      <td>166.90</td>\n",
       "      <td>69.10</td>\n",
       "      <td>24.80</td>\n",
       "      <td>135.00</td>\n",
       "      <td>85.00</td>\n",
       "      <td>1</td>\n",
       "      <td>0.00</td>\n",
       "      <td>0.00</td>\n",
       "      <td>100.00</td>\n",
       "    </tr>\n",
       "    <tr>\n",
       "      <th>White Irish</th>\n",
       "      <td>48.10</td>\n",
       "      <td>169.50</td>\n",
       "      <td>83.65</td>\n",
       "      <td>29.15</td>\n",
       "      <td>131.50</td>\n",
       "      <td>79.50</td>\n",
       "      <td>2</td>\n",
       "      <td>100.00</td>\n",
       "      <td>0.00</td>\n",
       "      <td>0.00</td>\n",
       "    </tr>\n",
       "    <tr>\n",
       "      <th>White other</th>\n",
       "      <td>44.75</td>\n",
       "      <td>160.91</td>\n",
       "      <td>82.06</td>\n",
       "      <td>31.74</td>\n",
       "      <td>139.27</td>\n",
       "      <td>85.73</td>\n",
       "      <td>15</td>\n",
       "      <td>66.67</td>\n",
       "      <td>33.33</td>\n",
       "      <td>0.00</td>\n",
       "    </tr>\n",
       "  </tbody>\n",
       "</table>\n",
       "</div>"
      ],
      "text/plain": [
       "                                Mean Age  Mean Height (cm)  Mean Weight (kg)  \\\n",
       "Ethnicity                                                                      \n",
       "Any other                          53.28            170.88             97.35   \n",
       "Asian other                        50.09            168.34             84.01   \n",
       "Bangladeshi                        59.20            167.91             80.63   \n",
       "Black African (Central Africa)     51.42            168.65             83.70   \n",
       "Black African (East Africa)        47.48            163.08             78.08   \n",
       "Black African (North Africa)       54.88            170.75             77.33   \n",
       "Black African (South Africa)       46.72            164.92             82.48   \n",
       "Black African (West Africa)        50.98            166.03             81.88   \n",
       "Black African (unspecified)        51.32            164.79             81.33   \n",
       "Black Caribbean                    50.48            165.68             80.47   \n",
       "Black other                        50.35            169.32             83.71   \n",
       "Indian                             50.15            166.02             79.05   \n",
       "Mixed White/Asian                  53.10            155.10             75.10   \n",
       "Mixed White/Black African          58.71            165.65             81.02   \n",
       "Mixed White/Black Caribbean        53.26            162.73             85.05   \n",
       "Mixed other                        56.10            159.18             85.58   \n",
       "Pakistani                          49.87            170.71             85.54   \n",
       "White British                      48.47            165.01             83.24   \n",
       "White Gypsy/Traveller              40.70            166.90             69.10   \n",
       "White Irish                        48.10            169.50             83.65   \n",
       "White other                        44.75            160.91             82.06   \n",
       "\n",
       "                                Mean BMI  Mean Systolic  Mean Diastolic  \\\n",
       "Ethnicity                                                                 \n",
       "Any other                          33.10         133.25           82.25   \n",
       "Asian other                        29.66         128.96           78.87   \n",
       "Bangladeshi                        28.44         152.71           84.71   \n",
       "Black African (Central Africa)     29.49         138.00           83.93   \n",
       "Black African (East Africa)        29.44         128.24           79.24   \n",
       "Black African (North Africa)       26.58         130.00           80.83   \n",
       "Black African (South Africa)       30.28         126.00           78.50   \n",
       "Black African (West Africa)        29.79         136.51           82.84   \n",
       "Black African (unspecified)        30.13         136.57           83.36   \n",
       "Black Caribbean                    29.31         137.00           82.33   \n",
       "Black other                        29.40         131.94           79.06   \n",
       "Indian                             28.62         136.55           82.45   \n",
       "Mixed White/Asian                  31.20         113.00           67.00   \n",
       "Mixed White/Black African          29.48         142.31           83.50   \n",
       "Mixed White/Black Caribbean        32.22         138.00           80.30   \n",
       "Mixed other                        33.27         146.33           87.00   \n",
       "Pakistani                          29.75         139.36           86.93   \n",
       "White British                      30.63         132.12           82.03   \n",
       "White Gypsy/Traveller              24.80         135.00           85.00   \n",
       "White Irish                        29.15         131.50           79.50   \n",
       "White other                        31.74         139.27           85.73   \n",
       "\n",
       "                                Count  Normal uACR %  Abnormal uACR %  \\\n",
       "Ethnicity                                                               \n",
       "Any other                           4          75.00            25.00   \n",
       "Asian other                        23          65.22            30.43   \n",
       "Bangladeshi                         7          85.71            14.29   \n",
       "Black African (Central Africa)     15          66.67            33.33   \n",
       "Black African (East Africa)        21          47.62            42.86   \n",
       "Black African (North Africa)        6          83.33            16.67   \n",
       "Black African (South Africa)        6          16.67            83.33   \n",
       "Black African (West Africa)       499          52.91            39.68   \n",
       "Black African (unspecified)       149          51.68            41.61   \n",
       "Black Caribbean                   103          48.54            48.54   \n",
       "Black other                        18          72.22            27.78   \n",
       "Indian                             11          81.82            18.18   \n",
       "Mixed White/Asian                   1         100.00             0.00   \n",
       "Mixed White/Black African          16          50.00            37.50   \n",
       "Mixed White/Black Caribbean        10          50.00            40.00   \n",
       "Mixed other                         6          66.67            33.33   \n",
       "Pakistani                          14          71.43            28.57   \n",
       "White British                      34          79.41            17.65   \n",
       "White Gypsy/Traveller               1           0.00             0.00   \n",
       "White Irish                         2         100.00             0.00   \n",
       "White other                        15          66.67            33.33   \n",
       "\n",
       "                                High Abnormal uACR %  \n",
       "Ethnicity                                             \n",
       "Any other                                       0.00  \n",
       "Asian other                                     4.35  \n",
       "Bangladeshi                                     0.00  \n",
       "Black African (Central Africa)                  0.00  \n",
       "Black African (East Africa)                     9.52  \n",
       "Black African (North Africa)                    0.00  \n",
       "Black African (South Africa)                    0.00  \n",
       "Black African (West Africa)                     7.41  \n",
       "Black African (unspecified)                     6.71  \n",
       "Black Caribbean                                 2.91  \n",
       "Black other                                     0.00  \n",
       "Indian                                          0.00  \n",
       "Mixed White/Asian                               0.00  \n",
       "Mixed White/Black African                      12.50  \n",
       "Mixed White/Black Caribbean                    10.00  \n",
       "Mixed other                                     0.00  \n",
       "Pakistani                                       0.00  \n",
       "White British                                   2.94  \n",
       "White Gypsy/Traveller                         100.00  \n",
       "White Irish                                     0.00  \n",
       "White other                                     0.00  "
      ]
     },
     "execution_count": 27,
     "metadata": {},
     "output_type": "execute_result"
    }
   ],
   "source": [
    "eth_data = group_stats('Ethnicity')\n",
    "eth_data"
   ]
  },
  {
   "cell_type": "markdown",
   "id": "117585d3-f712-414f-b637-6fbf2358dd90",
   "metadata": {},
   "source": [
    "The vast majority of the project participants are Black. It would not be helpful to attempt to make inferences based on 'Ethnicity' given how unbalanced it is."
   ]
  },
  {
   "cell_type": "code",
   "execution_count": 28,
   "id": "387db905",
   "metadata": {},
   "outputs": [
    {
     "data": {
      "application/vnd.microsoft.datawrangler.viewer.v0+json": {
       "columns": [
        {
         "name": "S_Ethnicity",
         "rawType": "object",
         "type": "string"
        },
        {
         "name": "Mean Age",
         "rawType": "float64",
         "type": "float"
        },
        {
         "name": "Mean Height (cm)",
         "rawType": "float64",
         "type": "float"
        },
        {
         "name": "Mean Weight (kg)",
         "rawType": "float64",
         "type": "float"
        },
        {
         "name": "Mean BMI",
         "rawType": "float64",
         "type": "float"
        },
        {
         "name": "Mean Systolic",
         "rawType": "float64",
         "type": "float"
        },
        {
         "name": "Mean Diastolic",
         "rawType": "float64",
         "type": "float"
        },
        {
         "name": "Count",
         "rawType": "int64",
         "type": "integer"
        },
        {
         "name": "Normal uACR %",
         "rawType": "float64",
         "type": "float"
        },
        {
         "name": "Abnormal uACR %",
         "rawType": "float64",
         "type": "float"
        },
        {
         "name": "High Abnormal uACR %",
         "rawType": "float64",
         "type": "float"
        }
       ],
       "ref": "1529c262-1c2a-48dd-91d4-59a418ecebe6",
       "rows": [
        [
         "Black",
         "50.88",
         "165.83",
         "81.55",
         "29.75",
         "136.17",
         "82.66",
         "817",
         "52.63",
         "41.0",
         "6.36"
        ],
        [
         "Indian",
         "52.01",
         "168.48",
         "82.23",
         "29.08",
         "141.31",
         "84.91",
         "32",
         "78.12",
         "21.88",
         "0.0"
        ],
        [
         "Mixed",
         "56.42",
         "163.27",
         "82.89",
         "31.05",
         "140.85",
         "82.67",
         "33",
         "54.55",
         "36.36",
         "9.09"
        ],
        [
         "Other",
         "53.28",
         "170.88",
         "97.35",
         "33.1",
         "133.25",
         "82.25",
         "4",
         "75.0",
         "25.0",
         "0.0"
        ],
        [
         "SE Asian",
         "50.09",
         "168.34",
         "84.01",
         "29.66",
         "128.96",
         "78.87",
         "23",
         "65.22",
         "30.43",
         "4.35"
        ],
        [
         "White",
         "47.23",
         "164.03",
         "82.64",
         "30.78",
         "134.21",
         "83.06",
         "52",
         "75.0",
         "21.15",
         "3.85"
        ]
       ],
       "shape": {
        "columns": 10,
        "rows": 6
       }
      },
      "text/html": [
       "<div>\n",
       "<style scoped>\n",
       "    .dataframe tbody tr th:only-of-type {\n",
       "        vertical-align: middle;\n",
       "    }\n",
       "\n",
       "    .dataframe tbody tr th {\n",
       "        vertical-align: top;\n",
       "    }\n",
       "\n",
       "    .dataframe thead th {\n",
       "        text-align: right;\n",
       "    }\n",
       "</style>\n",
       "<table border=\"1\" class=\"dataframe\">\n",
       "  <thead>\n",
       "    <tr style=\"text-align: right;\">\n",
       "      <th></th>\n",
       "      <th>Mean Age</th>\n",
       "      <th>Mean Height (cm)</th>\n",
       "      <th>Mean Weight (kg)</th>\n",
       "      <th>Mean BMI</th>\n",
       "      <th>Mean Systolic</th>\n",
       "      <th>Mean Diastolic</th>\n",
       "      <th>Count</th>\n",
       "      <th>Normal uACR %</th>\n",
       "      <th>Abnormal uACR %</th>\n",
       "      <th>High Abnormal uACR %</th>\n",
       "    </tr>\n",
       "    <tr>\n",
       "      <th>S_Ethnicity</th>\n",
       "      <th></th>\n",
       "      <th></th>\n",
       "      <th></th>\n",
       "      <th></th>\n",
       "      <th></th>\n",
       "      <th></th>\n",
       "      <th></th>\n",
       "      <th></th>\n",
       "      <th></th>\n",
       "      <th></th>\n",
       "    </tr>\n",
       "  </thead>\n",
       "  <tbody>\n",
       "    <tr>\n",
       "      <th>Black</th>\n",
       "      <td>50.88</td>\n",
       "      <td>165.83</td>\n",
       "      <td>81.55</td>\n",
       "      <td>29.75</td>\n",
       "      <td>136.17</td>\n",
       "      <td>82.66</td>\n",
       "      <td>817</td>\n",
       "      <td>52.63</td>\n",
       "      <td>41.00</td>\n",
       "      <td>6.36</td>\n",
       "    </tr>\n",
       "    <tr>\n",
       "      <th>Indian</th>\n",
       "      <td>52.01</td>\n",
       "      <td>168.48</td>\n",
       "      <td>82.23</td>\n",
       "      <td>29.08</td>\n",
       "      <td>141.31</td>\n",
       "      <td>84.91</td>\n",
       "      <td>32</td>\n",
       "      <td>78.12</td>\n",
       "      <td>21.88</td>\n",
       "      <td>0.00</td>\n",
       "    </tr>\n",
       "    <tr>\n",
       "      <th>Mixed</th>\n",
       "      <td>56.42</td>\n",
       "      <td>163.27</td>\n",
       "      <td>82.89</td>\n",
       "      <td>31.05</td>\n",
       "      <td>140.85</td>\n",
       "      <td>82.67</td>\n",
       "      <td>33</td>\n",
       "      <td>54.55</td>\n",
       "      <td>36.36</td>\n",
       "      <td>9.09</td>\n",
       "    </tr>\n",
       "    <tr>\n",
       "      <th>Other</th>\n",
       "      <td>53.28</td>\n",
       "      <td>170.88</td>\n",
       "      <td>97.35</td>\n",
       "      <td>33.10</td>\n",
       "      <td>133.25</td>\n",
       "      <td>82.25</td>\n",
       "      <td>4</td>\n",
       "      <td>75.00</td>\n",
       "      <td>25.00</td>\n",
       "      <td>0.00</td>\n",
       "    </tr>\n",
       "    <tr>\n",
       "      <th>SE Asian</th>\n",
       "      <td>50.09</td>\n",
       "      <td>168.34</td>\n",
       "      <td>84.01</td>\n",
       "      <td>29.66</td>\n",
       "      <td>128.96</td>\n",
       "      <td>78.87</td>\n",
       "      <td>23</td>\n",
       "      <td>65.22</td>\n",
       "      <td>30.43</td>\n",
       "      <td>4.35</td>\n",
       "    </tr>\n",
       "    <tr>\n",
       "      <th>White</th>\n",
       "      <td>47.23</td>\n",
       "      <td>164.03</td>\n",
       "      <td>82.64</td>\n",
       "      <td>30.78</td>\n",
       "      <td>134.21</td>\n",
       "      <td>83.06</td>\n",
       "      <td>52</td>\n",
       "      <td>75.00</td>\n",
       "      <td>21.15</td>\n",
       "      <td>3.85</td>\n",
       "    </tr>\n",
       "  </tbody>\n",
       "</table>\n",
       "</div>"
      ],
      "text/plain": [
       "             Mean Age  Mean Height (cm)  Mean Weight (kg)  Mean BMI  \\\n",
       "S_Ethnicity                                                           \n",
       "Black           50.88            165.83             81.55     29.75   \n",
       "Indian          52.01            168.48             82.23     29.08   \n",
       "Mixed           56.42            163.27             82.89     31.05   \n",
       "Other           53.28            170.88             97.35     33.10   \n",
       "SE Asian        50.09            168.34             84.01     29.66   \n",
       "White           47.23            164.03             82.64     30.78   \n",
       "\n",
       "             Mean Systolic  Mean Diastolic  Count  Normal uACR %  \\\n",
       "S_Ethnicity                                                        \n",
       "Black               136.17           82.66    817          52.63   \n",
       "Indian              141.31           84.91     32          78.12   \n",
       "Mixed               140.85           82.67     33          54.55   \n",
       "Other               133.25           82.25      4          75.00   \n",
       "SE Asian            128.96           78.87     23          65.22   \n",
       "White               134.21           83.06     52          75.00   \n",
       "\n",
       "             Abnormal uACR %  High Abnormal uACR %  \n",
       "S_Ethnicity                                         \n",
       "Black                  41.00                  6.36  \n",
       "Indian                 21.88                  0.00  \n",
       "Mixed                  36.36                  9.09  \n",
       "Other                  25.00                  0.00  \n",
       "SE Asian               30.43                  4.35  \n",
       "White                  21.15                  3.85  "
      ]
     },
     "execution_count": 28,
     "metadata": {},
     "output_type": "execute_result"
    }
   ],
   "source": [
    "s_eth_data = group_stats('S_Ethnicity')\n",
    "s_eth_data"
   ]
  },
  {
   "cell_type": "markdown",
   "id": "397cdce6-1acc-4102-9eb6-e7717a1532e8",
   "metadata": {},
   "source": [
    "This table begins to open up some key insights. It appears that participants who are Black or are of Black descent are at the highest risk of high abnormal uACR readings, which is consistent with literature (a quick peak at the breakdown for the 'Mixed' Simplified Ethnicity shows that only Mixed people of Black descent have high abnormal uACR readings). None of the participants classed 'Indian' (i.e. Indian, Pakistani, and Bangladeshi) have high abnormal uACR readings. Across the board, it appears Black people have a higher risk of abnormal and high abnormal uACR even if they do not have the highest BP readings, which is a risk factor for abnormal uACR values."
   ]
  },
  {
   "cell_type": "code",
   "execution_count": 29,
   "id": "e2a535c0",
   "metadata": {},
   "outputs": [
    {
     "data": {
      "application/vnd.microsoft.datawrangler.viewer.v0+json": {
       "columns": [
        {
         "name": "Ethnicity_Black",
         "rawType": "bool",
         "type": "boolean"
        },
        {
         "name": "Mean Age",
         "rawType": "float64",
         "type": "float"
        },
        {
         "name": "Mean Height (cm)",
         "rawType": "float64",
         "type": "float"
        },
        {
         "name": "Mean Weight (kg)",
         "rawType": "float64",
         "type": "float"
        },
        {
         "name": "Mean BMI",
         "rawType": "float64",
         "type": "float"
        },
        {
         "name": "Mean Systolic",
         "rawType": "float64",
         "type": "float"
        },
        {
         "name": "Mean Diastolic",
         "rawType": "float64",
         "type": "float"
        },
        {
         "name": "Count",
         "rawType": "int64",
         "type": "integer"
        },
        {
         "name": "Normal uACR %",
         "rawType": "float64",
         "type": "float"
        },
        {
         "name": "Abnormal uACR %",
         "rawType": "float64",
         "type": "float"
        },
        {
         "name": "High Abnormal uACR %",
         "rawType": "float64",
         "type": "float"
        }
       ],
       "ref": "1fa65917-58d8-4b04-af85-bc457d15e113",
       "rows": [
        [
         "False",
         "49.79",
         "165.99",
         "83.38",
         "30.31",
         "135.52",
         "82.78",
         "118",
         "73.73",
         "23.73",
         "2.54"
        ],
        [
         "True",
         "51.06",
         "165.79",
         "81.58",
         "29.78",
         "136.31",
         "82.65",
         "843",
         "52.55",
         "40.93",
         "6.52"
        ]
       ],
       "shape": {
        "columns": 10,
        "rows": 2
       }
      },
      "text/html": [
       "<div>\n",
       "<style scoped>\n",
       "    .dataframe tbody tr th:only-of-type {\n",
       "        vertical-align: middle;\n",
       "    }\n",
       "\n",
       "    .dataframe tbody tr th {\n",
       "        vertical-align: top;\n",
       "    }\n",
       "\n",
       "    .dataframe thead th {\n",
       "        text-align: right;\n",
       "    }\n",
       "</style>\n",
       "<table border=\"1\" class=\"dataframe\">\n",
       "  <thead>\n",
       "    <tr style=\"text-align: right;\">\n",
       "      <th></th>\n",
       "      <th>Mean Age</th>\n",
       "      <th>Mean Height (cm)</th>\n",
       "      <th>Mean Weight (kg)</th>\n",
       "      <th>Mean BMI</th>\n",
       "      <th>Mean Systolic</th>\n",
       "      <th>Mean Diastolic</th>\n",
       "      <th>Count</th>\n",
       "      <th>Normal uACR %</th>\n",
       "      <th>Abnormal uACR %</th>\n",
       "      <th>High Abnormal uACR %</th>\n",
       "    </tr>\n",
       "    <tr>\n",
       "      <th>Ethnicity_Black</th>\n",
       "      <th></th>\n",
       "      <th></th>\n",
       "      <th></th>\n",
       "      <th></th>\n",
       "      <th></th>\n",
       "      <th></th>\n",
       "      <th></th>\n",
       "      <th></th>\n",
       "      <th></th>\n",
       "      <th></th>\n",
       "    </tr>\n",
       "  </thead>\n",
       "  <tbody>\n",
       "    <tr>\n",
       "      <th>False</th>\n",
       "      <td>49.79</td>\n",
       "      <td>165.99</td>\n",
       "      <td>83.38</td>\n",
       "      <td>30.31</td>\n",
       "      <td>135.52</td>\n",
       "      <td>82.78</td>\n",
       "      <td>118</td>\n",
       "      <td>73.73</td>\n",
       "      <td>23.73</td>\n",
       "      <td>2.54</td>\n",
       "    </tr>\n",
       "    <tr>\n",
       "      <th>True</th>\n",
       "      <td>51.06</td>\n",
       "      <td>165.79</td>\n",
       "      <td>81.58</td>\n",
       "      <td>29.78</td>\n",
       "      <td>136.31</td>\n",
       "      <td>82.65</td>\n",
       "      <td>843</td>\n",
       "      <td>52.55</td>\n",
       "      <td>40.93</td>\n",
       "      <td>6.52</td>\n",
       "    </tr>\n",
       "  </tbody>\n",
       "</table>\n",
       "</div>"
      ],
      "text/plain": [
       "                 Mean Age  Mean Height (cm)  Mean Weight (kg)  Mean BMI  \\\n",
       "Ethnicity_Black                                                           \n",
       "False               49.79            165.99             83.38     30.31   \n",
       "True                51.06            165.79             81.58     29.78   \n",
       "\n",
       "                 Mean Systolic  Mean Diastolic  Count  Normal uACR %  \\\n",
       "Ethnicity_Black                                                        \n",
       "False                   135.52           82.78    118          73.73   \n",
       "True                    136.31           82.65    843          52.55   \n",
       "\n",
       "                 Abnormal uACR %  High Abnormal uACR %  \n",
       "Ethnicity_Black                                         \n",
       "False                      23.73                  2.54  \n",
       "True                       40.93                  6.52  "
      ]
     },
     "execution_count": 29,
     "metadata": {},
     "output_type": "execute_result"
    }
   ],
   "source": [
    "eth_black_data = group_stats('Ethnicity_Black')\n",
    "eth_black_data"
   ]
  },
  {
   "cell_type": "markdown",
   "id": "72e9903d-498a-46f5-81c9-7a18f699db13",
   "metadata": {},
   "source": [
    "This table further drives home the point that Black people are at increased risk of abnormal uACR readings."
   ]
  },
  {
   "cell_type": "code",
   "execution_count": 30,
   "id": "0f9808f0",
   "metadata": {},
   "outputs": [
    {
     "data": {
      "application/vnd.microsoft.datawrangler.viewer.v0+json": {
       "columns": [
        {
         "name": "Gender",
         "rawType": "object",
         "type": "string"
        },
        {
         "name": "Mean Age",
         "rawType": "float64",
         "type": "float"
        },
        {
         "name": "Mean Height (cm)",
         "rawType": "float64",
         "type": "float"
        },
        {
         "name": "Mean Weight (kg)",
         "rawType": "float64",
         "type": "float"
        },
        {
         "name": "Mean BMI",
         "rawType": "float64",
         "type": "float"
        },
        {
         "name": "Mean Systolic",
         "rawType": "float64",
         "type": "float"
        },
        {
         "name": "Mean Diastolic",
         "rawType": "float64",
         "type": "float"
        },
        {
         "name": "Count",
         "rawType": "int64",
         "type": "integer"
        },
        {
         "name": "Normal uACR %",
         "rawType": "float64",
         "type": "float"
        },
        {
         "name": "Abnormal uACR %",
         "rawType": "float64",
         "type": "float"
        },
        {
         "name": "High Abnormal uACR %",
         "rawType": "float64",
         "type": "float"
        }
       ],
       "ref": "e12c2a5d-37d7-4b1d-9f88-3491588f88d3",
       "rows": [
        [
         "Female",
         "51.2",
         "165.57",
         "81.31",
         "29.74",
         "136.8",
         "82.57",
         "540",
         "51.11",
         "43.89",
         "5.0"
        ],
        [
         "Male",
         "50.52",
         "166.12",
         "82.43",
         "29.97",
         "135.46",
         "82.8",
         "421",
         "60.33",
         "32.3",
         "7.36"
        ]
       ],
       "shape": {
        "columns": 10,
        "rows": 2
       }
      },
      "text/html": [
       "<div>\n",
       "<style scoped>\n",
       "    .dataframe tbody tr th:only-of-type {\n",
       "        vertical-align: middle;\n",
       "    }\n",
       "\n",
       "    .dataframe tbody tr th {\n",
       "        vertical-align: top;\n",
       "    }\n",
       "\n",
       "    .dataframe thead th {\n",
       "        text-align: right;\n",
       "    }\n",
       "</style>\n",
       "<table border=\"1\" class=\"dataframe\">\n",
       "  <thead>\n",
       "    <tr style=\"text-align: right;\">\n",
       "      <th></th>\n",
       "      <th>Mean Age</th>\n",
       "      <th>Mean Height (cm)</th>\n",
       "      <th>Mean Weight (kg)</th>\n",
       "      <th>Mean BMI</th>\n",
       "      <th>Mean Systolic</th>\n",
       "      <th>Mean Diastolic</th>\n",
       "      <th>Count</th>\n",
       "      <th>Normal uACR %</th>\n",
       "      <th>Abnormal uACR %</th>\n",
       "      <th>High Abnormal uACR %</th>\n",
       "    </tr>\n",
       "    <tr>\n",
       "      <th>Gender</th>\n",
       "      <th></th>\n",
       "      <th></th>\n",
       "      <th></th>\n",
       "      <th></th>\n",
       "      <th></th>\n",
       "      <th></th>\n",
       "      <th></th>\n",
       "      <th></th>\n",
       "      <th></th>\n",
       "      <th></th>\n",
       "    </tr>\n",
       "  </thead>\n",
       "  <tbody>\n",
       "    <tr>\n",
       "      <th>Female</th>\n",
       "      <td>51.20</td>\n",
       "      <td>165.57</td>\n",
       "      <td>81.31</td>\n",
       "      <td>29.74</td>\n",
       "      <td>136.80</td>\n",
       "      <td>82.57</td>\n",
       "      <td>540</td>\n",
       "      <td>51.11</td>\n",
       "      <td>43.89</td>\n",
       "      <td>5.00</td>\n",
       "    </tr>\n",
       "    <tr>\n",
       "      <th>Male</th>\n",
       "      <td>50.52</td>\n",
       "      <td>166.12</td>\n",
       "      <td>82.43</td>\n",
       "      <td>29.97</td>\n",
       "      <td>135.46</td>\n",
       "      <td>82.80</td>\n",
       "      <td>421</td>\n",
       "      <td>60.33</td>\n",
       "      <td>32.30</td>\n",
       "      <td>7.36</td>\n",
       "    </tr>\n",
       "  </tbody>\n",
       "</table>\n",
       "</div>"
      ],
      "text/plain": [
       "        Mean Age  Mean Height (cm)  Mean Weight (kg)  Mean BMI  Mean Systolic  \\\n",
       "Gender                                                                          \n",
       "Female     51.20            165.57             81.31     29.74         136.80   \n",
       "Male       50.52            166.12             82.43     29.97         135.46   \n",
       "\n",
       "        Mean Diastolic  Count  Normal uACR %  Abnormal uACR %  \\\n",
       "Gender                                                          \n",
       "Female           82.57    540          51.11            43.89   \n",
       "Male             82.80    421          60.33            32.30   \n",
       "\n",
       "        High Abnormal uACR %  \n",
       "Gender                        \n",
       "Female                  5.00  \n",
       "Male                    7.36  "
      ]
     },
     "execution_count": 30,
     "metadata": {},
     "output_type": "execute_result"
    }
   ],
   "source": [
    "gender_data = group_stats('Gender')\n",
    "gender_data"
   ]
  },
  {
   "cell_type": "markdown",
   "id": "a7553875-9e79-47f7-8287-903bcd36217c",
   "metadata": {},
   "source": [
    "This table shows that for comparable BMI and BP readings, females are at moderately increased risk of having abnormal uACR readings. This could be due to undertesting on the part of males or due to the naturally increased protein levels in the urine of females."
   ]
  },
  {
   "cell_type": "code",
   "execution_count": 31,
   "id": "6c57355e",
   "metadata": {},
   "outputs": [
    {
     "data": {
      "application/vnd.microsoft.datawrangler.viewer.v0+json": {
       "columns": [
        {
         "name": "Age_Category",
         "rawType": "object",
         "type": "string"
        },
        {
         "name": "Mean Age",
         "rawType": "float64",
         "type": "float"
        },
        {
         "name": "Mean Height (cm)",
         "rawType": "float64",
         "type": "float"
        },
        {
         "name": "Mean Weight (kg)",
         "rawType": "float64",
         "type": "float"
        },
        {
         "name": "Mean BMI",
         "rawType": "float64",
         "type": "float"
        },
        {
         "name": "Mean Systolic",
         "rawType": "float64",
         "type": "float"
        },
        {
         "name": "Mean Diastolic",
         "rawType": "float64",
         "type": "float"
        },
        {
         "name": "Count",
         "rawType": "int64",
         "type": "integer"
        },
        {
         "name": "Normal uACR %",
         "rawType": "float64",
         "type": "float"
        },
        {
         "name": "Abnormal uACR %",
         "rawType": "float64",
         "type": "float"
        },
        {
         "name": "High Abnormal uACR %",
         "rawType": "float64",
         "type": "float"
        }
       ],
       "ref": "52088f81-fe11-4884-ae99-c46d23c437fc",
       "rows": [
        [
         "<25",
         "21.8",
         "168.81",
         "74.43",
         "26.11",
         "126.37",
         "75.19",
         "52",
         "71.15",
         "28.85",
         "0.0"
        ],
        [
         "25-40",
         "33.32",
         "167.09",
         "79.95",
         "28.7",
         "127.67",
         "80.11",
         "157",
         "63.69",
         "28.66",
         "7.64"
        ],
        [
         "41-55",
         "48.45",
         "166.07",
         "84.44",
         "30.67",
         "136.43",
         "83.81",
         "354",
         "55.93",
         "39.83",
         "4.24"
        ],
        [
         "56-70",
         "61.02",
         "165.06",
         "81.79",
         "30.15",
         "139.54",
         "84.2",
         "327",
         "49.54",
         "43.73",
         "6.73"
        ],
        [
         ">70",
         "76.71",
         "162.97",
         "78.17",
         "29.56",
         "145.89",
         "81.03",
         "71",
         "46.48",
         "40.85",
         "12.68"
        ]
       ],
       "shape": {
        "columns": 10,
        "rows": 5
       }
      },
      "text/html": [
       "<div>\n",
       "<style scoped>\n",
       "    .dataframe tbody tr th:only-of-type {\n",
       "        vertical-align: middle;\n",
       "    }\n",
       "\n",
       "    .dataframe tbody tr th {\n",
       "        vertical-align: top;\n",
       "    }\n",
       "\n",
       "    .dataframe thead th {\n",
       "        text-align: right;\n",
       "    }\n",
       "</style>\n",
       "<table border=\"1\" class=\"dataframe\">\n",
       "  <thead>\n",
       "    <tr style=\"text-align: right;\">\n",
       "      <th></th>\n",
       "      <th>Mean Age</th>\n",
       "      <th>Mean Height (cm)</th>\n",
       "      <th>Mean Weight (kg)</th>\n",
       "      <th>Mean BMI</th>\n",
       "      <th>Mean Systolic</th>\n",
       "      <th>Mean Diastolic</th>\n",
       "      <th>Count</th>\n",
       "      <th>Normal uACR %</th>\n",
       "      <th>Abnormal uACR %</th>\n",
       "      <th>High Abnormal uACR %</th>\n",
       "    </tr>\n",
       "    <tr>\n",
       "      <th>Age_Category</th>\n",
       "      <th></th>\n",
       "      <th></th>\n",
       "      <th></th>\n",
       "      <th></th>\n",
       "      <th></th>\n",
       "      <th></th>\n",
       "      <th></th>\n",
       "      <th></th>\n",
       "      <th></th>\n",
       "      <th></th>\n",
       "    </tr>\n",
       "  </thead>\n",
       "  <tbody>\n",
       "    <tr>\n",
       "      <th>&lt;25</th>\n",
       "      <td>21.80</td>\n",
       "      <td>168.81</td>\n",
       "      <td>74.43</td>\n",
       "      <td>26.11</td>\n",
       "      <td>126.37</td>\n",
       "      <td>75.19</td>\n",
       "      <td>52</td>\n",
       "      <td>71.15</td>\n",
       "      <td>28.85</td>\n",
       "      <td>0.00</td>\n",
       "    </tr>\n",
       "    <tr>\n",
       "      <th>25-40</th>\n",
       "      <td>33.32</td>\n",
       "      <td>167.09</td>\n",
       "      <td>79.95</td>\n",
       "      <td>28.70</td>\n",
       "      <td>127.67</td>\n",
       "      <td>80.11</td>\n",
       "      <td>157</td>\n",
       "      <td>63.69</td>\n",
       "      <td>28.66</td>\n",
       "      <td>7.64</td>\n",
       "    </tr>\n",
       "    <tr>\n",
       "      <th>41-55</th>\n",
       "      <td>48.45</td>\n",
       "      <td>166.07</td>\n",
       "      <td>84.44</td>\n",
       "      <td>30.67</td>\n",
       "      <td>136.43</td>\n",
       "      <td>83.81</td>\n",
       "      <td>354</td>\n",
       "      <td>55.93</td>\n",
       "      <td>39.83</td>\n",
       "      <td>4.24</td>\n",
       "    </tr>\n",
       "    <tr>\n",
       "      <th>56-70</th>\n",
       "      <td>61.02</td>\n",
       "      <td>165.06</td>\n",
       "      <td>81.79</td>\n",
       "      <td>30.15</td>\n",
       "      <td>139.54</td>\n",
       "      <td>84.20</td>\n",
       "      <td>327</td>\n",
       "      <td>49.54</td>\n",
       "      <td>43.73</td>\n",
       "      <td>6.73</td>\n",
       "    </tr>\n",
       "    <tr>\n",
       "      <th>&gt;70</th>\n",
       "      <td>76.71</td>\n",
       "      <td>162.97</td>\n",
       "      <td>78.17</td>\n",
       "      <td>29.56</td>\n",
       "      <td>145.89</td>\n",
       "      <td>81.03</td>\n",
       "      <td>71</td>\n",
       "      <td>46.48</td>\n",
       "      <td>40.85</td>\n",
       "      <td>12.68</td>\n",
       "    </tr>\n",
       "  </tbody>\n",
       "</table>\n",
       "</div>"
      ],
      "text/plain": [
       "              Mean Age  Mean Height (cm)  Mean Weight (kg)  Mean BMI  \\\n",
       "Age_Category                                                           \n",
       "<25              21.80            168.81             74.43     26.11   \n",
       "25-40            33.32            167.09             79.95     28.70   \n",
       "41-55            48.45            166.07             84.44     30.67   \n",
       "56-70            61.02            165.06             81.79     30.15   \n",
       ">70              76.71            162.97             78.17     29.56   \n",
       "\n",
       "              Mean Systolic  Mean Diastolic  Count  Normal uACR %  \\\n",
       "Age_Category                                                        \n",
       "<25                  126.37           75.19     52          71.15   \n",
       "25-40                127.67           80.11    157          63.69   \n",
       "41-55                136.43           83.81    354          55.93   \n",
       "56-70                139.54           84.20    327          49.54   \n",
       ">70                  145.89           81.03     71          46.48   \n",
       "\n",
       "              Abnormal uACR %  High Abnormal uACR %  \n",
       "Age_Category                                         \n",
       "<25                     28.85                  0.00  \n",
       "25-40                   28.66                  7.64  \n",
       "41-55                   39.83                  4.24  \n",
       "56-70                   43.73                  6.73  \n",
       ">70                     40.85                 12.68  "
      ]
     },
     "execution_count": 31,
     "metadata": {},
     "output_type": "execute_result"
    }
   ],
   "source": [
    "age_data = group_stats('Age_Category').iloc[[3,0,1,2,4], :]\n",
    "age_data"
   ]
  },
  {
   "cell_type": "markdown",
   "id": "4c2a97cd-4003-4c17-9d77-04435c01ba80",
   "metadata": {},
   "source": [
    "Age is quite clearly an important risk factor for abnormal uACR readings (as BP readings also increase)"
   ]
  },
  {
   "cell_type": "code",
   "execution_count": 32,
   "id": "8fbd0b44",
   "metadata": {},
   "outputs": [
    {
     "data": {
      "application/vnd.microsoft.datawrangler.viewer.v0+json": {
       "columns": [
        {
         "name": "BP_Category",
         "rawType": "object",
         "type": "string"
        },
        {
         "name": "Mean Age",
         "rawType": "float64",
         "type": "float"
        },
        {
         "name": "Mean Height (cm)",
         "rawType": "float64",
         "type": "float"
        },
        {
         "name": "Mean Weight (kg)",
         "rawType": "float64",
         "type": "float"
        },
        {
         "name": "Mean BMI",
         "rawType": "float64",
         "type": "float"
        },
        {
         "name": "Mean Systolic",
         "rawType": "float64",
         "type": "float"
        },
        {
         "name": "Mean Diastolic",
         "rawType": "float64",
         "type": "float"
        },
        {
         "name": "Count",
         "rawType": "int64",
         "type": "integer"
        },
        {
         "name": "Normal uACR %",
         "rawType": "float64",
         "type": "float"
        },
        {
         "name": "Abnormal uACR %",
         "rawType": "float64",
         "type": "float"
        },
        {
         "name": "High Abnormal uACR %",
         "rawType": "float64",
         "type": "float"
        }
       ],
       "ref": "e3208f55-b515-4d0e-a651-e7d9d4128552",
       "rows": [
        [
         "NORMAL",
         "48.26",
         "165.7",
         "79.84",
         "29.16",
         "123.15",
         "75.95",
         "540",
         "58.89",
         "36.48",
         "4.63"
        ],
        [
         "PRE HPT",
         "53.67",
         "165.82",
         "83.43",
         "30.49",
         "144.04",
         "88.72",
         "156",
         "48.72",
         "44.87",
         "6.41"
        ],
        [
         "HPT 1",
         "53.57",
         "165.79",
         "84.34",
         "30.81",
         "151.25",
         "90.05",
         "197",
         "55.84",
         "37.06",
         "7.11"
        ],
        [
         "HPT 2",
         "58.33",
         "167.53",
         "86.83",
         "30.94",
         "174.63",
         "98.81",
         "59",
         "38.98",
         "47.46",
         "13.56"
        ],
        [
         "HPT CRISIS",
         "54.6",
         "161.84",
         "82.59",
         "31.43",
         "202.78",
         "113.67",
         "9",
         "33.33",
         "55.56",
         "11.11"
        ]
       ],
       "shape": {
        "columns": 10,
        "rows": 5
       }
      },
      "text/html": [
       "<div>\n",
       "<style scoped>\n",
       "    .dataframe tbody tr th:only-of-type {\n",
       "        vertical-align: middle;\n",
       "    }\n",
       "\n",
       "    .dataframe tbody tr th {\n",
       "        vertical-align: top;\n",
       "    }\n",
       "\n",
       "    .dataframe thead th {\n",
       "        text-align: right;\n",
       "    }\n",
       "</style>\n",
       "<table border=\"1\" class=\"dataframe\">\n",
       "  <thead>\n",
       "    <tr style=\"text-align: right;\">\n",
       "      <th></th>\n",
       "      <th>Mean Age</th>\n",
       "      <th>Mean Height (cm)</th>\n",
       "      <th>Mean Weight (kg)</th>\n",
       "      <th>Mean BMI</th>\n",
       "      <th>Mean Systolic</th>\n",
       "      <th>Mean Diastolic</th>\n",
       "      <th>Count</th>\n",
       "      <th>Normal uACR %</th>\n",
       "      <th>Abnormal uACR %</th>\n",
       "      <th>High Abnormal uACR %</th>\n",
       "    </tr>\n",
       "    <tr>\n",
       "      <th>BP_Category</th>\n",
       "      <th></th>\n",
       "      <th></th>\n",
       "      <th></th>\n",
       "      <th></th>\n",
       "      <th></th>\n",
       "      <th></th>\n",
       "      <th></th>\n",
       "      <th></th>\n",
       "      <th></th>\n",
       "      <th></th>\n",
       "    </tr>\n",
       "  </thead>\n",
       "  <tbody>\n",
       "    <tr>\n",
       "      <th>NORMAL</th>\n",
       "      <td>48.26</td>\n",
       "      <td>165.70</td>\n",
       "      <td>79.84</td>\n",
       "      <td>29.16</td>\n",
       "      <td>123.15</td>\n",
       "      <td>75.95</td>\n",
       "      <td>540</td>\n",
       "      <td>58.89</td>\n",
       "      <td>36.48</td>\n",
       "      <td>4.63</td>\n",
       "    </tr>\n",
       "    <tr>\n",
       "      <th>PRE HPT</th>\n",
       "      <td>53.67</td>\n",
       "      <td>165.82</td>\n",
       "      <td>83.43</td>\n",
       "      <td>30.49</td>\n",
       "      <td>144.04</td>\n",
       "      <td>88.72</td>\n",
       "      <td>156</td>\n",
       "      <td>48.72</td>\n",
       "      <td>44.87</td>\n",
       "      <td>6.41</td>\n",
       "    </tr>\n",
       "    <tr>\n",
       "      <th>HPT 1</th>\n",
       "      <td>53.57</td>\n",
       "      <td>165.79</td>\n",
       "      <td>84.34</td>\n",
       "      <td>30.81</td>\n",
       "      <td>151.25</td>\n",
       "      <td>90.05</td>\n",
       "      <td>197</td>\n",
       "      <td>55.84</td>\n",
       "      <td>37.06</td>\n",
       "      <td>7.11</td>\n",
       "    </tr>\n",
       "    <tr>\n",
       "      <th>HPT 2</th>\n",
       "      <td>58.33</td>\n",
       "      <td>167.53</td>\n",
       "      <td>86.83</td>\n",
       "      <td>30.94</td>\n",
       "      <td>174.63</td>\n",
       "      <td>98.81</td>\n",
       "      <td>59</td>\n",
       "      <td>38.98</td>\n",
       "      <td>47.46</td>\n",
       "      <td>13.56</td>\n",
       "    </tr>\n",
       "    <tr>\n",
       "      <th>HPT CRISIS</th>\n",
       "      <td>54.60</td>\n",
       "      <td>161.84</td>\n",
       "      <td>82.59</td>\n",
       "      <td>31.43</td>\n",
       "      <td>202.78</td>\n",
       "      <td>113.67</td>\n",
       "      <td>9</td>\n",
       "      <td>33.33</td>\n",
       "      <td>55.56</td>\n",
       "      <td>11.11</td>\n",
       "    </tr>\n",
       "  </tbody>\n",
       "</table>\n",
       "</div>"
      ],
      "text/plain": [
       "             Mean Age  Mean Height (cm)  Mean Weight (kg)  Mean BMI  \\\n",
       "BP_Category                                                           \n",
       "NORMAL          48.26            165.70             79.84     29.16   \n",
       "PRE HPT         53.67            165.82             83.43     30.49   \n",
       "HPT 1           53.57            165.79             84.34     30.81   \n",
       "HPT 2           58.33            167.53             86.83     30.94   \n",
       "HPT CRISIS      54.60            161.84             82.59     31.43   \n",
       "\n",
       "             Mean Systolic  Mean Diastolic  Count  Normal uACR %  \\\n",
       "BP_Category                                                        \n",
       "NORMAL              123.15           75.95    540          58.89   \n",
       "PRE HPT             144.04           88.72    156          48.72   \n",
       "HPT 1               151.25           90.05    197          55.84   \n",
       "HPT 2               174.63           98.81     59          38.98   \n",
       "HPT CRISIS          202.78          113.67      9          33.33   \n",
       "\n",
       "             Abnormal uACR %  High Abnormal uACR %  \n",
       "BP_Category                                         \n",
       "NORMAL                 36.48                  4.63  \n",
       "PRE HPT                44.87                  6.41  \n",
       "HPT 1                  37.06                  7.11  \n",
       "HPT 2                  47.46                 13.56  \n",
       "HPT CRISIS             55.56                 11.11  "
      ]
     },
     "execution_count": 32,
     "metadata": {},
     "output_type": "execute_result"
    }
   ],
   "source": [
    "bp_cat_data = group_stats('BP_Category').iloc[[3,4,0,1,2], :]\n",
    "bp_cat_data"
   ]
  },
  {
   "cell_type": "markdown",
   "id": "be2fcf9d-5979-4165-94b2-f8141f045098",
   "metadata": {},
   "source": [
    "High BP is a key contributor to abnormal uACR readings."
   ]
  },
  {
   "cell_type": "code",
   "execution_count": 33,
   "id": "70b833cb",
   "metadata": {},
   "outputs": [
    {
     "data": {
      "application/vnd.microsoft.datawrangler.viewer.v0+json": {
       "columns": [
        {
         "name": "Family_KD",
         "rawType": "object",
         "type": "string"
        },
        {
         "name": "Mean Age",
         "rawType": "float64",
         "type": "float"
        },
        {
         "name": "Mean Height (cm)",
         "rawType": "float64",
         "type": "float"
        },
        {
         "name": "Mean Weight (kg)",
         "rawType": "float64",
         "type": "float"
        },
        {
         "name": "Mean BMI",
         "rawType": "float64",
         "type": "float"
        },
        {
         "name": "Mean Systolic",
         "rawType": "float64",
         "type": "float"
        },
        {
         "name": "Mean Diastolic",
         "rawType": "float64",
         "type": "float"
        },
        {
         "name": "Count",
         "rawType": "int64",
         "type": "integer"
        },
        {
         "name": "Normal uACR %",
         "rawType": "float64",
         "type": "float"
        },
        {
         "name": "Abnormal uACR %",
         "rawType": "float64",
         "type": "float"
        },
        {
         "name": "High Abnormal uACR %",
         "rawType": "float64",
         "type": "float"
        }
       ],
       "ref": "c4a283c6-f264-46c8-b70a-48ed092e32bb",
       "rows": [
        [
         "Definitely not",
         "50.55",
         "165.4",
         "81.09",
         "29.72",
         "134.6",
         "82.09",
         "511",
         "51.47",
         "42.86",
         "5.68"
        ],
        [
         "Definitely yes",
         "50.8",
         "166.41",
         "80.62",
         "29.09",
         "135.81",
         "81.42",
         "36",
         "61.11",
         "30.56",
         "8.33"
        ],
        [
         "Not sure",
         "51.35",
         "166.27",
         "82.78",
         "30.06",
         "138.23",
         "83.5",
         "414",
         "59.18",
         "34.54",
         "6.28"
        ]
       ],
       "shape": {
        "columns": 10,
        "rows": 3
       }
      },
      "text/html": [
       "<div>\n",
       "<style scoped>\n",
       "    .dataframe tbody tr th:only-of-type {\n",
       "        vertical-align: middle;\n",
       "    }\n",
       "\n",
       "    .dataframe tbody tr th {\n",
       "        vertical-align: top;\n",
       "    }\n",
       "\n",
       "    .dataframe thead th {\n",
       "        text-align: right;\n",
       "    }\n",
       "</style>\n",
       "<table border=\"1\" class=\"dataframe\">\n",
       "  <thead>\n",
       "    <tr style=\"text-align: right;\">\n",
       "      <th></th>\n",
       "      <th>Mean Age</th>\n",
       "      <th>Mean Height (cm)</th>\n",
       "      <th>Mean Weight (kg)</th>\n",
       "      <th>Mean BMI</th>\n",
       "      <th>Mean Systolic</th>\n",
       "      <th>Mean Diastolic</th>\n",
       "      <th>Count</th>\n",
       "      <th>Normal uACR %</th>\n",
       "      <th>Abnormal uACR %</th>\n",
       "      <th>High Abnormal uACR %</th>\n",
       "    </tr>\n",
       "    <tr>\n",
       "      <th>Family_KD</th>\n",
       "      <th></th>\n",
       "      <th></th>\n",
       "      <th></th>\n",
       "      <th></th>\n",
       "      <th></th>\n",
       "      <th></th>\n",
       "      <th></th>\n",
       "      <th></th>\n",
       "      <th></th>\n",
       "      <th></th>\n",
       "    </tr>\n",
       "  </thead>\n",
       "  <tbody>\n",
       "    <tr>\n",
       "      <th>Definitely not</th>\n",
       "      <td>50.55</td>\n",
       "      <td>165.40</td>\n",
       "      <td>81.09</td>\n",
       "      <td>29.72</td>\n",
       "      <td>134.60</td>\n",
       "      <td>82.09</td>\n",
       "      <td>511</td>\n",
       "      <td>51.47</td>\n",
       "      <td>42.86</td>\n",
       "      <td>5.68</td>\n",
       "    </tr>\n",
       "    <tr>\n",
       "      <th>Definitely yes</th>\n",
       "      <td>50.80</td>\n",
       "      <td>166.41</td>\n",
       "      <td>80.62</td>\n",
       "      <td>29.09</td>\n",
       "      <td>135.81</td>\n",
       "      <td>81.42</td>\n",
       "      <td>36</td>\n",
       "      <td>61.11</td>\n",
       "      <td>30.56</td>\n",
       "      <td>8.33</td>\n",
       "    </tr>\n",
       "    <tr>\n",
       "      <th>Not sure</th>\n",
       "      <td>51.35</td>\n",
       "      <td>166.27</td>\n",
       "      <td>82.78</td>\n",
       "      <td>30.06</td>\n",
       "      <td>138.23</td>\n",
       "      <td>83.50</td>\n",
       "      <td>414</td>\n",
       "      <td>59.18</td>\n",
       "      <td>34.54</td>\n",
       "      <td>6.28</td>\n",
       "    </tr>\n",
       "  </tbody>\n",
       "</table>\n",
       "</div>"
      ],
      "text/plain": [
       "                Mean Age  Mean Height (cm)  Mean Weight (kg)  Mean BMI  \\\n",
       "Family_KD                                                                \n",
       "Definitely not     50.55            165.40             81.09     29.72   \n",
       "Definitely yes     50.80            166.41             80.62     29.09   \n",
       "Not sure           51.35            166.27             82.78     30.06   \n",
       "\n",
       "                Mean Systolic  Mean Diastolic  Count  Normal uACR %  \\\n",
       "Family_KD                                                             \n",
       "Definitely not         134.60           82.09    511          51.47   \n",
       "Definitely yes         135.81           81.42     36          61.11   \n",
       "Not sure               138.23           83.50    414          59.18   \n",
       "\n",
       "                Abnormal uACR %  High Abnormal uACR %  \n",
       "Family_KD                                              \n",
       "Definitely not            42.86                  5.68  \n",
       "Definitely yes            30.56                  8.33  \n",
       "Not sure                  34.54                  6.28  "
      ]
     },
     "execution_count": 33,
     "metadata": {},
     "output_type": "execute_result"
    }
   ],
   "source": [
    "fam_data = group_stats('Family_KD')\n",
    "fam_data"
   ]
  },
  {
   "cell_type": "markdown",
   "id": "ff02bd09-167a-49dc-b6b7-3cbba000d47d",
   "metadata": {},
   "source": [
    "There is a moderate increase in abnormal uACR readings in participants who definitely have a family history of kidney disease compared with those who do not. Readings are abit of a mixed bag for participants who are not sure. With that said, literature indicates that a troubling proportion of CKD cases in the UK go undiagnosed."
   ]
  },
  {
   "cell_type": "code",
   "execution_count": 34,
   "id": "8c26f035",
   "metadata": {},
   "outputs": [
    {
     "data": {
      "application/vnd.microsoft.datawrangler.viewer.v0+json": {
       "columns": [
        {
         "name": "BMI_Category",
         "rawType": "object",
         "type": "string"
        },
        {
         "name": "Mean Age",
         "rawType": "float64",
         "type": "float"
        },
        {
         "name": "Mean Height (cm)",
         "rawType": "float64",
         "type": "float"
        },
        {
         "name": "Mean Weight (kg)",
         "rawType": "float64",
         "type": "float"
        },
        {
         "name": "Mean BMI",
         "rawType": "float64",
         "type": "float"
        },
        {
         "name": "Mean Systolic",
         "rawType": "float64",
         "type": "float"
        },
        {
         "name": "Mean Diastolic",
         "rawType": "float64",
         "type": "float"
        },
        {
         "name": "Count",
         "rawType": "int64",
         "type": "integer"
        },
        {
         "name": "Normal uACR %",
         "rawType": "float64",
         "type": "float"
        },
        {
         "name": "Abnormal uACR %",
         "rawType": "float64",
         "type": "float"
        },
        {
         "name": "High Abnormal uACR %",
         "rawType": "float64",
         "type": "float"
        }
       ],
       "ref": "9cdf4851-1482-4539-b6f5-0735d213a843",
       "rows": [
        [
         "HEALTHY",
         "46.97",
         "169.2",
         "66.08",
         "23.01",
         "129.62",
         "78.53",
         "184",
         "63.59",
         "31.52",
         "4.89"
        ],
        [
         "OVERWEIGHT",
         "51.12",
         "166.88",
         "76.98",
         "27.57",
         "135.69",
         "82.35",
         "361",
         "57.06",
         "38.5",
         "4.43"
        ],
        [
         "OBESE",
         "52.45",
         "163.39",
         "92.94",
         "34.83",
         "139.57",
         "84.78",
         "416",
         "49.76",
         "42.31",
         "7.93"
        ]
       ],
       "shape": {
        "columns": 10,
        "rows": 3
       }
      },
      "text/html": [
       "<div>\n",
       "<style scoped>\n",
       "    .dataframe tbody tr th:only-of-type {\n",
       "        vertical-align: middle;\n",
       "    }\n",
       "\n",
       "    .dataframe tbody tr th {\n",
       "        vertical-align: top;\n",
       "    }\n",
       "\n",
       "    .dataframe thead th {\n",
       "        text-align: right;\n",
       "    }\n",
       "</style>\n",
       "<table border=\"1\" class=\"dataframe\">\n",
       "  <thead>\n",
       "    <tr style=\"text-align: right;\">\n",
       "      <th></th>\n",
       "      <th>Mean Age</th>\n",
       "      <th>Mean Height (cm)</th>\n",
       "      <th>Mean Weight (kg)</th>\n",
       "      <th>Mean BMI</th>\n",
       "      <th>Mean Systolic</th>\n",
       "      <th>Mean Diastolic</th>\n",
       "      <th>Count</th>\n",
       "      <th>Normal uACR %</th>\n",
       "      <th>Abnormal uACR %</th>\n",
       "      <th>High Abnormal uACR %</th>\n",
       "    </tr>\n",
       "    <tr>\n",
       "      <th>BMI_Category</th>\n",
       "      <th></th>\n",
       "      <th></th>\n",
       "      <th></th>\n",
       "      <th></th>\n",
       "      <th></th>\n",
       "      <th></th>\n",
       "      <th></th>\n",
       "      <th></th>\n",
       "      <th></th>\n",
       "      <th></th>\n",
       "    </tr>\n",
       "  </thead>\n",
       "  <tbody>\n",
       "    <tr>\n",
       "      <th>HEALTHY</th>\n",
       "      <td>46.97</td>\n",
       "      <td>169.20</td>\n",
       "      <td>66.08</td>\n",
       "      <td>23.01</td>\n",
       "      <td>129.62</td>\n",
       "      <td>78.53</td>\n",
       "      <td>184</td>\n",
       "      <td>63.59</td>\n",
       "      <td>31.52</td>\n",
       "      <td>4.89</td>\n",
       "    </tr>\n",
       "    <tr>\n",
       "      <th>OVERWEIGHT</th>\n",
       "      <td>51.12</td>\n",
       "      <td>166.88</td>\n",
       "      <td>76.98</td>\n",
       "      <td>27.57</td>\n",
       "      <td>135.69</td>\n",
       "      <td>82.35</td>\n",
       "      <td>361</td>\n",
       "      <td>57.06</td>\n",
       "      <td>38.50</td>\n",
       "      <td>4.43</td>\n",
       "    </tr>\n",
       "    <tr>\n",
       "      <th>OBESE</th>\n",
       "      <td>52.45</td>\n",
       "      <td>163.39</td>\n",
       "      <td>92.94</td>\n",
       "      <td>34.83</td>\n",
       "      <td>139.57</td>\n",
       "      <td>84.78</td>\n",
       "      <td>416</td>\n",
       "      <td>49.76</td>\n",
       "      <td>42.31</td>\n",
       "      <td>7.93</td>\n",
       "    </tr>\n",
       "  </tbody>\n",
       "</table>\n",
       "</div>"
      ],
      "text/plain": [
       "              Mean Age  Mean Height (cm)  Mean Weight (kg)  Mean BMI  \\\n",
       "BMI_Category                                                           \n",
       "HEALTHY          46.97            169.20             66.08     23.01   \n",
       "OVERWEIGHT       51.12            166.88             76.98     27.57   \n",
       "OBESE            52.45            163.39             92.94     34.83   \n",
       "\n",
       "              Mean Systolic  Mean Diastolic  Count  Normal uACR %  \\\n",
       "BMI_Category                                                        \n",
       "HEALTHY              129.62           78.53    184          63.59   \n",
       "OVERWEIGHT           135.69           82.35    361          57.06   \n",
       "OBESE                139.57           84.78    416          49.76   \n",
       "\n",
       "              Abnormal uACR %  High Abnormal uACR %  \n",
       "BMI_Category                                         \n",
       "HEALTHY                 31.52                  4.89  \n",
       "OVERWEIGHT              38.50                  4.43  \n",
       "OBESE                   42.31                  7.93  "
      ]
     },
     "execution_count": 34,
     "metadata": {},
     "output_type": "execute_result"
    }
   ],
   "source": [
    "bmi_data = group_stats('BMI_Category').iloc[[0,2,1], :]\n",
    "bmi_data"
   ]
  },
  {
   "cell_type": "markdown",
   "id": "fd75e2cc-8337-4db8-92a5-ea68cc3429ec",
   "metadata": {},
   "source": [
    "BMI is an important factor in determining one's risk of abnormal uACR readings."
   ]
  },
  {
   "cell_type": "code",
   "execution_count": 35,
   "id": "2762eebf-e0c0-4003-947f-4f9612df9711",
   "metadata": {},
   "outputs": [
    {
     "data": {
      "application/vnd.microsoft.datawrangler.viewer.v0+json": {
       "columns": [
        {
         "name": "Has_KD",
         "rawType": "bool",
         "type": "boolean"
        },
        {
         "name": "Mean Age",
         "rawType": "float64",
         "type": "float"
        },
        {
         "name": "Mean Height (cm)",
         "rawType": "float64",
         "type": "float"
        },
        {
         "name": "Mean Weight (kg)",
         "rawType": "float64",
         "type": "float"
        },
        {
         "name": "Mean BMI",
         "rawType": "float64",
         "type": "float"
        },
        {
         "name": "Mean Systolic",
         "rawType": "float64",
         "type": "float"
        },
        {
         "name": "Mean Diastolic",
         "rawType": "float64",
         "type": "float"
        },
        {
         "name": "Count",
         "rawType": "int64",
         "type": "integer"
        },
        {
         "name": "Normal uACR %",
         "rawType": "float64",
         "type": "float"
        },
        {
         "name": "Abnormal uACR %",
         "rawType": "float64",
         "type": "float"
        },
        {
         "name": "High Abnormal uACR %",
         "rawType": "float64",
         "type": "float"
        }
       ],
       "ref": "b34385c2-ceff-485a-965d-da738d64f941",
       "rows": [
        [
         "False",
         "50.83",
         "165.82",
         "81.86",
         "29.86",
         "136.16",
         "82.65",
         "945",
         "55.77",
         "38.52",
         "5.71"
        ],
        [
         "True",
         "55.22",
         "165.35",
         "78.48",
         "28.86",
         "139.25",
         "83.75",
         "16",
         "18.75",
         "56.25",
         "25.0"
        ]
       ],
       "shape": {
        "columns": 10,
        "rows": 2
       }
      },
      "text/html": [
       "<div>\n",
       "<style scoped>\n",
       "    .dataframe tbody tr th:only-of-type {\n",
       "        vertical-align: middle;\n",
       "    }\n",
       "\n",
       "    .dataframe tbody tr th {\n",
       "        vertical-align: top;\n",
       "    }\n",
       "\n",
       "    .dataframe thead th {\n",
       "        text-align: right;\n",
       "    }\n",
       "</style>\n",
       "<table border=\"1\" class=\"dataframe\">\n",
       "  <thead>\n",
       "    <tr style=\"text-align: right;\">\n",
       "      <th></th>\n",
       "      <th>Mean Age</th>\n",
       "      <th>Mean Height (cm)</th>\n",
       "      <th>Mean Weight (kg)</th>\n",
       "      <th>Mean BMI</th>\n",
       "      <th>Mean Systolic</th>\n",
       "      <th>Mean Diastolic</th>\n",
       "      <th>Count</th>\n",
       "      <th>Normal uACR %</th>\n",
       "      <th>Abnormal uACR %</th>\n",
       "      <th>High Abnormal uACR %</th>\n",
       "    </tr>\n",
       "    <tr>\n",
       "      <th>Has_KD</th>\n",
       "      <th></th>\n",
       "      <th></th>\n",
       "      <th></th>\n",
       "      <th></th>\n",
       "      <th></th>\n",
       "      <th></th>\n",
       "      <th></th>\n",
       "      <th></th>\n",
       "      <th></th>\n",
       "      <th></th>\n",
       "    </tr>\n",
       "  </thead>\n",
       "  <tbody>\n",
       "    <tr>\n",
       "      <th>False</th>\n",
       "      <td>50.83</td>\n",
       "      <td>165.82</td>\n",
       "      <td>81.86</td>\n",
       "      <td>29.86</td>\n",
       "      <td>136.16</td>\n",
       "      <td>82.65</td>\n",
       "      <td>945</td>\n",
       "      <td>55.77</td>\n",
       "      <td>38.52</td>\n",
       "      <td>5.71</td>\n",
       "    </tr>\n",
       "    <tr>\n",
       "      <th>True</th>\n",
       "      <td>55.22</td>\n",
       "      <td>165.35</td>\n",
       "      <td>78.48</td>\n",
       "      <td>28.86</td>\n",
       "      <td>139.25</td>\n",
       "      <td>83.75</td>\n",
       "      <td>16</td>\n",
       "      <td>18.75</td>\n",
       "      <td>56.25</td>\n",
       "      <td>25.00</td>\n",
       "    </tr>\n",
       "  </tbody>\n",
       "</table>\n",
       "</div>"
      ],
      "text/plain": [
       "        Mean Age  Mean Height (cm)  Mean Weight (kg)  Mean BMI  Mean Systolic  \\\n",
       "Has_KD                                                                          \n",
       "False      50.83            165.82             81.86     29.86         136.16   \n",
       "True       55.22            165.35             78.48     28.86         139.25   \n",
       "\n",
       "        Mean Diastolic  Count  Normal uACR %  Abnormal uACR %  \\\n",
       "Has_KD                                                          \n",
       "False            82.65    945          55.77            38.52   \n",
       "True             83.75     16          18.75            56.25   \n",
       "\n",
       "        High Abnormal uACR %  \n",
       "Has_KD                        \n",
       "False                   5.71  \n",
       "True                   25.00  "
      ]
     },
     "execution_count": 35,
     "metadata": {},
     "output_type": "execute_result"
    }
   ],
   "source": [
    "hkd_data = group_stats('Has_KD')\n",
    "hkd_data"
   ]
  },
  {
   "cell_type": "markdown",
   "id": "96f0e277-de94-473e-9305-b4246ef93ef2",
   "metadata": {},
   "source": [
    "Obviously, participants with kidney disease are far more likely to have abnormal uACR readings than those without it."
   ]
  },
  {
   "cell_type": "code",
   "execution_count": 36,
   "id": "e0f04e4e-c3f1-4093-89fc-99010f5b0842",
   "metadata": {},
   "outputs": [
    {
     "data": {
      "application/vnd.microsoft.datawrangler.viewer.v0+json": {
       "columns": [
        {
         "name": "Has_Diabetes",
         "rawType": "bool",
         "type": "boolean"
        },
        {
         "name": "Mean Age",
         "rawType": "float64",
         "type": "float"
        },
        {
         "name": "Mean Height (cm)",
         "rawType": "float64",
         "type": "float"
        },
        {
         "name": "Mean Weight (kg)",
         "rawType": "float64",
         "type": "float"
        },
        {
         "name": "Mean BMI",
         "rawType": "float64",
         "type": "float"
        },
        {
         "name": "Mean Systolic",
         "rawType": "float64",
         "type": "float"
        },
        {
         "name": "Mean Diastolic",
         "rawType": "float64",
         "type": "float"
        },
        {
         "name": "Count",
         "rawType": "int64",
         "type": "integer"
        },
        {
         "name": "Normal uACR %",
         "rawType": "float64",
         "type": "float"
        },
        {
         "name": "Abnormal uACR %",
         "rawType": "float64",
         "type": "float"
        },
        {
         "name": "High Abnormal uACR %",
         "rawType": "float64",
         "type": "float"
        }
       ],
       "ref": "1d1c74e0-9214-486b-9a62-07c19c9c6c3e",
       "rows": [
        [
         "False",
         "49.93",
         "166.26",
         "82.02",
         "29.77",
         "135.83",
         "82.84",
         "863",
         "56.78",
         "38.01",
         "5.21"
        ],
        [
         "True",
         "59.46",
         "161.89",
         "79.85",
         "30.46",
         "139.55",
         "81.11",
         "98",
         "40.82",
         "45.92",
         "13.27"
        ]
       ],
       "shape": {
        "columns": 10,
        "rows": 2
       }
      },
      "text/html": [
       "<div>\n",
       "<style scoped>\n",
       "    .dataframe tbody tr th:only-of-type {\n",
       "        vertical-align: middle;\n",
       "    }\n",
       "\n",
       "    .dataframe tbody tr th {\n",
       "        vertical-align: top;\n",
       "    }\n",
       "\n",
       "    .dataframe thead th {\n",
       "        text-align: right;\n",
       "    }\n",
       "</style>\n",
       "<table border=\"1\" class=\"dataframe\">\n",
       "  <thead>\n",
       "    <tr style=\"text-align: right;\">\n",
       "      <th></th>\n",
       "      <th>Mean Age</th>\n",
       "      <th>Mean Height (cm)</th>\n",
       "      <th>Mean Weight (kg)</th>\n",
       "      <th>Mean BMI</th>\n",
       "      <th>Mean Systolic</th>\n",
       "      <th>Mean Diastolic</th>\n",
       "      <th>Count</th>\n",
       "      <th>Normal uACR %</th>\n",
       "      <th>Abnormal uACR %</th>\n",
       "      <th>High Abnormal uACR %</th>\n",
       "    </tr>\n",
       "    <tr>\n",
       "      <th>Has_Diabetes</th>\n",
       "      <th></th>\n",
       "      <th></th>\n",
       "      <th></th>\n",
       "      <th></th>\n",
       "      <th></th>\n",
       "      <th></th>\n",
       "      <th></th>\n",
       "      <th></th>\n",
       "      <th></th>\n",
       "      <th></th>\n",
       "    </tr>\n",
       "  </thead>\n",
       "  <tbody>\n",
       "    <tr>\n",
       "      <th>False</th>\n",
       "      <td>49.93</td>\n",
       "      <td>166.26</td>\n",
       "      <td>82.02</td>\n",
       "      <td>29.77</td>\n",
       "      <td>135.83</td>\n",
       "      <td>82.84</td>\n",
       "      <td>863</td>\n",
       "      <td>56.78</td>\n",
       "      <td>38.01</td>\n",
       "      <td>5.21</td>\n",
       "    </tr>\n",
       "    <tr>\n",
       "      <th>True</th>\n",
       "      <td>59.46</td>\n",
       "      <td>161.89</td>\n",
       "      <td>79.85</td>\n",
       "      <td>30.46</td>\n",
       "      <td>139.55</td>\n",
       "      <td>81.11</td>\n",
       "      <td>98</td>\n",
       "      <td>40.82</td>\n",
       "      <td>45.92</td>\n",
       "      <td>13.27</td>\n",
       "    </tr>\n",
       "  </tbody>\n",
       "</table>\n",
       "</div>"
      ],
      "text/plain": [
       "              Mean Age  Mean Height (cm)  Mean Weight (kg)  Mean BMI  \\\n",
       "Has_Diabetes                                                           \n",
       "False            49.93            166.26             82.02     29.77   \n",
       "True             59.46            161.89             79.85     30.46   \n",
       "\n",
       "              Mean Systolic  Mean Diastolic  Count  Normal uACR %  \\\n",
       "Has_Diabetes                                                        \n",
       "False                135.83           82.84    863          56.78   \n",
       "True                 139.55           81.11     98          40.82   \n",
       "\n",
       "              Abnormal uACR %  High Abnormal uACR %  \n",
       "Has_Diabetes                                         \n",
       "False                   38.01                  5.21  \n",
       "True                    45.92                 13.27  "
      ]
     },
     "execution_count": 36,
     "metadata": {},
     "output_type": "execute_result"
    }
   ],
   "source": [
    "hdiabetes_data = group_stats('Has_Diabetes')\n",
    "hdiabetes_data"
   ]
  },
  {
   "cell_type": "markdown",
   "id": "298cc2b8-dac1-4643-9b5c-7e35247c9531",
   "metadata": {},
   "source": [
    "Diabetes is an important risk factor in the development and progression of kidney disease. This is as a result of the gradual damage diabetes causes to the kidneys over time."
   ]
  },
  {
   "cell_type": "markdown",
   "id": "21024af4-b249-44ec-b8ed-585f7b905fdd",
   "metadata": {},
   "source": [
    "## **Data Visualisations**"
   ]
  },
  {
   "cell_type": "code",
   "execution_count": 37,
   "id": "a3ebd60b-1bad-4a41-bd0f-4f0339cd48a2",
   "metadata": {},
   "outputs": [
    {
     "data": {
      "application/vnd.plotly.v1+json": {
       "config": {
        "plotlyServerURL": "https://plot.ly"
       },
       "data": [
        {
         "marker": {
          "color": "DarkOrange"
         },
         "name": "Age",
         "nbinsx": 23,
         "type": "histogram",
         "visible": true,
         "x": {
          "bdata": "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",
          "dtype": "f8"
         },
         "xaxis": "x2",
         "yaxis": "y2"
        },
        {
         "boxpoints": "all",
         "hoveron": "points",
         "jitter": 0,
         "marker": {
          "color": "DarkOrange",
          "symbol": "line-ns-open"
         },
         "name": "Age",
         "type": "box",
         "visible": true,
         "x": {
          "bdata": "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",
          "dtype": "f8"
         },
         "xaxis": "x",
         "yaxis": "y"
        },
        {
         "marker": {
          "color": "DarkOrange"
         },
         "name": "Height",
         "nbinsx": 37,
         "type": "histogram",
         "visible": false,
         "x": {
          "bdata": "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",
          "dtype": "f8"
         },
         "xaxis": "x2",
         "yaxis": "y2"
        },
        {
         "boxpoints": "all",
         "hoveron": "points",
         "jitter": 0,
         "marker": {
          "color": "DarkOrange",
          "symbol": "line-ns-open"
         },
         "name": "Height",
         "type": "box",
         "visible": false,
         "x": {
          "bdata": "AAAAAAAgZEAAAAAAAGBkQAAAAAAA4GRAAAAAAAAAZUAAAAAAAGBnQAAAAAAAwGVAAAAAAACAZEAAAAAAAFBkQM3MzMzMHGVAAAAAAABAZEAAAAAAACBlQAAAAAAAQGRAAAAAAACAZUAAAAAAAIBkQAAAAAAAQGNAAAAAAADgYkAAAAAAAOBjQAAAAAAAQGVAAAAAAAAAZEAAAAAAAGBlQAAAAAAA4GNAAAAAAAAAZUAAAAAAAABkQAAAAAAAoGRAAAAAAABwZEAAAAAAAKBmQDMzMzMzU2RAmpmZmZkZZUAAAAAAAOBkQAAAAAAA4GNAAAAAAABgZ0AAAAAAAMBmQAAAAAAAMGRAmpmZmZlpZEDNzMzMzNxjQAAAAAAA4GRAAAAAAAAwZkAAAAAAAKBkQAAAAAAAoGRAAAAAAACgY0AAAAAAACBjQAAAAAAAIGVAAAAAAABgZEAAAAAAAOBkQAAAAAAAIGNAAAAAAADgZEAAAAAAACBlQAAAAAAAgGRAAAAAAABAZkAAAAAAAOBjQAAAAAAAsGVAAAAAAAAAZkAAAAAAAMBjQAAAAAAAkGVAAAAAAAB4Y0AAAAAAAKBkQAAAAAAAQGRAAAAAAAAAZUAAAAAAAIBkQAAAAAAAQGNAAAAAAABAZUAAAAAAAIBjQM3MzMzMjGNAAAAAAAAAZkAAAAAAAABmQAAAAAAA4GNAAAAAAADAY0AAAAAAAABnQAAAAAAA4GNAAAAAAACQY0AAAAAAAOBjQAAAAAAAAGRAAAAAAADgZUAAAAAAAMBjQAAAAAAAAGRAAAAAAACgY0AAAAAAAKBjQAAAAAAAYGNAAAAAAAAgZUAAAAAAADBkQAAAAAAAwGNAAAAAAADwYkAAAAAAAIBmQAAAAAAAwGNAAAAAAADAY0AAAAAAAEBmQAAAAAAAQGRAAAAAAAAAZUAAAAAAAIBkQI/C9Shcr2NAAAAAAABAY0AAAAAAACBlQAAAAAAAIGRAAAAAAAAgZEAAAAAAAFBkQAAAAAAAsGRAAAAAAACgYkAAAAAAAGBmQAAAAAAAgGZAAAAAAAAgZEAAAAAAACBlQAAAAAAAwGNAAAAAAACAZEAAAAAAALBmQAAAAAAAIGZAAAAAAAAgZEAAAAAAAKBkQAAAAAAAYGNAAAAAAABAZEAAAAAAAOBkQAAAAAAAIGdAAAAAAADgY0AAAAAAAIBjQM3MzMzMzGNAAAAAAACgZUAAAAAAAOBlQJqZmZmZaWRAAAAAAAAAZEAAAAAAAIBjQAAAAAAAwGZAAAAAAADgY0AzMzMzM7NjQDMzMzMzM2VAAAAAAABgY0AAAAAAAABjQAAAAAAAwGVAAAAAAACgYkAAAAAAAMBjQAAAAAAAoGJAAAAAAADgY0AAAAAAAABlQAAAAAAAQGNAAAAAAAAAZkAAAAAAAPBjQAAAAAAAgGVAAAAAAAAQZ0AAAAAAAKBjQAAAAAAAgGZAAAAAAADgZkAAAAAAAOBmQAAAAAAA4GVAzczMzMxcY0AAAAAAAEBjQAAAAAAAYGVAAAAAAAAwZEAAAAAAAGBjQAAAAAAAYGNAAAAAAADAYkAAAAAAAPBmQAAAAAAAQGJAMzMzMzMzZUAAAAAAAEBlQAAAAAAAwGJAAAAAAACgYkAAAAAAACBjQAAAAAAAwGNAAAAAAAAAZUAAAAAAAOBkQAAAAAAAUGRAAAAAAACAY0AzMzMzM1NkQAAAAAAAIGRAAAAAAACAZUAAAAAAAEBjQAAAAAAAAGRAAAAAAAAAZEDNzMzMzFxlQAAAAAAAgGNAAAAAAADwZEAAAAAAABBnQAAAAAAA4GNAAAAAAAAgZUBmZmZmZmZkQDMzMzMz42RAAAAAAADwZUAAAAAAAIBmQDMzMzMzY2VAAAAAAADQZ0AAAAAAALBkQAAAAAAAQGVAMzMzMzODZUAAAAAAAIBjQAAAAAAAEGRAzczMzMwcZUAAAAAAAJBkQAAAAAAAQGVAmpmZmZnpZkDNzMzMzKxkQJqZmZmZmWRAmpmZmZn5Y0AAAAAAAOBkQAAAAAAAgGRAZmZmZmb2YkAAAAAAAJBkQAAAAAAAkGRAAAAAAACAY0AAAAAAABBjQM3MzMzMHGRAMzMzMzODZUDNzMzMzOxkQGZmZmZmdmNAAAAAAAAAZEBmZmZmZqZjQAAAAAAAIGZAAAAAAAAQZEAzMzMzM3NlQDMzMzMzM2RAAAAAAACAZUAAAAAAAIBjQM3MzMzMbGdAAAAAAADwY0BmZmZmZoZjQDMzMzMzE2VAAAAAAADgY0AzMzMzMxNlQAAAAAAA4GJAZmZmZmamZUBmZmZmZiZkQAAAAAAAAGRAAAAAAABQZEAAAAAAAABlQAAAAAAAIGNAAAAAAADwZkAzMzMzM0NlQAAAAAAAkGNAUrgehetRZEAAAAAAAEBkQM3MzMzMbGNAAAAAAACgY0AAAAAAAPBiQM3MzMzM3GNAZmZmZmaWZUAAAAAAABBjQDMzMzMzU2RAzczMzMyMY0AAAAAAAIBjQAAAAAAAUGRAzczMzMycZUAAAAAAAEBmQAAAAAAAIGRAAAAAAADAYkCamZmZmfllQAAAAAAA8GRAMzMzMzNzZEAAAAAAABBlQJqZmZmZKWRAzczMzMwsY0DNzMzMzFxkQAAAAAAAwGJAAAAAAACgZEDNzMzMzIxjQDMzMzMzs2NAZmZmZmaGZkAAAAAAAKBjQGZmZmZmhmVAmpmZmZmpYkAAAAAAAOBkQAAAAAAAkGNAAAAAAAAgZEAAAAAAAEBlQAAAAAAAYGRAAAAAAABAZUAAAAAAAOBkQAAAAAAAAGRAAAAAAAAAZEAAAAAAAMBkQAAAAAAAwGNAzczMzMycZEAAAAAAAIBlQAAAAAAAYGVAAAAAAAAwZ0AAAAAAANBkQAAAAAAAIGZAAAAAAABAZEAAAAAAACBlQAAAAAAAgGVAAAAAAACgZUDNzMzMzFxkQAAAAAAA4GRAmpmZmZl5ZEAAAAAAACBlQAAAAAAAwGhAAAAAAADgZEAAAAAAAMBjQAAAAAAAYGVAAAAAAADgZEAAAAAAAABlQAAAAAAAUGRAAAAAAADgZUAAAAAAACBlQAAAAAAAMGVAAAAAAABwZkAAAAAAAMBjQAAAAAAAgGNAAAAAAACgZEAAAAAAAEBmQAAAAAAA4GRAAAAAAAAAYkAAAAAAAIBkQAAAAAAAkGZAAAAAAADgYkBmZmZmZsZlQAAAAAAA4GRAAAAAAADgY0AAAAAAACBkQAAAAAAAYGVAAAAAAACwY0DNzMzMzPxlQAAAAAAAoGRAMzMzMzOjZUBmZmZmZjZlQAAAAAAAQGNAAAAAAABAY0AAAAAAAKBkQAAAAAAAoGRAAAAAAADgZEAzMzMzM7NlQAAAAAAAsGNAAAAAAAAAZ0AAAAAAAABkQAAAAAAA4GNAAAAAAAAAZEBmZmZmZqZkQAAAAAAAsGRAAAAAAADAZUAAAAAAAGBlQAAAAAAAYGVAAAAAAACAZkAAAAAAAHBkQAAAAAAAwGRAMzMzMzPzZEAAAAAAAEBkQAAAAAAAQGNAAAAAAACAYkAAAAAAAOBlQAAAAAAAUGNAAAAAAACgZEAAAAAAANBkQAAAAAAAgGVAAAAAAACgY0AAAAAAAGBjQAAAAAAAkGVAAAAAAACgZkAAAAAAAABlQAAAAAAAwGVAAAAAAAAgZEBmZmZmZnZkQAAAAAAAgGZAAAAAAACAZUAAAAAAAKBmQAAAAAAAYGRAAAAAAADAZkAAAAAAAMBlQAAAAAAAMGVAAAAAAAAAZkAAAAAAAGBlQAAAAAAA4GVAAAAAAAAgZEAAAAAAAABkQAAAAAAAEGNAAAAAAABAZkAAAAAAAGBkQAAAAAAAcGRAAAAAAAAQZkAAAAAAAFBkQAAAAAAAQGZAAAAAAADgZUAAAAAAACBjQAAAAAAAAGRAZmZmZmamZEAAAAAAAOBlQAAAAAAAYGVAAAAAAAAgZEAAAAAAAIBjQAAAAAAAIGZAzczMzMwsZ0AAAAAAAMBjQAAAAAAAEGVAzczMzMxcZ0AAAAAAAABmQAAAAAAAIGVAAAAAAAAAZUAAAAAAAKBkQAAAAAAAIGRAAAAAAACgZUAAAAAAAMBkQAAAAAAAQGRAAAAAAADQY0AAAAAAAIBkQAAAAAAAAGdAAAAAAAAAZUAAAAAAAABmQAAAAAAAwGNAAAAAAACgZUAAAAAAAABnQAAAAAAAoGVAAAAAAACAZUAAAAAAAMBiQAAAAAAAoGRAAAAAAACAY0BmZmZmZkZlQGZmZmZmVmVAAAAAAABgZEAAAAAAAIBjQAAAAAAAUGRAAAAAAABAZUAAAAAAAMBkQAAAAAAA4GVAAAAAAADgYkAAAAAAAOBlQAAAAAAAYGVAmpmZmZnpY0AAAAAAAIBlQAAAAAAAIGNAAAAAAABAZ0BmZmZmZiZkQAAAAAAA4GRAAAAAAAAgY0AAAAAAAMBjQAAAAAAA4GNAAAAAAAAgZEAAAAAAAOBkQAAAAAAAUGZAAAAAAAAgZ0AAAAAAABBlQAAAAAAA0GNAAAAAAAAgZ0AAAAAAAGBjQAAAAAAAQGNAAAAAAACgYUAAAAAAAIBlQI/C9Shcr2NAAAAAAACAYkAAAAAAAOBkQAAAAAAAwGVAmpmZmZmJZECamZmZmXllQAAAAAAAoGNAAAAAAAAQY0AAAAAAAPBmQAAAAAAAYGhAAAAAAADgZEAAAAAAAKBkQM3MzMzMjGdAAAAAAABAZUAzMzMzM8NjQAAAAAAAgGZAAAAAAACgY0AAAAAAACBmQAAAAAAAgGNAAAAAAABAZUAAAAAAAIBmQAAAAAAAYGNAAAAAAADgZUAAAAAAAABlQGZmZmZmpmVAmpmZmZkJZEAAAAAAAABmQGZmZmZm5mJAAAAAAAAwZEAAAAAAAFBlQAAAAAAAoGNAAAAAAAAgZUAzMzMzM2NjQAAAAAAAAGRAAAAAAABAZEAAAAAAAIBkQAAAAAAA4GNAAAAAAAAgZUAAAAAAAOBkQAAAAAAAYGVAAAAAAADgYkAAAAAAANBlQAAAAAAA4GZAAAAAAAAwZkAAAAAAAJBkQAAAAAAA4GJAAAAAAAAgZUAAAAAAAIBjQAAAAAAA4GNAZmZmZmaGZEAAAAAAAOBkQAAAAAAAgGNAAAAAAAAwZEAAAAAAAGBlQAAAAAAAIGRAAAAAAADAZEAAAAAAABBkQAAAAAAAQGVAAAAAAACAZEAAAAAAAHBmQAAAAAAAQGZAAAAAAABAZkAAAAAAAEBmQAAAAAAAwGVAAAAAAAAgZEAAAAAAAGBlQAAAAAAAQGNAAAAAAAAAZUAAAAAAACBmQAAAAAAAIGVAAAAAAABAZUAAAAAAAIBjQDMzMzMz82RAAAAAAACgY0AAAAAAAEBjQAAAAAAAAGZAAAAAAABwZEDNzMzMzIxmQAAAAAAAYGNAAAAAAACwY0AAAAAAABBjQAAAAAAAAGRAAAAAAACwZEAAAAAAAGBlQAAAAAAAAGVAmpmZmZmpZUDNzMzMzExkQM3MzMzM/GRAmpmZmZlZZEAAAAAAACBkQJqZmZmZyWVAAAAAAABAZEAAAAAAAIBkQDMzMzMz42JAzczMzMycZkAzMzMzM1NlQAAAAAAA4GRAAAAAAADwZUAzMzMzM+NjQAAAAAAA4GVAzczMzMzcZUAAAAAAAOBjQAAAAAAAoGRAAAAAAAAwZEAAAAAAAGBoQAAAAAAAAGVAAAAAAACAZEAAAAAAAGBjQAAAAAAAQGVAAAAAAABgY0AAAAAAACBjQAAAAAAA4GNAAAAAAADAY0AAAAAAAEBlQAAAAAAAQGVAzczMzMzsZEAAAAAAAKBkQAAAAAAAgGRAAAAAAAAgY0AAAAAAAABlQAAAAAAAIGZAAAAAAADAY0AAAAAAALBkQM3MzMzMzGRAMzMzMzMjZUAAAAAAACBlQAAAAAAAQGVAZmZmZmaWZEDNzMzMzMxjQAAAAAAAcGVAAAAAAADQZUAAAAAAAKBkQDMzMzMzk2RAAAAAAAAAZkAAAAAAAGBnQAAAAAAAsGRAAAAAAAAgZUAAAAAAAEBjQAAAAAAAgGJAAAAAAACgY0AAAAAAAFBkQAAAAAAAEGRAAAAAAADAY0DNzMzMzIxkQAAAAAAAEGNAAAAAAADAZkAAAAAAAEBkQAAAAAAAYGRAAAAAAACAY0AAAAAAAIBmQAAAAAAAYGRAAAAAAABAZEAAAAAAABBmQAAAAAAAIGRAAAAAAACQZUCamZmZmSllQM3MzMzMPGRAAAAAAADgY0AAAAAAAJBkQAAAAAAA4GVAAAAAAACQZEBmZmZmZkZkQAAAAAAAoGRAMzMzMzODZEAAAAAAADBkQAAAAAAAIGRAZmZmZmaWZEAAAAAAAABkQAAAAAAAQGNAAAAAAABgZUAAAAAAAGBmQAAAAAAAoGVAAAAAAADAYkAAAAAAAOBkQAAAAAAAgGRAAAAAAACAZEAzMzMzMyNmQAAAAAAAQGVAAAAAAADAYkAAAAAAACBjQAAAAAAA4FtAAAAAAABgZkBmZmZmZpZkQGZmZmZmJmVAmpmZmZlZZUAAAAAAANBmQGZmZmZmZmJAAAAAAACAZECamZmZmTllQAAAAAAAEGNAmpmZmZk5ZUBmZmZmZhZmQAAAAAAAAGZAAAAAAADgZEAAAAAAAFBlQAAAAAAAQGRAAAAAAAAwY0AAAAAAAEBjQAAAAAAAAGNAzczMzMycZ0AAAAAAAMBjQAAAAAAAIGZAAAAAAACAZEAAAAAAACBkQAAAAAAAIGNAAAAAAAAgZ0AAAAAAAHBkQAAAAAAAMGRAAAAAAACAZEAAAAAAAJBkQAAAAAAA0GRAAAAAAACgZEBmZmZmZmZkQAAAAAAAgGRAAAAAAACAY0AAAAAAAABlQAAAAAAAQGVAAAAAAAAgZEAAAAAAAJBjQM3MzMzM7GNAAAAAAAAgZUAAAAAAACBkQAAAAAAAAGVAZmZmZma2ZUAAAAAAAFBkQAAAAAAAIGVAAAAAAABAZkAAAAAAANBlQAAAAAAAEGNAAAAAAAAgZUAAAAAAAOBkQAAAAAAAYGVAMzMzMzNTZUDNzMzMzAxkQAAAAAAAoGRAAAAAAABAZUCamZmZmblkQAAAAAAAgGNAAAAAAACgZEAAAAAAADBlQM3MzMzMHGdAAAAAAADAZUDNzMzMzDxmQAAAAAAA4GNAAAAAAAAQZEAAAAAAAEBlQM3MzMzM/GVAAAAAAACQY0AAAAAAAEBmQAAAAAAAEGNAAAAAAAAwZkAAAAAAANBjQAAAAAAAQGZAAAAAAADwZkAAAAAAALBmQAAAAAAAgGNAAAAAAAAQZkCamZmZmSllQAAAAAAAQGRAAAAAAACgY0AAAAAAAMBjQAAAAAAAQGRAAAAAAADgZEAAAAAAAPBlQAAAAAAAoGRAAAAAAADgYkAAAAAAALBjQAAAAAAA4GRAAAAAAACgZkAAAAAAAGBmQJqZmZmZmWVAAAAAAAAQZUAAAAAAALBkQGZmZmZmVmVAAAAAAACgY0AAAAAAAGBlQAAAAAAAAGRAAAAAAAAAZEAAAAAAAIBiQAAAAAAAsGVAAAAAAABgZEAAAAAAAGBmQAAAAAAAMGVAAAAAAADgZEAAAAAAAEBkQBSuR+F69GRAAAAAAABAZEAAAAAAAMBjQAAAAAAAYGVAAAAAAACwZEAAAAAAAFBkQAAAAAAAAGVAAAAAAACgZkAAAAAAAOBjQAAAAAAAAGRAAAAAAAAAZkAAAAAAAMBnQAAAAAAAAGRAAAAAAABAZUAAAAAAAOBkQI/C9Shcr2NAAAAAAADgZEDNzMzMzExjQAAAAAAAAGRAAAAAAAAAY0AAAAAAAKBkQAAAAAAAQGVAAAAAAADAZEAAAAAAAKBjQAAAAAAAgGRAAAAAAABgY0CamZmZmVlkQAAAAAAAgGVAzczMzMxcaECamZmZmQlkQAAAAAAAMGVAAAAAAADQZUAAAAAAAKBkQAAAAAAAAGRAAAAAAACgZEAAAAAAAKBlQAAAAAAAYGdAAAAAAACAZEAAAAAAAIBkQAAAAAAAQGVAAAAAAADgY0AAAAAAAIBmQAAAAAAA4GNAAAAAAAAQZUDNzMzMzNxkQAAAAAAA4GZAAAAAAABQZkDNzMzMzExkQAAAAAAA4GNAAAAAAABAZUAAAAAAAMBlQAAAAAAAMGZAAAAAAADgZkCamZmZmUlnQAAAAAAAUGZAzczMzMxcZUAzMzMzM1NlQAAAAAAAwGVAMzMzMzMzZUAAAAAAAKBkQAAAAAAAUGVAAAAAAADAY0AAAAAAAOBjQAAAAAAA0GNAmpmZmZmpZUAAAAAAAFBlQAAAAAAAAGRAAAAAAACAY0AAAAAAALBkQAAAAAAAgGVAAAAAAAAAZ0AAAAAAALBjQAAAAAAAQGVAAAAAAABQZkAAAAAAACBkQAAAAAAAEGNAAAAAAABgYUAAAAAAAKBkQAAAAAAAYGNAmpmZmZk5ZkAAAAAAALBlQAAAAAAA8GJAAAAAAACwZEDNzMzMzFxlQAAAAAAAMGNAAAAAAAAgZUAAAAAAAHBkQAAAAAAAwGNAMzMzMzNDY0AzMzMzM/NkQGZmZmZmVmVAAAAAAADAZEAAAAAAAMBmQAAAAAAAEGVAAAAAAACQZEAAAAAAANBjQAAAAAAAwGNAAAAAAAAAZkAAAAAAAMBiQM3MzMzMzGNAAAAAAAAAZUAAAAAAANBiQAAAAAAA8GVAAAAAAADwZUAAAAAAAOBkQM3MzMzMrGRAAAAAAAAAZ0BmZmZmZmZlQAAAAAAA4GJAAAAAAADQZEBmZmZmZsZkQAAAAAAAEGRAAAAAAABwZkAAAAAAAABkQAAAAAAA0GNAAAAAAAAQZUAAAAAAAKBkQAAAAAAAAGVAAAAAAAAAZECamZmZmZllQAAAAAAAsGNAAAAAAAAAZUAAAAAAAKBkQAAAAAAAMGRAZmZmZmZGZUAAAAAAABBkQAAAAAAAcGRAAAAAAAAAZUAAAAAAAOBkQAAAAAAA4GVAAAAAAACgY0AAAAAAADBlQAAAAAAAoGRAAAAAAAAgZUAzMzMzM/NkQAAAAAAAAGRAAAAAAABAZEAzMzMzM/NkQJqZmZmZOWRAAAAAAADQZUAAAAAAAEBkQAAAAAAAsGNAAAAAAACAZUAAAAAAAJBlQAAAAAAAkGNAAAAAAACgZEAAAAAAAGBjQAAAAAAA4GRAAAAAAAAAY0AAAAAAAOBlQAAAAAAAoGJAAAAAAACAY0AAAAAAAOBjQAAAAAAAEGVAAAAAAACAZkAAAAAAAEBlQAAAAAAAoGNAAAAAAAAAY0AAAAAAAKBkQAAAAAAAgGZAAAAAAAAQZUAAAAAAAHBkQAAAAAAAMGVAAAAAAAAgZ0AAAAAAACBkQAAAAAAAYGZAAAAAAACAZEBmZmZmZoZlQAAAAAAAQGRAAAAAAAAgZUAAAAAAAMBjQAAAAAAAoGRAAAAAAADgZEAAAAAAAEBlQAAAAAAAgGRAAAAAAABQY0AzMzMzM5NkQDMzMzMzI2VAAAAAAADgZEAAAAAAAKBlQDMzMzMzk2RAAAAAAAAgZEAAAAAAAABkQAAAAAAAQGVAAAAAAACgZEAAAAAAACBkQAAAAAAAIGRAAAAAAADAY0AAAAAAABBkQAAAAAAAQGVAAAAAAAAAZkAAAAAAAEBlQAAAAAAAoGRAAAAAAABgZEAAAAAAAEBlQAAAAAAAgGZAAAAAAACgZUAAAAAAAPBjQAAAAAAAwGRAAAAAAAAAY0AAAAAAACBlQAAAAAAAQGRAAAAAAADgZUAAAAAAACBlQAAAAAAAQGVAAAAAAAAgZUAAAAAAAGBmQAAAAAAAwGNAAAAAAABgZ0AAAAAAAOBjQAAAAAAA0GZAAAAAAADQZUAAAAAAAMBkQAAAAAAAUGRAAAAAAADAY0BmZmZmZhZmQAAAAAAA4GZAAAAAAACgZkAAAAAAAGBkQAAAAAAAoGZAAAAAAACwY0AAAAAAABBlQAAAAAAAYGdAAAAAAACgZEDNzMzMzCxkQDMzMzMzY2VAMzMzMzODY0AAAAAAAGBmQM3MzMzMHGVAzczMzMz8Y0AAAAAAAHBkQAAAAAAAAGNAzczMzMycY0AAAAAAAJBjQDMzMzMzY2NAAAAAAADgZEAAAAAAAMBkQJqZmZmZ+WNAzczMzMz8Y0CamZmZmXljQM3MzMzMvGRAmpmZmZn5ZUBmZmZmZiZlQAAAAAAAcGNAAAAAAADgZEA=",
          "dtype": "f8"
         },
         "xaxis": "x",
         "yaxis": "y"
        },
        {
         "marker": {
          "color": "DarkOrange"
         },
         "name": "Weight",
         "nbinsx": 34,
         "type": "histogram",
         "visible": false,
         "x": {
          "bdata": "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",
          "dtype": "f8"
         },
         "xaxis": "x2",
         "yaxis": "y2"
        },
        {
         "boxpoints": "all",
         "hoveron": "points",
         "jitter": 0,
         "marker": {
          "color": "DarkOrange",
          "symbol": "line-ns-open"
         },
         "name": "Weight",
         "type": "box",
         "visible": false,
         "x": {
          "bdata": "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",
          "dtype": "f8"
         },
         "xaxis": "x",
         "yaxis": "y"
        },
        {
         "marker": {
          "color": "DarkOrange"
         },
         "name": "BMI",
         "nbinsx": 31,
         "type": "histogram",
         "visible": false,
         "x": {
          "bdata": "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",
          "dtype": "f8"
         },
         "xaxis": "x2",
         "yaxis": "y2"
        },
        {
         "boxpoints": "all",
         "hoveron": "points",
         "jitter": 0,
         "marker": {
          "color": "DarkOrange",
          "symbol": "line-ns-open"
         },
         "name": "BMI",
         "type": "box",
         "visible": false,
         "x": {
          "bdata": "MzMzMzOzOEBmZmZmZmY9QM3MzMzMTEBAzczMzMzMPkAzMzMzMzM/QJqZmZmZ2UJAAAAAAACAREAAAAAAAAA9QAAAAAAAAEBAZmZmZmZmOEAAAAAAAIA7QAAAAAAAADhAzczMzMwMQECamZmZmRk3QDMzMzMzszxAMzMzMzOzPkAzMzMzM7M3QAAAAAAAAD9AAAAAAAAAN0CamZmZmRk5QAAAAAAAgDZAAAAAAAAAOEAAAAAAAIA3QM3MzMzMTDlAZmZmZmbmPUDNzMzMzEw+QGZmZmZmZjZAMzMzMzOzPkDNzMzMzEw7QJqZmZmZGT5AZmZmZmbmPEAzMzMzMzM4QJqZmZmZmTxAmpmZmZmZQECamZmZmZk9QDMzMzMzMz9AmpmZmZkZQ0DNzMzMzEw6QM3MzMzMTDpAZmZmZmbmQUBmZmZmZmY6QDMzMzMzc0BAMzMzMzMzPUAzMzMzMzM/QJqZmZmZmTxAZmZmZmZmPUDNzMzMzAxBQM3MzMzMzD1AmpmZmZkZPkCamZmZmZk/QM3MzMzMTDhAZmZmZmZmPUAzMzMzM3NBQGZmZmZm5jRAMzMzMzNzQkCamZmZmVlAQAAAAAAAAD1AAAAAAAAAPUDNzMzMzEw8QAAAAAAAADtAzczMzMzMOkAAAAAAAAA7QAAAAAAAAEVAAAAAAAAAQEAAAAAAAIA9QDMzMzMzMzRAZmZmZmZmOEAzMzMzM7M3QJqZmZmZGT5AMzMzMzMzSEBmZmZmZmZBQM3MzMzMzDdAzczMzMzMOkAzMzMzM3NBQJqZmZmZGThAMzMzMzNzQkAzMzMzM3NCQAAAAAAAADpAAAAAAACAOUCamZmZmRk+QAAAAAAAgDNAzczMzMzMM0DNzMzMzEw6QJqZmZmZmTVAMzMzMzNzQUAzMzMzMzM6QM3MzMzMjENAAAAAAAAAQUAAAAAAAAA/QDMzMzMzM0dAmpmZmZlZQUCamZmZmdlGQDMzMzMzMzpAAAAAAAAAOUBmZmZmZmY6QDMzMzMzsz9AMzMzMzNzQkAAAAAAAIA2QJqZmZmZWUFAzczMzMwMQkDNzMzMzEw8QAAAAAAAgEhAzczMzMxMOUDNzMzMzEw7QGZmZmZm5jdAzczMzMzMOUAAAAAAAAA9QM3MzMzMzEBAzczMzMzMPEBmZmZmZmY+QGZmZmZm5jpAAAAAAAAAOkAAAAAAAIA7QJqZmZmZGTtAMzMzMzNzQEAzMzMzM3NBQGZmZmZmpkVAmpmZmZmZOkBmZmZmZmY1QJqZmZmZGTxAAAAAAAAAQEAAAAAAAEBEQJqZmZmZGTZAAAAAAABAQEDNzMzMzMw8QAAAAAAAAEBAAAAAAAAAPkAzMzMzMzM9QDMzMzMzMzlAMzMzMzOzOUAAAAAAAIA/QM3MzMzMzDZAmpmZmZmZQUCamZmZmRk+QAAAAAAAgDtAmpmZmZkZO0DNzMzMzMw8QJqZmZmZGTdAzczMzMzMOEDNzMzMzMw4QGZmZmZmZjdAAAAAAAAAPEAzMzMzM7M5QJqZmZmZGT1AAAAAAAAAOUAzMzMzMzM1QAAAAAAAAD5AZmZmZmZmPUDNzMzMzMw4QM3MzMzMTDlAZmZmZmbmPkBmZmZmZuY3QJqZmZmZGT1AZmZmZmbmN0AzMzMzM7NDQDMzMzMzMzxAmpmZmZmZPECamZmZmRlAQAAAAAAAgD1AZmZmZmZmQUDNzMzMzEw+QDMzMzMzMzxAzczMzMzMOUAAAAAAAIA4QDMzMzMzMzhAmpmZmZkZOEAzMzMzMzM/QGZmZmZmZj5AzczMzMxMQECamZmZmRk8QDMzMzMzsz9AmpmZmZkZOEDNzMzMzMw5QDMzMzMzMzpAzczMzMzMNkCamZmZmZk7QJqZmZmZGTxAzczMzMyMQEAAAAAAAMBBQDMzMzMzM0RAmpmZmZmZO0DNzMzMzIxFQJqZmZmZmUBAmpmZmZkZO0BmZmZmZmY8QDMzMzMzMzhAAAAAAACANUDNzMzMzEw/QDMzMzMzsz5AMzMzMzNzQEAzMzMzMzM/QAAAAAAAAD9AAAAAAADAQUAAAAAAAMBDQJqZmZmZmUBAzczMzMxMO0AAAAAAAIA3QDMzMzMzszxAzczMzMzMPEAzMzMzMzM+QDMzMzMzM0VAzczMzMzMPUCamZmZmZlCQAAAAAAAADpAzczMzMyMQ0BmZmZmZmZEQM3MzMzMzEJAZmZmZmZmOkAzMzMzM3NAQDMzMzMzMzRAMzMzMzNzRECamZmZmRlBQGZmZmZm5jlAmpmZmZkZPkCamZmZmdlAQGZmZmZmZj1AmpmZmZkZNEAzMzMzMzM+QDMzMzMzMzxAAAAAAACAQUCamZmZmZlAQM3MzMzMzD9AAAAAAAAAPkBmZmZmZiZBQJqZmZmZmURAzczMzMzMOUBmZmZmZmY9QAAAAAAAAEBAMzMzMzNzQUDNzMzMzMw+QAAAAAAAgEJAzczMzMzMOEBmZmZmZuZFQDMzMzMzs0JAzczMzMwMQEAzMzMzMzM/QGZmZmZmJkBAZmZmZmZmPECamZmZmZk5QDMzMzMzM0VAzczMzMzMPUAzMzMzM7M2QJqZmZmZGTxAMzMzMzMzOECamZmZmRlGQM3MzMzMjENAAAAAAABAQ0CamZmZmVlAQJqZmZmZWUFAAAAAAAAARECamZmZmVlBQJqZmZmZGTxAzczMzMxMPUDNzMzMzIxBQJqZmZmZGT1AMzMzMzOzRkAAAAAAAEBAQM3MzMzMjEJAMzMzMzMzP0DNzMzMzEw5QJqZmZmZGT5AAAAAAAAAPEDNzMzMzEw9QJqZmZmZmT9AMzMzMzPzQUDNzMzMzMw9QJqZmZmZ2UFAMzMzMzMzP0DNzMzMzEw2QJqZmZmZmTdAZmZmZmbmQkAzMzMzMzM/QJqZmZmZmT1AzczMzMxMR0AAAAAAAIBAQGZmZmZm5j9AMzMzMzOzO0AAAAAAAIBAQAAAAAAAADxAmpmZmZkZP0AzMzMzMzM5QM3MzMzMTDNAzczMzMxMO0CamZmZmZk5QGZmZmZm5jdAZmZmZmZmOkAAAAAAAIA5QM3MzMzMDEJAzczMzMxMP0DNzMzMzAxCQM3MzMzMTDlAZmZmZmYmQEBmZmZmZqZAQJqZmZmZWURAZmZmZmbmN0DNzMzMzEw5QM3MzMzMTD1AMzMzMzOzO0AzMzMzM7M6QJqZmZmZmTtAZmZmZmZmQkBmZmZmZmY+QAAAAAAAgEBAZmZmZmbmPkDNzMzMzMw5QAAAAAAAwEBAAAAAAACAP0DNzMzMzAxDQAAAAAAAgD1AmpmZmZkZOEAAAAAAAIA2QDMzMzMzc0BAmpmZmZmZO0BmZmZmZmY9QAAAAAAAAENAzczMzMzMP0CamZmZmRk7QGZmZmZmZj1AzczMzMzMP0AzMzMzMzNCQJqZmZmZWURAMzMzMzMzQEAAAAAAAMBBQM3MzMzMDEFAMzMzMzNzQEAzMzMzM7M8QAAAAAAAgD1AZmZmZmZmOUAAAAAAAAA8QJqZmZmZGT5AAAAAAACAPEDNzMzMzAxEQAAAAAAAAEFAzczMzMxMPUDNzMzMzMw6QDMzMzMzc0BAMzMzMzOzPEDNzMzMzMw6QGZmZmZm5kJAZmZmZmbmNUDNzMzMzMw+QJqZmZmZGUBAmpmZmZkZN0AzMzMzM7M8QGZmZmZmZjpAzczMzMwMT0BmZmZmZmY3QAAAAAAAADlAzczMzMyMQkDNzMzMzEw9QGZmZmZm5jlAzczMzMzMOEAzMzMzMzNBQJqZmZmZGTpAzczMzMzMOkAzMzMzMzM7QDMzMzMzMzhAAAAAAAAAO0CamZmZmRk+QGZmZmZm5jhAmpmZmZkZOUCamZmZmZk8QDMzMzMzs0BAzczMzMxMO0BmZmZmZmY2QDMzMzMzsz1AZmZmZmZmPUDNzMzMzEw7QDMzMzMzs0FAmpmZmZmZOUDNzMzMzMwzQJqZmZmZmTdAzczMzMyMQUBmZmZmZmY8QGZmZmZmZjdAmpmZmZnZQEDNzMzMzAxEQM3MzMzMzEBAZmZmZmZmN0AAAAAAAAA9QM3MzMzMjENAzczMzMxMPkAzMzMzM7M8QGZmZmZmZjtAZmZmZmZmOUAAAAAAAMBBQJqZmZmZGT5AmpmZmZkZOUAzMzMzM7M2QAAAAAAAAEFAAAAAAACAP0BmZmZmZuZCQAAAAAAAADpAzczMzMzMM0AzMzMzMzM/QJqZmZmZmUNAZmZmZmbmQEBmZmZmZuZCQM3MzMzMzENAmpmZmZlZREBmZmZmZmZAQM3MzMzMzDdAMzMzMzOzPUDNzMzMzExAQDMzMzMzMz1AmpmZmZkZPUAzMzMzMzM9QAAAAAAAADhAzczMzMxMPkBmZmZmZuY8QAAAAAAAADtAmpmZmZmZOEBmZmZmZuY/QJqZmZmZ2UBAzczMzMxMOkBmZmZmZmY6QDMzMzMzMz9AmpmZmZnZQEAzMzMzM7M+QJqZmZmZmUFAMzMzMzMzP0DNzMzMzEw3QAAAAAAAADtAMzMzMzOzPUAAAAAAAIA/QJqZmZmZGTlAmpmZmZkZN0DNzMzMzExCQAAAAAAAgEFAmpmZmZlZQEBmZmZmZuY9QGZmZmZmJkFAAAAAAACAPUBmZmZmZmY9QM3MzMzMzDZAZmZmZmbmOUCamZmZmdlAQM3MzMzMDEJAzczMzMzMPEDNzMzMzAxDQAAAAAAAgDhAAAAAAAAANkDNzMzMzEw8QJqZmZmZmTlAAAAAAAAAOkAzMzMzM7M8QM3MzMzMTDlAZmZmZmZmOUBmZmZmZmY+QDMzMzMzMz1AZmZmZmbmOEDNzMzMzEw5QDMzMzMzsz9AMzMzMzMzNkBmZmZmZqZAQM3MzMzMzD1AzczMzMzMN0DNzMzMzMw6QJqZmZmZGT1AmpmZmZmZQECamZmZmZk9QM3MzMzMzDdAmpmZmZmZPkAzMzMzMzM/QM3MzMzMTDVAmpmZmZkZNkAAAAAAAAA9QGZmZmZm5j5AMzMzMzOzO0AzMzMzMzM/QDMzMzMzsztAAAAAAADAQUDNzMzMzEw1QDMzMzMzMzlAMzMzMzMzOEAAAAAAAIBDQGZmZmZmpkNAZmZmZmbmN0BmZmZmZmZIQDMzMzMz80JAzczMzMzMN0AzMzMzM7M5QDMzMzMzc0FAzczMzMwMQUDNzMzMzMw+QJqZmZmZ2UBAmpmZmZkZNECamZmZmRk/QM3MzMzMTEFAmpmZmZmZPECamZmZmRk7QAAAAAAAAD5AMzMzMzMzO0DNzMzMzEw6QAAAAAAAgDVAzczMzMzMO0BmZmZmZmY+QAAAAAAAgD1AmpmZmZmZO0DNzMzMzMw/QGZmZmZmZj5AMzMzMzMzOEAAAAAAAIA7QDMzMzMzszpAMzMzMzMzP0BmZmZmZuY9QJqZmZmZmTxAMzMzMzPzQEAAAAAAAIA9QM3MzMzMzEJAmpmZmZlZQEAAAAAAAABBQJqZmZmZmT9AMzMzMzOzNUCamZmZmRk9QAAAAAAAADdAzczMzMzMOkAzMzMzM7M3QAAAAAAAwEBAAAAAAACAN0AAAAAAAIA7QDMzMzMzsz1AMzMzMzOzPUDNzMzMzEw0QJqZmZmZWUBAmpmZmZkZPECamZmZmRk6QAAAAAAAQEBAMzMzMzPzQUBmZmZmZmZAQJqZmZmZmUtAmpmZmZmZOEAAAAAAAAA8QAAAAAAAgDtAzczMzMxMOEAzMzMzMzM5QM3MzMzMzD5AZmZmZmbmPkAzMzMzMzM6QAAAAAAAgD9AZmZmZmZmPkAAAAAAAIA3QJqZmZmZ2UFAMzMzMzMzOUBmZmZmZuY4QAAAAAAAgDZAzczMzMxMQECamZmZmVlAQAAAAAAAADpAMzMzMzNzQ0AAAAAAAIA6QM3MzMzMzD9AZmZmZmZmPEAzMzMzM3NBQJqZmZmZmUJAzczMzMxMPEDNzMzMzMxAQM3MzMzMDEBAAAAAAACAPUDNzMzMzMw9QDMzMzMzMzhAMzMzMzOzO0BmZmZmZuY3QDMzMzMzc0NAZmZmZmZmQEDNzMzMzMw2QJqZmZmZGTVAzczMzMwMQUAAAAAAAAA/QGZmZmZm5kRAmpmZmZmZP0DNzMzMzMw1QDMzMzMzsz1AMzMzMzMzQUAzMzMzMzM8QM3MzMzMzDtAMzMzMzMzQUCamZmZmZlDQJqZmZmZWUBAMzMzMzMzQ0DNzMzMzEw9QAAAAAAAgD5AmpmZmZmZQ0DNzMzMzExAQGZmZmZm5jtAZmZmZmZmO0AAAAAAAIA9QAAAAAAAAEBAAAAAAABAQ0CamZmZmRk8QM3MzMzMTDVAAAAAAACAO0AAAAAAAAA7QGZmZmZm5jlAMzMzMzOzQEAAAAAAAEBBQDMzMzMzMz9AMzMzMzOzPkCamZmZmZlAQAAAAAAAgEBAzczMzMzMOEDNzMzMzMxCQM3MzMzMzDhAMzMzMzMzN0DNzMzMzMw+QGZmZmZmJkBAzczMzMzMOkDNzMzMzEw4QAAAAAAAwEBAMzMzMzMzPEAAAAAAAAA8QGZmZmZmJk5AAAAAAAAAPUAAAAAAAIA9QGZmZmZmZjVAmpmZmZkZPEAzMzMzM7M9QJqZmZmZmTlAmpmZmZkZPkDNzMzMzMw0QDMzMzMzs0BAzczMzMzMNEAAAAAAAAA4QM3MzMzMzEFAzczMzMzMPUCamZmZmZk6QJqZmZmZ2UZAZmZmZmbmPEAzMzMzM3NAQM3MzMzMzD1AzczMzMzMN0AzMzMzMzM5QGZmZmZmZj9AAAAAAAAAOkDNzMzMzMw7QM3MzMzMzD1AMzMzMzMzNkBmZmZmZmY2QM3MzMzMzDpAMzMzMzPzQUBmZmZmZmY/QDMzMzMzszdAZmZmZmZmP0CamZmZmRk+QDMzMzMzsztAmpmZmZnZQUAAAAAAAIA/QAAAAAAAgDpAZmZmZmbmO0DNzMzMzIxAQGZmZmZm5kBAAAAAAAAAPECamZmZmRk+QJqZmZmZmTxAAAAAAAAANUBmZmZmZuZCQM3MzMzMTEBAZmZmZmZmPUDNzMzMzMw2QDMzMzMzs0BAZmZmZmZmQUAzMzMzMzM6QAAAAAAAgD5AMzMzMzOzQ0AzMzMzM7M1QAAAAAAAAEJAMzMzMzMzOUAAAAAAAABBQDMzMzMzc0BAZmZmZmbmN0CamZmZmRk7QDMzMzMzszZAMzMzMzMzPUAzMzMzMzM8QDMzMzMzs0BAzczMzMzMP0CamZmZmRk/QAAAAAAAgDpAMzMzMzMzO0AAAAAAAIA3QAAAAAAAADtAZmZmZmbmOkBmZmZmZuY9QGZmZmZmZjxAzczMzMxMOkBmZmZmZuY4QM3MzMzMzD5AMzMzMzOzQEAAAAAAAIA5QDMzMzMz80JAMzMzMzMzPkCamZmZmRk3QAAAAAAAgDxAAAAAAACAP0DNzMzMzEw4QGZmZmZm5jdAZmZmZmZmP0AzMzMzM/NAQM3MzMzMTDtAAAAAAACAO0AzMzMzM7M3QM3MzMzMTEBAmpmZmZmZNUBmZmZmZuZCQDMzMzMzszlAMzMzMzOzOECamZmZmRk/QDMzMzMzM0BAAAAAAAAAQUCamZmZmRlBQJqZmZmZmTpAmpmZmZkZPkCamZmZmZk6QDMzMzMz80BAAAAAAACAOUAAAAAAAIA5QAAAAAAAADtAAAAAAADAQECamZmZmZk7QM3MzMzMTDhAAAAAAAAAP0DNzMzMzAxHQAAAAAAAgDNAZmZmZmbmNkAAAAAAAEBCQJqZmZmZGT5AmpmZmZkZPECamZmZmRk9QGZmZmZm5kRAAAAAAACAN0AAAAAAAAA8QJqZmZmZmUBAzczMzMxMPEAzMzMzM3NFQDMzMzMzMzdAMzMzMzPzSUAzMzMzM7M8QJqZmZmZmT5AzczMzMzMOUDNzMzMzMw+QGZmZmZmZkBAmpmZmZkZO0AzMzMzM7M4QDMzMzMzMzxAMzMzMzOzPUCamZmZmZk7QAAAAAAAgDpAzczMzMxMOECamZmZmZk9QAAAAAAAwEJAmpmZmZmZPkBmZmZmZmY6QM3MzMzMDEFAzczMzMzMN0CamZmZmRk7QAAAAAAAQEpAzczMzMxMQUBmZmZmZqZCQJqZmZmZGUFAZmZmZmbmOUDNzMzMzMw4QAAAAAAAADRAMzMzMzMzPEDNzMzMzEw+QGZmZmZmZkFAZmZmZmZmPEBmZmZmZiZCQM3MzMzMTDtAAAAAAACAOEAzMzMzM7M6QDMzMzMzMzxAMzMzMzMzOUAzMzMzM7NAQGZmZmZmpkBAzczMzMzMN0CamZmZmRk8QDMzMzMzMzZAmpmZmZmZQECamZmZmRlFQDMzMzMzM0VAmpmZmZmZOkAAAAAAAAA+QAAAAAAAwEJAZmZmZmZmOUCamZmZmZk4QAAAAAAAQEFAzczMzMxMO0AzMzMzMzM+QM3MzMzMzDdAZmZmZmbmN0AAAAAAAAA5QDMzMzMzMzxAAAAAAACASEAzMzMzM7NBQAAAAAAAAERAZmZmZmbmOkBmZmZmZuY9QJqZmZmZGTxAmpmZmZkZPUCamZmZmRk5QJqZmZmZmT9AmpmZmZkZO0AAAAAAAIA4QAAAAAAAADhAzczMzMzMPUBmZmZmZqZEQDMzMzMzMzhAMzMzMzOzPEAzMzMzMzM4QM3MzMzMzD9AMzMzMzMzPUBmZmZmZuZAQAAAAAAAADZAAAAAAACAO0BmZmZmZuZAQGZmZmZm5jdAMzMzMzOzPEAAAAAAAABCQGZmZmZmZj1AZmZmZmZmPUAAAAAAAAA4QDMzMzMzc0BAmpmZmZmZOkDNzMzMzEw+QGZmZmZm5jxAZmZmZmbmREBmZmZmZuY+QM3MzMzMzEFAzczMzMxMO0BmZmZmZuY8QGZmZmZm5kRAMzMzMzOzOEAzMzMzM7M5QGZmZmZm5kJAMzMzMzOzO0CamZmZmZkzQJqZmZmZGTtAmpmZmZnZRkBmZmZmZuY3QDMzMzMzM0JAMzMzMzMzOkAzMzMzM7M8QGZmZmZmZjxAmpmZmZkZPkAAAAAAAAA8QJqZmZmZGTpAMzMzMzPzQUAAAAAAAIA8QDMzMzMzszlAAAAAAAAANUBmZmZmZmY1QDMzMzMzM0BAZmZmZmYmQUDNzMzMzEw6QJqZmZmZmTxAmpmZmZmZOkAAAAAAAABEQAAAAAAAADdAmpmZmZmZNkAzMzMzMzM5QJqZmZmZmT5AMzMzMzMzP0AAAAAAAIAzQJqZmZmZWUNAzczMzMzMNEBmZmZmZuY4QDMzMzMz80RAMzMzMzMzOEDNzMzMzEw7QJqZmZmZmTdAAAAAAACAQECamZmZmZk5QAAAAAAAgDdAMzMzMzPzRkAAAAAAAABCQDMzMzMzMzZAAAAAAACAO0CamZmZmRk5QJqZmZmZGThAAAAAAAAAM0AzMzMzMzM6QGZmZmZmZjdAZmZmZmbmQkDNzMzMzEw8QJqZmZmZmTdAMzMzMzOzPUDNzMzMzMw6QDMzMzMzszlAzczMzMxMQEAAAAAAAAA7QJqZmZmZGT5AmpmZmZlZQ0BmZmZmZuZFQM3MzMzMzD5AzczMzMyMQUBmZmZmZmY8QM3MzMzMDEBAMzMzMzMzNUAAAAAAAAA3QJqZmZmZGT9AzczMzMxMPUDNzMzMzEw9QGZmZmZmZjxAZmZmZmZmPkDNzMzMzAxDQDMzMzMzsztAzczMzMxMPUDNzMzMzMw1QAAAAAAAADZAAAAAAADAQEBmZmZmZmY8QGZmZmZmZjxAmpmZmZmZOEBmZmZmZuY8QGZmZmZmZj9AZmZmZmYmQEAzMzMzMzM5QGZmZmZm5jlAMzMzMzMzN0AzMzMzM3NAQJqZmZmZWUJAzczMzMzMPkAzMzMzM7M3QJqZmZmZmT1AzczMzMzMO0DNzMzMzEw7QGZmZmZmZjdAZmZmZmamQECamZmZmZk5QM3MzMzMTDxAAAAAAAAAPkAzMzMzM7MzQGZmZmZm5jdAAAAAAAAANEAAAAAAAIA4QDMzMzMzM0BAZmZmZmYmQUBmZmZmZmY6QM3MzMzMjEFAZmZmZmbmPkCamZmZmZk5QJqZmZmZmTdAMzMzMzOzQEBmZmZmZmY8QJqZmZmZGTpAAAAAAABAQkCamZmZmRk5QAAAAAAAgENAmpmZmZkZOUBmZmZmZuY6QJqZmZmZWUVAAAAAAACANUCamZmZmZk+QJqZmZmZ2UZAmpmZmZlZQEAAAAAAAIBMQGZmZmZm5jlAZmZmZmamQUAAAAAAAABAQGZmZmZm5jpAMzMzMzMzP0A=",
          "dtype": "f8"
         },
         "xaxis": "x",
         "yaxis": "y"
        },
        {
         "marker": {
          "color": "DarkOrange"
         },
         "name": "Systolic",
         "nbinsx": 35,
         "type": "histogram",
         "visible": false,
         "x": {
          "bdata": "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",
          "dtype": "f8"
         },
         "xaxis": "x2",
         "yaxis": "y2"
        },
        {
         "boxpoints": "all",
         "hoveron": "points",
         "jitter": 0,
         "marker": {
          "color": "DarkOrange",
          "symbol": "line-ns-open"
         },
         "name": "Systolic",
         "type": "box",
         "visible": false,
         "x": {
          "bdata": "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",
          "dtype": "f8"
         },
         "xaxis": "x",
         "yaxis": "y"
        },
        {
         "marker": {
          "color": "DarkOrange"
         },
         "name": "Diastolic",
         "nbinsx": 33,
         "type": "histogram",
         "visible": false,
         "x": {
          "bdata": "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",
          "dtype": "f8"
         },
         "xaxis": "x2",
         "yaxis": "y2"
        },
        {
         "boxpoints": "all",
         "hoveron": "points",
         "jitter": 0,
         "marker": {
          "color": "DarkOrange",
          "symbol": "line-ns-open"
         },
         "name": "Diastolic",
         "type": "box",
         "visible": false,
         "x": {
          "bdata": "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",
          "dtype": "f8"
         },
         "xaxis": "x",
         "yaxis": "y"
        }
       ],
       "layout": {
        "annotations": [
         {
          "align": "left",
          "showarrow": false,
          "text": "Feature:",
          "x": -0.2,
          "xref": "paper",
          "y": 1,
          "yref": "paper"
         }
        ],
        "autosize": false,
        "bargap": 0.15,
        "height": 400,
        "margin": {
         "b": 20,
         "l": 20,
         "r": 20,
         "t": 50
        },
        "showlegend": false,
        "template": {
         "data": {
          "bar": [
           {
            "error_x": {
             "color": "#2a3f5f"
            },
            "error_y": {
             "color": "#2a3f5f"
            },
            "marker": {
             "line": {
              "color": "#E5ECF6",
              "width": 0.5
             },
             "pattern": {
              "fillmode": "overlay",
              "size": 10,
              "solidity": 0.2
             }
            },
            "type": "bar"
           }
          ],
          "barpolar": [
           {
            "marker": {
             "line": {
              "color": "#E5ECF6",
              "width": 0.5
             },
             "pattern": {
              "fillmode": "overlay",
              "size": 10,
              "solidity": 0.2
             }
            },
            "type": "barpolar"
           }
          ],
          "carpet": [
           {
            "aaxis": {
             "endlinecolor": "#2a3f5f",
             "gridcolor": "white",
             "linecolor": "white",
             "minorgridcolor": "white",
             "startlinecolor": "#2a3f5f"
            },
            "baxis": {
             "endlinecolor": "#2a3f5f",
             "gridcolor": "white",
             "linecolor": "white",
             "minorgridcolor": "white",
             "startlinecolor": "#2a3f5f"
            },
            "type": "carpet"
           }
          ],
          "choropleth": [
           {
            "colorbar": {
             "outlinewidth": 0,
             "ticks": ""
            },
            "type": "choropleth"
           }
          ],
          "contour": [
           {
            "colorbar": {
             "outlinewidth": 0,
             "ticks": ""
            },
            "colorscale": [
             [
              0,
              "#0d0887"
             ],
             [
              0.1111111111111111,
              "#46039f"
             ],
             [
              0.2222222222222222,
              "#7201a8"
             ],
             [
              0.3333333333333333,
              "#9c179e"
             ],
             [
              0.4444444444444444,
              "#bd3786"
             ],
             [
              0.5555555555555556,
              "#d8576b"
             ],
             [
              0.6666666666666666,
              "#ed7953"
             ],
             [
              0.7777777777777778,
              "#fb9f3a"
             ],
             [
              0.8888888888888888,
              "#fdca26"
             ],
             [
              1,
              "#f0f921"
             ]
            ],
            "type": "contour"
           }
          ],
          "contourcarpet": [
           {
            "colorbar": {
             "outlinewidth": 0,
             "ticks": ""
            },
            "type": "contourcarpet"
           }
          ],
          "heatmap": [
           {
            "colorbar": {
             "outlinewidth": 0,
             "ticks": ""
            },
            "colorscale": [
             [
              0,
              "#0d0887"
             ],
             [
              0.1111111111111111,
              "#46039f"
             ],
             [
              0.2222222222222222,
              "#7201a8"
             ],
             [
              0.3333333333333333,
              "#9c179e"
             ],
             [
              0.4444444444444444,
              "#bd3786"
             ],
             [
              0.5555555555555556,
              "#d8576b"
             ],
             [
              0.6666666666666666,
              "#ed7953"
             ],
             [
              0.7777777777777778,
              "#fb9f3a"
             ],
             [
              0.8888888888888888,
              "#fdca26"
             ],
             [
              1,
              "#f0f921"
             ]
            ],
            "type": "heatmap"
           }
          ],
          "histogram": [
           {
            "marker": {
             "pattern": {
              "fillmode": "overlay",
              "size": 10,
              "solidity": 0.2
             }
            },
            "type": "histogram"
           }
          ],
          "histogram2d": [
           {
            "colorbar": {
             "outlinewidth": 0,
             "ticks": ""
            },
            "colorscale": [
             [
              0,
              "#0d0887"
             ],
             [
              0.1111111111111111,
              "#46039f"
             ],
             [
              0.2222222222222222,
              "#7201a8"
             ],
             [
              0.3333333333333333,
              "#9c179e"
             ],
             [
              0.4444444444444444,
              "#bd3786"
             ],
             [
              0.5555555555555556,
              "#d8576b"
             ],
             [
              0.6666666666666666,
              "#ed7953"
             ],
             [
              0.7777777777777778,
              "#fb9f3a"
             ],
             [
              0.8888888888888888,
              "#fdca26"
             ],
             [
              1,
              "#f0f921"
             ]
            ],
            "type": "histogram2d"
           }
          ],
          "histogram2dcontour": [
           {
            "colorbar": {
             "outlinewidth": 0,
             "ticks": ""
            },
            "colorscale": [
             [
              0,
              "#0d0887"
             ],
             [
              0.1111111111111111,
              "#46039f"
             ],
             [
              0.2222222222222222,
              "#7201a8"
             ],
             [
              0.3333333333333333,
              "#9c179e"
             ],
             [
              0.4444444444444444,
              "#bd3786"
             ],
             [
              0.5555555555555556,
              "#d8576b"
             ],
             [
              0.6666666666666666,
              "#ed7953"
             ],
             [
              0.7777777777777778,
              "#fb9f3a"
             ],
             [
              0.8888888888888888,
              "#fdca26"
             ],
             [
              1,
              "#f0f921"
             ]
            ],
            "type": "histogram2dcontour"
           }
          ],
          "mesh3d": [
           {
            "colorbar": {
             "outlinewidth": 0,
             "ticks": ""
            },
            "type": "mesh3d"
           }
          ],
          "parcoords": [
           {
            "line": {
             "colorbar": {
              "outlinewidth": 0,
              "ticks": ""
             }
            },
            "type": "parcoords"
           }
          ],
          "pie": [
           {
            "automargin": true,
            "type": "pie"
           }
          ],
          "scatter": [
           {
            "fillpattern": {
             "fillmode": "overlay",
             "size": 10,
             "solidity": 0.2
            },
            "type": "scatter"
           }
          ],
          "scatter3d": [
           {
            "line": {
             "colorbar": {
              "outlinewidth": 0,
              "ticks": ""
             }
            },
            "marker": {
             "colorbar": {
              "outlinewidth": 0,
              "ticks": ""
             }
            },
            "type": "scatter3d"
           }
          ],
          "scattercarpet": [
           {
            "marker": {
             "colorbar": {
              "outlinewidth": 0,
              "ticks": ""
             }
            },
            "type": "scattercarpet"
           }
          ],
          "scattergeo": [
           {
            "marker": {
             "colorbar": {
              "outlinewidth": 0,
              "ticks": ""
             }
            },
            "type": "scattergeo"
           }
          ],
          "scattergl": [
           {
            "marker": {
             "colorbar": {
              "outlinewidth": 0,
              "ticks": ""
             }
            },
            "type": "scattergl"
           }
          ],
          "scattermap": [
           {
            "marker": {
             "colorbar": {
              "outlinewidth": 0,
              "ticks": ""
             }
            },
            "type": "scattermap"
           }
          ],
          "scattermapbox": [
           {
            "marker": {
             "colorbar": {
              "outlinewidth": 0,
              "ticks": ""
             }
            },
            "type": "scattermapbox"
           }
          ],
          "scatterpolar": [
           {
            "marker": {
             "colorbar": {
              "outlinewidth": 0,
              "ticks": ""
             }
            },
            "type": "scatterpolar"
           }
          ],
          "scatterpolargl": [
           {
            "marker": {
             "colorbar": {
              "outlinewidth": 0,
              "ticks": ""
             }
            },
            "type": "scatterpolargl"
           }
          ],
          "scatterternary": [
           {
            "marker": {
             "colorbar": {
              "outlinewidth": 0,
              "ticks": ""
             }
            },
            "type": "scatterternary"
           }
          ],
          "surface": [
           {
            "colorbar": {
             "outlinewidth": 0,
             "ticks": ""
            },
            "colorscale": [
             [
              0,
              "#0d0887"
             ],
             [
              0.1111111111111111,
              "#46039f"
             ],
             [
              0.2222222222222222,
              "#7201a8"
             ],
             [
              0.3333333333333333,
              "#9c179e"
             ],
             [
              0.4444444444444444,
              "#bd3786"
             ],
             [
              0.5555555555555556,
              "#d8576b"
             ],
             [
              0.6666666666666666,
              "#ed7953"
             ],
             [
              0.7777777777777778,
              "#fb9f3a"
             ],
             [
              0.8888888888888888,
              "#fdca26"
             ],
             [
              1,
              "#f0f921"
             ]
            ],
            "type": "surface"
           }
          ],
          "table": [
           {
            "cells": {
             "fill": {
              "color": "#EBF0F8"
             },
             "line": {
              "color": "white"
             }
            },
            "header": {
             "fill": {
              "color": "#C8D4E3"
             },
             "line": {
              "color": "white"
             }
            },
            "type": "table"
           }
          ]
         },
         "layout": {
          "annotationdefaults": {
           "arrowcolor": "#2a3f5f",
           "arrowhead": 0,
           "arrowwidth": 1
          },
          "autotypenumbers": "strict",
          "coloraxis": {
           "colorbar": {
            "outlinewidth": 0,
            "ticks": ""
           }
          },
          "colorscale": {
           "diverging": [
            [
             0,
             "#8e0152"
            ],
            [
             0.1,
             "#c51b7d"
            ],
            [
             0.2,
             "#de77ae"
            ],
            [
             0.3,
             "#f1b6da"
            ],
            [
             0.4,
             "#fde0ef"
            ],
            [
             0.5,
             "#f7f7f7"
            ],
            [
             0.6,
             "#e6f5d0"
            ],
            [
             0.7,
             "#b8e186"
            ],
            [
             0.8,
             "#7fbc41"
            ],
            [
             0.9,
             "#4d9221"
            ],
            [
             1,
             "#276419"
            ]
           ],
           "sequential": [
            [
             0,
             "#0d0887"
            ],
            [
             0.1111111111111111,
             "#46039f"
            ],
            [
             0.2222222222222222,
             "#7201a8"
            ],
            [
             0.3333333333333333,
             "#9c179e"
            ],
            [
             0.4444444444444444,
             "#bd3786"
            ],
            [
             0.5555555555555556,
             "#d8576b"
            ],
            [
             0.6666666666666666,
             "#ed7953"
            ],
            [
             0.7777777777777778,
             "#fb9f3a"
            ],
            [
             0.8888888888888888,
             "#fdca26"
            ],
            [
             1,
             "#f0f921"
            ]
           ],
           "sequentialminus": [
            [
             0,
             "#0d0887"
            ],
            [
             0.1111111111111111,
             "#46039f"
            ],
            [
             0.2222222222222222,
             "#7201a8"
            ],
            [
             0.3333333333333333,
             "#9c179e"
            ],
            [
             0.4444444444444444,
             "#bd3786"
            ],
            [
             0.5555555555555556,
             "#d8576b"
            ],
            [
             0.6666666666666666,
             "#ed7953"
            ],
            [
             0.7777777777777778,
             "#fb9f3a"
            ],
            [
             0.8888888888888888,
             "#fdca26"
            ],
            [
             1,
             "#f0f921"
            ]
           ]
          },
          "colorway": [
           "#636efa",
           "#EF553B",
           "#00cc96",
           "#ab63fa",
           "#FFA15A",
           "#19d3f3",
           "#FF6692",
           "#B6E880",
           "#FF97FF",
           "#FECB52"
          ],
          "font": {
           "color": "#2a3f5f"
          },
          "geo": {
           "bgcolor": "white",
           "lakecolor": "white",
           "landcolor": "#E5ECF6",
           "showlakes": true,
           "showland": true,
           "subunitcolor": "white"
          },
          "hoverlabel": {
           "align": "left"
          },
          "hovermode": "closest",
          "mapbox": {
           "style": "light"
          },
          "paper_bgcolor": "white",
          "plot_bgcolor": "#E5ECF6",
          "polar": {
           "angularaxis": {
            "gridcolor": "white",
            "linecolor": "white",
            "ticks": ""
           },
           "bgcolor": "#E5ECF6",
           "radialaxis": {
            "gridcolor": "white",
            "linecolor": "white",
            "ticks": ""
           }
          },
          "scene": {
           "xaxis": {
            "backgroundcolor": "#E5ECF6",
            "gridcolor": "white",
            "gridwidth": 2,
            "linecolor": "white",
            "showbackground": true,
            "ticks": "",
            "zerolinecolor": "white"
           },
           "yaxis": {
            "backgroundcolor": "#E5ECF6",
            "gridcolor": "white",
            "gridwidth": 2,
            "linecolor": "white",
            "showbackground": true,
            "ticks": "",
            "zerolinecolor": "white"
           },
           "zaxis": {
            "backgroundcolor": "#E5ECF6",
            "gridcolor": "white",
            "gridwidth": 2,
            "linecolor": "white",
            "showbackground": true,
            "ticks": "",
            "zerolinecolor": "white"
           }
          },
          "shapedefaults": {
           "line": {
            "color": "#2a3f5f"
           }
          },
          "ternary": {
           "aaxis": {
            "gridcolor": "white",
            "linecolor": "white",
            "ticks": ""
           },
           "baxis": {
            "gridcolor": "white",
            "linecolor": "white",
            "ticks": ""
           },
           "bgcolor": "#E5ECF6",
           "caxis": {
            "gridcolor": "white",
            "linecolor": "white",
            "ticks": ""
           }
          },
          "title": {
           "x": 0.05
          },
          "xaxis": {
           "automargin": true,
           "gridcolor": "white",
           "linecolor": "white",
           "ticks": "",
           "title": {
            "standoff": 15
           },
           "zerolinecolor": "white",
           "zerolinewidth": 2
          },
          "yaxis": {
           "automargin": true,
           "gridcolor": "white",
           "linecolor": "white",
           "ticks": "",
           "title": {
            "standoff": 15
           },
           "zerolinecolor": "white",
           "zerolinewidth": 2
          }
         }
        },
        "title": {
         "text": "Histograms",
         "x": 0.01
        },
        "updatemenus": [
         {
          "buttons": [
           {
            "args": [
             {
              "visible": [
               true,
               true,
               false,
               false,
               false,
               false,
               false,
               false,
               false,
               false,
               false,
               false
              ]
             },
             {
              "xaxis2.title": "Age"
             }
            ],
            "label": "Age",
            "method": "update"
           },
           {
            "args": [
             {
              "visible": [
               false,
               false,
               true,
               true,
               false,
               false,
               false,
               false,
               false,
               false,
               false,
               false
              ]
             },
             {
              "xaxis2.title": "Height"
             }
            ],
            "label": "Height",
            "method": "update"
           },
           {
            "args": [
             {
              "visible": [
               false,
               false,
               false,
               false,
               true,
               true,
               false,
               false,
               false,
               false,
               false,
               false
              ]
             },
             {
              "xaxis2.title": "Weight"
             }
            ],
            "label": "Weight",
            "method": "update"
           },
           {
            "args": [
             {
              "visible": [
               false,
               false,
               false,
               false,
               false,
               false,
               true,
               true,
               false,
               false,
               false,
               false
              ]
             },
             {
              "xaxis2.title": "BMI"
             }
            ],
            "label": "BMI",
            "method": "update"
           },
           {
            "args": [
             {
              "visible": [
               false,
               false,
               false,
               false,
               false,
               false,
               false,
               false,
               true,
               true,
               false,
               false
              ]
             },
             {
              "xaxis2.title": "Systolic"
             }
            ],
            "label": "Systolic",
            "method": "update"
           },
           {
            "args": [
             {
              "visible": [
               false,
               false,
               false,
               false,
               false,
               false,
               false,
               false,
               false,
               false,
               true,
               true
              ]
             },
             {
              "xaxis2.title": "Diastolic"
             }
            ],
            "label": "Diastolic",
            "method": "update"
           }
          ],
          "direction": "down",
          "showactive": true,
          "x": -0.2,
          "xanchor": "left",
          "y": 0.9,
          "yanchor": "top"
         }
        ],
        "width": 1100,
        "xaxis": {
         "anchor": "y",
         "domain": [
          0,
          1
         ],
         "matches": "x2",
         "showticklabels": false
        },
        "xaxis2": {
         "anchor": "y2",
         "domain": [
          0,
          1
         ],
         "title": {
          "text": "Age"
         }
        },
        "yaxis": {
         "anchor": "x",
         "domain": [
          0.8300000000000001,
          1
         ],
         "title": {
          "text": ""
         }
        },
        "yaxis2": {
         "anchor": "x2",
         "domain": [
          0,
          0.68
         ],
         "title": {
          "text": "Count"
         }
        }
       }
      }
     },
     "metadata": {},
     "output_type": "display_data"
    }
   ],
   "source": [
    "hist_features = ['Age', 'Height', 'Weight', 'BMI', 'Systolic', 'Diastolic']\n",
    "colour = 'DarkOrange'\n",
    "\n",
    "# Initialize subplots\n",
    "fig = make_subplots(rows=2, cols=1, row_heights=[0.2, 0.8], shared_xaxes=True)\n",
    "\n",
    "# Add Traces with visibility settings\n",
    "for idx, feature in enumerate(hist_features):\n",
    "    fig.add_trace(go.Histogram(\n",
    "        x=data[feature],\n",
    "        nbinsx=len(np.histogram_bin_edges(data[feature], bins='fd')),\n",
    "        name=feature,\n",
    "        marker_color=colour,\n",
    "        visible=(idx == 0)\n",
    "    ), row=2, col=1)\n",
    "    fig.add_trace(go.Box(\n",
    "        x=data[feature],\n",
    "        marker_symbol='line-ns-open',\n",
    "        boxpoints='all',\n",
    "        jitter=0,\n",
    "        hoveron='points',\n",
    "        name=feature,\n",
    "        marker_color=colour,\n",
    "        visible=(idx == 0)\n",
    "    ), row=1, col=1)\n",
    "\n",
    "\n",
    "# Add buttons\n",
    "fig.update_layout(\n",
    "    updatemenus=[\n",
    "        dict(\n",
    "            direction=\"down\",\n",
    "            showactive=True,\n",
    "            x=-0.2,\n",
    "            xanchor='left',\n",
    "            y=0.9,\n",
    "            yanchor='top',\n",
    "            buttons=list([\n",
    "                dict(label=feature,\n",
    "                     method=\"update\",\n",
    "                     args=[{\"visible\": [(i // 2 == idx) for i in range(len(hist_features) * 2)]},\n",
    "                          {\"xaxis2.title\": feature}])\n",
    "                for idx, feature in enumerate(hist_features)\n",
    "            ]),\n",
    "        )\n",
    "    ],\n",
    "    showlegend=False,\n",
    "    title=dict(text='Histograms', x=0.01),\n",
    "    yaxis1_title=\"\",\n",
    "    xaxis2_title=hist_features[0], # Default x-axis title for the first histogram\n",
    "    yaxis2_title='Count', # y-axis title\n",
    ")\n",
    "\n",
    "# Add annotation\n",
    "fig.update_layout(\n",
    "    annotations=[\n",
    "        dict(text=\"Feature:\", showarrow=False,\n",
    "        x = -0.2, xref=\"paper\", y=1, yref=\"paper\", align=\"left\")\n",
    "    ]\n",
    ")\n",
    "\n",
    "# Set plot size and add a bar gap\n",
    "fig.update_layout(\n",
    "    autosize=False,\n",
    "    width=1100,\n",
    "    height=400,\n",
    "    margin=dict(l=20, r=20, t=50, b=20),\n",
    "    bargap=0.15\n",
    ")\n",
    "\n",
    "\n",
    "fig.show()"
   ]
  },
  {
   "cell_type": "markdown",
   "id": "cbd857de-de1f-405a-9769-195433c0e6b9",
   "metadata": {},
   "source": [
    "Height, Weight, and BMI data are skewed."
   ]
  },
  {
   "cell_type": "code",
   "execution_count": 38,
   "id": "40bb17d9",
   "metadata": {},
   "outputs": [
    {
     "data": {
      "application/vnd.plotly.v1+json": {
       "config": {
        "plotlyServerURL": "https://plot.ly"
       },
       "data": [
        {
         "marker": {
          "color": "DarkOrange"
         },
         "name": "HEALTHY",
         "type": "bar",
         "visible": true,
         "x": [
          "Abnormal",
          "Normal",
          "High Abnormal"
         ],
         "y": [
          47.884482758620685,
          46.485470085470084,
          47.44444444444444
         ]
        },
        {
         "marker": {
          "color": "Sienna"
         },
         "name": "OVERWEIGHT",
         "type": "bar",
         "visible": true,
         "x": [
          "Abnormal",
          "Normal",
          "High Abnormal"
         ],
         "y": [
          53.04028776978418,
          49.349999999999994,
          57.25
         ]
        },
        {
         "marker": {
          "color": "Chocolate"
         },
         "name": "OBESE",
         "type": "bar",
         "visible": true,
         "x": [
          "Abnormal",
          "Normal",
          "High Abnormal"
         ],
         "y": [
          53.51875,
          51.009661835748794,
          55.763636363636365
         ]
        },
        {
         "marker": {
          "color": "DarkOrange"
         },
         "name": "NORMAL",
         "type": "bar",
         "visible": false,
         "x": [
          "Abnormal",
          "Normal",
          "High Abnormal"
         ],
         "y": [
          50.43299492385786,
          46.400000000000006,
          54.732000000000006
         ]
        },
        {
         "marker": {
          "color": "Sienna"
         },
         "name": "PRE HPT",
         "type": "bar",
         "visible": false,
         "x": [
          "Abnormal",
          "Normal",
          "High Abnormal"
         ],
         "y": [
          55.495714285714286,
          52.29210526315789,
          51.31
         ]
        },
        {
         "marker": {
          "color": "Chocolate"
         },
         "name": "HPT 1",
         "type": "bar",
         "visible": false,
         "x": [
          "Abnormal",
          "Normal",
          "High Abnormal"
         ],
         "y": [
          53.580821917808215,
          53.67909090909092,
          52.62857142857143
         ]
        },
        {
         "marker": {
          "color": "DarkSalmon"
         },
         "name": "HPT 2",
         "type": "bar",
         "visible": false,
         "x": [
          "Abnormal",
          "Normal",
          "High Abnormal"
         ],
         "y": [
          56.46428571428571,
          59.79130434782608,
          60.625
         ]
        },
        {
         "marker": {
          "color": "Coral"
         },
         "name": "HPT CRISIS",
         "type": "bar",
         "visible": false,
         "x": [
          "Abnormal",
          "Normal",
          "High Abnormal"
         ],
         "y": [
          51.36,
          51.53333333333334,
          80
         ]
        },
        {
         "marker": {
          "color": "DarkOrange"
         },
         "name": "Black",
         "type": "bar",
         "visible": false,
         "x": [
          "Abnormal",
          "Normal",
          "High Abnormal"
         ],
         "y": [
          52.44119402985074,
          49.323720930232554,
          53.69423076923077
         ]
        },
        {
         "marker": {
          "color": "Sienna"
         },
         "name": "White",
         "type": "bar",
         "visible": false,
         "x": [
          "Abnormal",
          "Normal",
          "High Abnormal"
         ],
         "y": [
          51.881818181818176,
          45.31025641025642,
          59.15
         ]
        },
        {
         "marker": {
          "color": "Chocolate"
         },
         "name": "Mixed",
         "type": "bar",
         "visible": false,
         "x": [
          "Abnormal",
          "Normal",
          "High Abnormal"
         ],
         "y": [
          56.324999999999996,
          55.166666666666664,
          64.26666666666667
         ]
        },
        {
         "marker": {
          "color": "DarkSalmon"
         },
         "name": "Indian",
         "type": "bar",
         "visible": false,
         "x": [
          "Abnormal",
          "Normal",
          "High Abnormal"
         ],
         "y": [
          52.75714285714286,
          51.80000000000001,
          null
         ]
        },
        {
         "marker": {
          "color": "Coral"
         },
         "name": "SE Asian",
         "type": "bar",
         "visible": false,
         "x": [
          "Abnormal",
          "Normal",
          "High Abnormal"
         ],
         "y": [
          47.38571428571429,
          49.35333333333334,
          80
         ]
        },
        {
         "marker": {
          "color": "SandyBrown"
         },
         "name": "Other",
         "type": "bar",
         "visible": false,
         "x": [
          "Abnormal",
          "Normal",
          "High Abnormal"
         ],
         "y": [
          53.8,
          53.1,
          null
         ]
        },
        {
         "marker": {
          "color": "DarkOrange"
         },
         "name": "True",
         "type": "bar",
         "visible": false,
         "x": [
          "Abnormal",
          "Normal",
          "High Abnormal"
         ],
         "y": [
          52.53246376811593,
          49.50902934537246,
          54.27090909090909
         ]
        },
        {
         "marker": {
          "color": "Sienna"
         },
         "name": "False",
         "type": "bar",
         "visible": false,
         "x": [
          "Abnormal",
          "Normal",
          "High Abnormal"
         ],
         "y": [
          51.625000000000014,
          48.63678160919541,
          66.10000000000001
         ]
        },
        {
         "marker": {
          "color": "DarkOrange"
         },
         "name": "Male",
         "type": "bar",
         "visible": false,
         "x": [
          "Abnormal",
          "Normal",
          "High Abnormal"
         ],
         "y": [
          52.26470588235294,
          49.042519685039366,
          54.987096774193546
         ]
        },
        {
         "marker": {
          "color": "Sienna"
         },
         "name": "Female",
         "type": "bar",
         "visible": false,
         "x": [
          "Abnormal",
          "Normal",
          "High Abnormal"
         ],
         "y": [
          52.5789029535865,
          49.66340579710145,
          54.76296296296296
         ]
        }
       ],
       "layout": {
        "annotations": [
         {
          "align": "left",
          "showarrow": false,
          "text": "Select x Variable:",
          "x": -0.3,
          "xref": "paper",
          "y": 1,
          "yref": "paper"
         },
         {
          "align": "left",
          "showarrow": false,
          "text": "Select Feature:",
          "x": -0.3,
          "xref": "paper",
          "y": 0.7,
          "yref": "paper"
         }
        ],
        "autosize": false,
        "barmode": "group",
        "height": 350,
        "margin": {
         "b": 20,
         "l": 20,
         "r": 20,
         "t": 50
        },
        "template": {
         "data": {
          "bar": [
           {
            "error_x": {
             "color": "#2a3f5f"
            },
            "error_y": {
             "color": "#2a3f5f"
            },
            "marker": {
             "line": {
              "color": "#E5ECF6",
              "width": 0.5
             },
             "pattern": {
              "fillmode": "overlay",
              "size": 10,
              "solidity": 0.2
             }
            },
            "type": "bar"
           }
          ],
          "barpolar": [
           {
            "marker": {
             "line": {
              "color": "#E5ECF6",
              "width": 0.5
             },
             "pattern": {
              "fillmode": "overlay",
              "size": 10,
              "solidity": 0.2
             }
            },
            "type": "barpolar"
           }
          ],
          "carpet": [
           {
            "aaxis": {
             "endlinecolor": "#2a3f5f",
             "gridcolor": "white",
             "linecolor": "white",
             "minorgridcolor": "white",
             "startlinecolor": "#2a3f5f"
            },
            "baxis": {
             "endlinecolor": "#2a3f5f",
             "gridcolor": "white",
             "linecolor": "white",
             "minorgridcolor": "white",
             "startlinecolor": "#2a3f5f"
            },
            "type": "carpet"
           }
          ],
          "choropleth": [
           {
            "colorbar": {
             "outlinewidth": 0,
             "ticks": ""
            },
            "type": "choropleth"
           }
          ],
          "contour": [
           {
            "colorbar": {
             "outlinewidth": 0,
             "ticks": ""
            },
            "colorscale": [
             [
              0,
              "#0d0887"
             ],
             [
              0.1111111111111111,
              "#46039f"
             ],
             [
              0.2222222222222222,
              "#7201a8"
             ],
             [
              0.3333333333333333,
              "#9c179e"
             ],
             [
              0.4444444444444444,
              "#bd3786"
             ],
             [
              0.5555555555555556,
              "#d8576b"
             ],
             [
              0.6666666666666666,
              "#ed7953"
             ],
             [
              0.7777777777777778,
              "#fb9f3a"
             ],
             [
              0.8888888888888888,
              "#fdca26"
             ],
             [
              1,
              "#f0f921"
             ]
            ],
            "type": "contour"
           }
          ],
          "contourcarpet": [
           {
            "colorbar": {
             "outlinewidth": 0,
             "ticks": ""
            },
            "type": "contourcarpet"
           }
          ],
          "heatmap": [
           {
            "colorbar": {
             "outlinewidth": 0,
             "ticks": ""
            },
            "colorscale": [
             [
              0,
              "#0d0887"
             ],
             [
              0.1111111111111111,
              "#46039f"
             ],
             [
              0.2222222222222222,
              "#7201a8"
             ],
             [
              0.3333333333333333,
              "#9c179e"
             ],
             [
              0.4444444444444444,
              "#bd3786"
             ],
             [
              0.5555555555555556,
              "#d8576b"
             ],
             [
              0.6666666666666666,
              "#ed7953"
             ],
             [
              0.7777777777777778,
              "#fb9f3a"
             ],
             [
              0.8888888888888888,
              "#fdca26"
             ],
             [
              1,
              "#f0f921"
             ]
            ],
            "type": "heatmap"
           }
          ],
          "histogram": [
           {
            "marker": {
             "pattern": {
              "fillmode": "overlay",
              "size": 10,
              "solidity": 0.2
             }
            },
            "type": "histogram"
           }
          ],
          "histogram2d": [
           {
            "colorbar": {
             "outlinewidth": 0,
             "ticks": ""
            },
            "colorscale": [
             [
              0,
              "#0d0887"
             ],
             [
              0.1111111111111111,
              "#46039f"
             ],
             [
              0.2222222222222222,
              "#7201a8"
             ],
             [
              0.3333333333333333,
              "#9c179e"
             ],
             [
              0.4444444444444444,
              "#bd3786"
             ],
             [
              0.5555555555555556,
              "#d8576b"
             ],
             [
              0.6666666666666666,
              "#ed7953"
             ],
             [
              0.7777777777777778,
              "#fb9f3a"
             ],
             [
              0.8888888888888888,
              "#fdca26"
             ],
             [
              1,
              "#f0f921"
             ]
            ],
            "type": "histogram2d"
           }
          ],
          "histogram2dcontour": [
           {
            "colorbar": {
             "outlinewidth": 0,
             "ticks": ""
            },
            "colorscale": [
             [
              0,
              "#0d0887"
             ],
             [
              0.1111111111111111,
              "#46039f"
             ],
             [
              0.2222222222222222,
              "#7201a8"
             ],
             [
              0.3333333333333333,
              "#9c179e"
             ],
             [
              0.4444444444444444,
              "#bd3786"
             ],
             [
              0.5555555555555556,
              "#d8576b"
             ],
             [
              0.6666666666666666,
              "#ed7953"
             ],
             [
              0.7777777777777778,
              "#fb9f3a"
             ],
             [
              0.8888888888888888,
              "#fdca26"
             ],
             [
              1,
              "#f0f921"
             ]
            ],
            "type": "histogram2dcontour"
           }
          ],
          "mesh3d": [
           {
            "colorbar": {
             "outlinewidth": 0,
             "ticks": ""
            },
            "type": "mesh3d"
           }
          ],
          "parcoords": [
           {
            "line": {
             "colorbar": {
              "outlinewidth": 0,
              "ticks": ""
             }
            },
            "type": "parcoords"
           }
          ],
          "pie": [
           {
            "automargin": true,
            "type": "pie"
           }
          ],
          "scatter": [
           {
            "fillpattern": {
             "fillmode": "overlay",
             "size": 10,
             "solidity": 0.2
            },
            "type": "scatter"
           }
          ],
          "scatter3d": [
           {
            "line": {
             "colorbar": {
              "outlinewidth": 0,
              "ticks": ""
             }
            },
            "marker": {
             "colorbar": {
              "outlinewidth": 0,
              "ticks": ""
             }
            },
            "type": "scatter3d"
           }
          ],
          "scattercarpet": [
           {
            "marker": {
             "colorbar": {
              "outlinewidth": 0,
              "ticks": ""
             }
            },
            "type": "scattercarpet"
           }
          ],
          "scattergeo": [
           {
            "marker": {
             "colorbar": {
              "outlinewidth": 0,
              "ticks": ""
             }
            },
            "type": "scattergeo"
           }
          ],
          "scattergl": [
           {
            "marker": {
             "colorbar": {
              "outlinewidth": 0,
              "ticks": ""
             }
            },
            "type": "scattergl"
           }
          ],
          "scattermap": [
           {
            "marker": {
             "colorbar": {
              "outlinewidth": 0,
              "ticks": ""
             }
            },
            "type": "scattermap"
           }
          ],
          "scattermapbox": [
           {
            "marker": {
             "colorbar": {
              "outlinewidth": 0,
              "ticks": ""
             }
            },
            "type": "scattermapbox"
           }
          ],
          "scatterpolar": [
           {
            "marker": {
             "colorbar": {
              "outlinewidth": 0,
              "ticks": ""
             }
            },
            "type": "scatterpolar"
           }
          ],
          "scatterpolargl": [
           {
            "marker": {
             "colorbar": {
              "outlinewidth": 0,
              "ticks": ""
             }
            },
            "type": "scatterpolargl"
           }
          ],
          "scatterternary": [
           {
            "marker": {
             "colorbar": {
              "outlinewidth": 0,
              "ticks": ""
             }
            },
            "type": "scatterternary"
           }
          ],
          "surface": [
           {
            "colorbar": {
             "outlinewidth": 0,
             "ticks": ""
            },
            "colorscale": [
             [
              0,
              "#0d0887"
             ],
             [
              0.1111111111111111,
              "#46039f"
             ],
             [
              0.2222222222222222,
              "#7201a8"
             ],
             [
              0.3333333333333333,
              "#9c179e"
             ],
             [
              0.4444444444444444,
              "#bd3786"
             ],
             [
              0.5555555555555556,
              "#d8576b"
             ],
             [
              0.6666666666666666,
              "#ed7953"
             ],
             [
              0.7777777777777778,
              "#fb9f3a"
             ],
             [
              0.8888888888888888,
              "#fdca26"
             ],
             [
              1,
              "#f0f921"
             ]
            ],
            "type": "surface"
           }
          ],
          "table": [
           {
            "cells": {
             "fill": {
              "color": "#EBF0F8"
             },
             "line": {
              "color": "white"
             }
            },
            "header": {
             "fill": {
              "color": "#C8D4E3"
             },
             "line": {
              "color": "white"
             }
            },
            "type": "table"
           }
          ]
         },
         "layout": {
          "annotationdefaults": {
           "arrowcolor": "#2a3f5f",
           "arrowhead": 0,
           "arrowwidth": 1
          },
          "autotypenumbers": "strict",
          "coloraxis": {
           "colorbar": {
            "outlinewidth": 0,
            "ticks": ""
           }
          },
          "colorscale": {
           "diverging": [
            [
             0,
             "#8e0152"
            ],
            [
             0.1,
             "#c51b7d"
            ],
            [
             0.2,
             "#de77ae"
            ],
            [
             0.3,
             "#f1b6da"
            ],
            [
             0.4,
             "#fde0ef"
            ],
            [
             0.5,
             "#f7f7f7"
            ],
            [
             0.6,
             "#e6f5d0"
            ],
            [
             0.7,
             "#b8e186"
            ],
            [
             0.8,
             "#7fbc41"
            ],
            [
             0.9,
             "#4d9221"
            ],
            [
             1,
             "#276419"
            ]
           ],
           "sequential": [
            [
             0,
             "#0d0887"
            ],
            [
             0.1111111111111111,
             "#46039f"
            ],
            [
             0.2222222222222222,
             "#7201a8"
            ],
            [
             0.3333333333333333,
             "#9c179e"
            ],
            [
             0.4444444444444444,
             "#bd3786"
            ],
            [
             0.5555555555555556,
             "#d8576b"
            ],
            [
             0.6666666666666666,
             "#ed7953"
            ],
            [
             0.7777777777777778,
             "#fb9f3a"
            ],
            [
             0.8888888888888888,
             "#fdca26"
            ],
            [
             1,
             "#f0f921"
            ]
           ],
           "sequentialminus": [
            [
             0,
             "#0d0887"
            ],
            [
             0.1111111111111111,
             "#46039f"
            ],
            [
             0.2222222222222222,
             "#7201a8"
            ],
            [
             0.3333333333333333,
             "#9c179e"
            ],
            [
             0.4444444444444444,
             "#bd3786"
            ],
            [
             0.5555555555555556,
             "#d8576b"
            ],
            [
             0.6666666666666666,
             "#ed7953"
            ],
            [
             0.7777777777777778,
             "#fb9f3a"
            ],
            [
             0.8888888888888888,
             "#fdca26"
            ],
            [
             1,
             "#f0f921"
            ]
           ]
          },
          "colorway": [
           "#636efa",
           "#EF553B",
           "#00cc96",
           "#ab63fa",
           "#FFA15A",
           "#19d3f3",
           "#FF6692",
           "#B6E880",
           "#FF97FF",
           "#FECB52"
          ],
          "font": {
           "color": "#2a3f5f"
          },
          "geo": {
           "bgcolor": "white",
           "lakecolor": "white",
           "landcolor": "#E5ECF6",
           "showlakes": true,
           "showland": true,
           "subunitcolor": "white"
          },
          "hoverlabel": {
           "align": "left"
          },
          "hovermode": "closest",
          "mapbox": {
           "style": "light"
          },
          "paper_bgcolor": "white",
          "plot_bgcolor": "#E5ECF6",
          "polar": {
           "angularaxis": {
            "gridcolor": "white",
            "linecolor": "white",
            "ticks": ""
           },
           "bgcolor": "#E5ECF6",
           "radialaxis": {
            "gridcolor": "white",
            "linecolor": "white",
            "ticks": ""
           }
          },
          "scene": {
           "xaxis": {
            "backgroundcolor": "#E5ECF6",
            "gridcolor": "white",
            "gridwidth": 2,
            "linecolor": "white",
            "showbackground": true,
            "ticks": "",
            "zerolinecolor": "white"
           },
           "yaxis": {
            "backgroundcolor": "#E5ECF6",
            "gridcolor": "white",
            "gridwidth": 2,
            "linecolor": "white",
            "showbackground": true,
            "ticks": "",
            "zerolinecolor": "white"
           },
           "zaxis": {
            "backgroundcolor": "#E5ECF6",
            "gridcolor": "white",
            "gridwidth": 2,
            "linecolor": "white",
            "showbackground": true,
            "ticks": "",
            "zerolinecolor": "white"
           }
          },
          "shapedefaults": {
           "line": {
            "color": "#2a3f5f"
           }
          },
          "ternary": {
           "aaxis": {
            "gridcolor": "white",
            "linecolor": "white",
            "ticks": ""
           },
           "baxis": {
            "gridcolor": "white",
            "linecolor": "white",
            "ticks": ""
           },
           "bgcolor": "#E5ECF6",
           "caxis": {
            "gridcolor": "white",
            "linecolor": "white",
            "ticks": ""
           }
          },
          "title": {
           "x": 0.05
          },
          "xaxis": {
           "automargin": true,
           "gridcolor": "white",
           "linecolor": "white",
           "ticks": "",
           "title": {
            "standoff": 15
           },
           "zerolinecolor": "white",
           "zerolinewidth": 2
          },
          "yaxis": {
           "automargin": true,
           "gridcolor": "white",
           "linecolor": "white",
           "ticks": "",
           "title": {
            "standoff": 15
           },
           "zerolinecolor": "white",
           "zerolinewidth": 2
          }
         }
        },
        "title": {
         "text": "Bivariate Analysis (Age)",
         "x": 0.01
        },
        "updatemenus": [
         {
          "buttons": [
           {
            "args": [
             {
              "title.text": "Mean Age by BMI_Category and uACR",
              "x": [
               [
                "Abnormal",
                "Normal",
                "High Abnormal"
               ],
               [
                "Abnormal",
                "Normal",
                "High Abnormal"
               ],
               [
                "Abnormal",
                "Normal",
                "High Abnormal"
               ],
               [
                "Abnormal",
                "Normal",
                "High Abnormal"
               ],
               [
                "Abnormal",
                "Normal",
                "High Abnormal"
               ],
               [
                "Abnormal",
                "Normal",
                "High Abnormal"
               ],
               [
                "Abnormal",
                "Normal",
                "High Abnormal"
               ],
               [
                "Abnormal",
                "Normal",
                "High Abnormal"
               ],
               [
                "Abnormal",
                "Normal",
                "High Abnormal"
               ],
               [
                "Abnormal",
                "Normal",
                "High Abnormal"
               ],
               [
                "Abnormal",
                "Normal",
                "High Abnormal"
               ],
               [
                "Abnormal",
                "Normal",
                "High Abnormal"
               ],
               [
                "Abnormal",
                "Normal",
                "High Abnormal"
               ],
               [
                "Abnormal",
                "Normal",
                "High Abnormal"
               ],
               [
                "Abnormal",
                "Normal",
                "High Abnormal"
               ]
              ],
              "y": [
               [
                47.884482758620685,
                46.485470085470084,
                47.44444444444444
               ],
               [
                53.04028776978418,
                49.349999999999994,
                57.25
               ],
               [
                53.51875,
                51.009661835748794,
                55.763636363636365
               ],
               [
                50.43299492385786,
                46.400000000000006,
                54.732000000000006
               ],
               [
                55.495714285714286,
                52.29210526315789,
                51.31
               ],
               [
                53.580821917808215,
                53.67909090909092,
                52.62857142857143
               ],
               [
                56.46428571428571,
                59.79130434782608,
                60.625
               ],
               [
                51.36,
                51.53333333333334,
                80
               ],
               [
                52.44119402985074,
                49.323720930232554,
                53.69423076923077
               ],
               [
                51.881818181818176,
                45.31025641025642,
                59.15
               ],
               [
                56.324999999999996,
                55.166666666666664,
                64.26666666666667
               ],
               [
                52.75714285714286,
                51.80000000000001,
                null
               ],
               [
                47.38571428571429,
                49.35333333333334,
                80
               ],
               [
                53.8,
                53.1,
                null
               ],
               [
                52.53246376811593,
                49.50902934537246,
                54.27090909090909
               ],
               [
                51.625000000000014,
                48.63678160919541,
                66.10000000000001
               ],
               [
                52.26470588235294,
                49.042519685039366,
                54.987096774193546
               ],
               [
                52.5789029535865,
                49.66340579710145,
                54.76296296296296
               ]
              ]
             }
            ],
            "label": "uACR",
            "method": "update"
           },
           {
            "args": [
             {
              "title.text": "Mean Age by BMI_Category and BP_Category",
              "x": [
               [
                "NORMAL",
                "PRE HPT",
                "HPT 1",
                "HPT 2",
                "HPT CRISIS"
               ],
               [
                "NORMAL",
                "PRE HPT",
                "HPT 1",
                "HPT 2",
                "HPT CRISIS"
               ],
               [
                "NORMAL",
                "PRE HPT",
                "HPT 1",
                "HPT 2",
                "HPT CRISIS"
               ],
               [
                "NORMAL",
                "PRE HPT",
                "HPT 1",
                "HPT 2",
                "HPT CRISIS"
               ],
               [
                "NORMAL",
                "PRE HPT",
                "HPT 1",
                "HPT 2",
                "HPT CRISIS"
               ],
               [
                "NORMAL",
                "PRE HPT",
                "HPT 1",
                "HPT 2",
                "HPT CRISIS"
               ],
               [
                "NORMAL",
                "PRE HPT",
                "HPT 1",
                "HPT 2",
                "HPT CRISIS"
               ],
               [
                "NORMAL",
                "PRE HPT",
                "HPT 1",
                "HPT 2",
                "HPT CRISIS"
               ],
               [
                "NORMAL",
                "PRE HPT",
                "HPT 1",
                "HPT 2",
                "HPT CRISIS"
               ],
               [
                "NORMAL",
                "PRE HPT",
                "HPT 1",
                "HPT 2",
                "HPT CRISIS"
               ],
               [
                "NORMAL",
                "PRE HPT",
                "HPT 1",
                "HPT 2",
                "HPT CRISIS"
               ],
               [
                "NORMAL",
                "PRE HPT",
                "HPT 1",
                "HPT 2",
                "HPT CRISIS"
               ],
               [
                "NORMAL",
                "PRE HPT",
                "HPT 1",
                "HPT 2",
                "HPT CRISIS"
               ],
               [
                "NORMAL",
                "PRE HPT",
                "HPT 1",
                "HPT 2",
                "HPT CRISIS"
               ],
               [
                "NORMAL",
                "PRE HPT",
                "HPT 1",
                "HPT 2",
                "HPT CRISIS"
               ]
              ],
              "y": [
               [
                44.346875,
                51.323076923076925,
                51.790909090909096,
                61.6125,
                null
               ],
               [
                47.97745098039216,
                56.66379310344828,
                52.528000000000006,
                60.295,
                58.825
               ],
               [
                50.9375,
                52.09861111111111,
                54.739,
                56.20645161290323,
                51.220000000000006
               ],
               [
                48.25703703703704,
                null,
                null,
                null,
                null
               ],
               [
                null,
                53.666666666666664,
                null,
                null,
                null
               ],
               [
                null,
                null,
                53.56802030456853,
                null,
                null
               ],
               [
                null,
                null,
                null,
                58.325423728813554,
                null
               ],
               [
                null,
                null,
                null,
                null,
                54.599999999999994
               ],
               [
                48.403470715835134,
                53.37112676056338,
                53.58924050632912,
                57.96274509803921,
                50.64
               ],
               [
                43.5375,
                57.76666666666667,
                49.791666666666664,
                60.4,
                55.45
               ],
               [
                53.58571428571428,
                55.1,
                59.145454545454534,
                61.800000000000004,
                null
               ],
               [
                49.8923076923077,
                58.14,
                50.83636363636364,
                59.25,
                47.3
               ],
               [
                47.138888888888886,
                null,
                55.875,
                null,
                80
               ],
               [
                52.150000000000006,
                53.8,
                55,
                null,
                null
               ],
               [
                48.5276955602537,
                53.66575342465753,
                53.71144578313253,
                58.16981132075471,
                50.64
               ],
               [
                46.34626865671642,
                53.68000000000001,
                52.8,
                59.70000000000001,
                59.55
               ],
               [
                47.24125,
                56.370000000000005,
                53.8719512195122,
                54.73076923076922,
                48.36666666666667
               ],
               [
                49.06966666666667,
                51.46627906976744,
                53.351304347826094,
                61.157575757575756,
                57.71666666666666
               ]
              ]
             }
            ],
            "label": "BP_Category",
            "method": "update"
           },
           {
            "args": [
             {
              "title.text": "Mean Age by BMI_Category and S_Ethnicity",
              "x": [
               [
                "Black",
                "White",
                "Mixed",
                "Indian",
                "SE Asian",
                "Other"
               ],
               [
                "Black",
                "White",
                "Mixed",
                "Indian",
                "SE Asian",
                "Other"
               ],
               [
                "Black",
                "White",
                "Mixed",
                "Indian",
                "SE Asian",
                "Other"
               ],
               [
                "Black",
                "White",
                "Mixed",
                "Indian",
                "SE Asian",
                "Other"
               ],
               [
                "Black",
                "White",
                "Mixed",
                "Indian",
                "SE Asian",
                "Other"
               ],
               [
                "Black",
                "White",
                "Mixed",
                "Indian",
                "SE Asian",
                "Other"
               ],
               [
                "Black",
                "White",
                "Mixed",
                "Indian",
                "SE Asian",
                "Other"
               ],
               [
                "Black",
                "White",
                "Mixed",
                "Indian",
                "SE Asian",
                "Other"
               ],
               [
                "Black",
                "White",
                "Mixed",
                "Indian",
                "SE Asian",
                "Other"
               ],
               [
                "Black",
                "White",
                "Mixed",
                "Indian",
                "SE Asian",
                "Other"
               ],
               [
                "Black",
                "White",
                "Mixed",
                "Indian",
                "SE Asian",
                "Other"
               ],
               [
                "Black",
                "White",
                "Mixed",
                "Indian",
                "SE Asian",
                "Other"
               ],
               [
                "Black",
                "White",
                "Mixed",
                "Indian",
                "SE Asian",
                "Other"
               ],
               [
                "Black",
                "White",
                "Mixed",
                "Indian",
                "SE Asian",
                "Other"
               ],
               [
                "Black",
                "White",
                "Mixed",
                "Indian",
                "SE Asian",
                "Other"
               ]
              ],
              "y": [
               [
                47.327388535031844,
                41.63333333333333,
                55.300000000000004,
                42.82,
                50.96666666666667,
                null
               ],
               [
                51.07898089171975,
                44.74999999999999,
                58.2875,
                52.170588235294126,
                51.28181818181818,
                51.1
               ],
               [
                52.31184971098265,
                51.262962962962966,
                55.914285714285704,
                56.330000000000005,
                48.33333333333333,
                54
               ],
               [
                48.403470715835134,
                43.5375,
                53.58571428571428,
                49.8923076923077,
                47.138888888888886,
                52.150000000000006
               ],
               [
                53.37112676056338,
                57.76666666666667,
                55.1,
                58.14,
                null,
                53.8
               ],
               [
                53.58924050632912,
                49.791666666666664,
                59.145454545454534,
                50.83636363636364,
                55.875,
                55
               ],
               [
                57.96274509803921,
                60.4,
                61.800000000000004,
                59.25,
                null,
                null
               ],
               [
                50.64,
                55.45,
                null,
                47.3,
                80,
                null
               ],
               [
                50.88017135862913,
                null,
                null,
                null,
                null,
                null
               ],
               [
                null,
                47.23269230769232,
                null,
                null,
                null,
                null
               ],
               [
                null,
                null,
                56.41515151515151,
                null,
                null,
                null
               ],
               [
                null,
                null,
                null,
                52.009375,
                null,
                null
               ],
               [
                null,
                null,
                null,
                null,
                50.08695652173914,
                null
               ],
               [
                null,
                null,
                null,
                null,
                null,
                53.275
               ],
               [
                50.88017135862913,
                null,
                56.615384615384606,
                null,
                null,
                null
               ],
               [
                null,
                47.23269230769232,
                55.67142857142858,
                52.009375,
                50.08695652173914,
                53.275
               ],
               [
                50.39774647887323,
                43.91499999999999,
                55.675,
                54.29285714285715,
                52.87142857142857,
                54.4
               ],
               [
                51.250865800865796,
                49.30625,
                57.11176470588235,
                50.233333333333334,
                45.75555555555556,
                52.150000000000006
               ]
              ]
             }
            ],
            "label": "S_Ethnicity",
            "method": "update"
           }
          ],
          "direction": "down",
          "showactive": true,
          "x": -0.3,
          "xanchor": "left",
          "y": 0.9,
          "yanchor": "top"
         },
         {
          "buttons": [
           {
            "args": [
             {
              "title.text": "Mean Age by BMI_Category and uACR",
              "visible": [
               true,
               true,
               true,
               false,
               false,
               false,
               false,
               false,
               false,
               false,
               false,
               false,
               false,
               false,
               false,
               false,
               false,
               false
              ]
             }
            ],
            "label": "BMI_Category",
            "method": "update"
           },
           {
            "args": [
             {
              "title.text": "Mean Age by BP_Category and uACR",
              "visible": [
               false,
               false,
               false,
               true,
               true,
               true,
               true,
               true,
               false,
               false,
               false,
               false,
               false,
               false,
               false,
               false,
               false,
               false
              ]
             }
            ],
            "label": "BP_Category",
            "method": "update"
           },
           {
            "args": [
             {
              "title.text": "Mean Age by S_Ethnicity and uACR",
              "visible": [
               false,
               false,
               false,
               false,
               false,
               false,
               false,
               false,
               true,
               true,
               true,
               true,
               true,
               true,
               false,
               false,
               false,
               false
              ]
             }
            ],
            "label": "S_Ethnicity",
            "method": "update"
           },
           {
            "args": [
             {
              "title.text": "Mean Age by Ethnicity_Black and uACR",
              "visible": [
               false,
               false,
               false,
               false,
               false,
               false,
               false,
               false,
               false,
               false,
               false,
               false,
               false,
               false,
               true,
               true,
               false,
               false
              ]
             }
            ],
            "label": "Ethnicity_Black",
            "method": "update"
           },
           {
            "args": [
             {
              "title.text": "Mean Age by Gender and uACR",
              "visible": [
               false,
               false,
               false,
               false,
               false,
               false,
               false,
               false,
               false,
               false,
               false,
               false,
               false,
               false,
               false,
               false,
               true,
               true
              ]
             }
            ],
            "label": "Gender",
            "method": "update"
           }
          ],
          "direction": "down",
          "showactive": true,
          "x": -0.3,
          "xanchor": "left",
          "y": 0.6,
          "yanchor": "top"
         }
        ],
        "width": 1100,
        "yaxis": {
         "title": {
          "text": "Mean Age"
         }
        }
       }
      }
     },
     "metadata": {},
     "output_type": "display_data"
    }
   ],
   "source": [
    "# Variables\n",
    "x_vars = ['uACR', 'BP_Category', 'S_Ethnicity']\n",
    "y_var = 'Age'\n",
    "k_var = ['BMI_Category', 'BP_Category', 'S_Ethnicity', 'Ethnicity_Black', 'Gender']\n",
    "colour_list = ['DarkOrange', 'Sienna', 'Chocolate', 'DarkSalmon', 'Coral', 'SandyBrown']\n",
    "\n",
    "# Initial x_var\n",
    "current_x_var = x_vars[0]\n",
    "\n",
    "fig = go.Figure()\n",
    "\n",
    "# Add traces for each combination of k_var values\n",
    "for a in k_var:\n",
    "    for col, k in enumerate(data[a].unique()):\n",
    "        fig.add_trace(\n",
    "            go.Bar(\n",
    "                name=f'{k}',\n",
    "                x=data[current_x_var].unique(),\n",
    "                y=[data[y_var][(data[current_x_var] == x) & (data[a] == k)].mean() for x in data[current_x_var].unique()],\n",
    "                marker_color=colour_list[col],\n",
    "                visible=a == k_var[0],\n",
    "            )\n",
    "        )\n",
    "\n",
    "# Create buttons for each k_var\n",
    "buttons_k_var = []\n",
    "for a in k_var:\n",
    "    buttons_k_var.append(dict(\n",
    "        method='update',\n",
    "        label=a,\n",
    "        args=[{\n",
    "            'visible': [a == current for current in k_var for _ in data[current].unique()],\n",
    "            'title.text': f'Mean Age by {a} and {current_x_var}'\n",
    "        }]\n",
    "    ))\n",
    "\n",
    "# Create buttons for each x_var\n",
    "buttons_x_var = []\n",
    "for x in x_vars:\n",
    "    buttons_x_var.append(dict(\n",
    "        method='update',\n",
    "        label=x,\n",
    "        args=[{\n",
    "            'x': [data[x].unique()] * len(k_var) * data[k_var[0]].nunique(),\n",
    "            'y': [[data[y_var][(data[x] == val) & (data[a] == k)].mean() for val in data[x].unique()] for a in k_var for k in data[a].unique()],\n",
    "            'title.text': f'Mean Age by {k_var[0]} and {x}'\n",
    "        }]\n",
    "    ))\n",
    "\n",
    "# Update layout with dropdowns\n",
    "fig.update_layout(\n",
    "    updatemenus=[\n",
    "        dict(\n",
    "            buttons=buttons_x_var,\n",
    "            direction='down',\n",
    "            showactive=True,\n",
    "            x=-0.3,\n",
    "            xanchor='left',\n",
    "            y=0.9,\n",
    "            yanchor='top'\n",
    "        ),\n",
    "        dict(\n",
    "            buttons=buttons_k_var,\n",
    "            direction='down',\n",
    "            showactive=True,\n",
    "            x=-0.3,\n",
    "            xanchor='left',\n",
    "            y=0.6,\n",
    "            yanchor='top'\n",
    "        )\n",
    "    ],\n",
    "    barmode='group',\n",
    "    title=dict(text='Bivariate Analysis (Age)', x=0.01),\n",
    "    yaxis_title='Mean Age',\n",
    "    autosize=False,\n",
    "    width=1100,\n",
    "    height=350,\n",
    "    margin=dict(l=20, r=20, t=50, b=20)\n",
    ")\n",
    "\n",
    "# Add annotation\n",
    "fig.update_layout(\n",
    "    annotations=[\n",
    "        dict(text=\"Select x Variable:\", showarrow=False,\n",
    "             x=-0.3, xref=\"paper\", y=1, yref=\"paper\", align=\"left\"),\n",
    "        dict(text=\"Select Feature:\", showarrow=False,\n",
    "             x=-0.3, xref=\"paper\", y=0.7, yref=\"paper\", align=\"left\")\n",
    "    ]\n",
    ")\n",
    "\n",
    "fig.show()\n"
   ]
  },
  {
   "cell_type": "markdown",
   "id": "2697b6af-c7f7-4227-a7bd-c113b183ca7e",
   "metadata": {},
   "source": [
    "Chart Results\n",
    "- The charts show that Black people turn out with high abnormal uACR results more than 10 years younger than non Black people.\n",
    "- Black people turn out with HPT crisis results about 10 years before non black poeple."
   ]
  },
  {
   "cell_type": "code",
   "execution_count": 39,
   "id": "db87605e-8354-4fb4-a51f-6e1220e4e564",
   "metadata": {},
   "outputs": [],
   "source": [
    "# Importing libraries\n",
    "import statsmodels.api as sm \n",
    "from statsmodels.formula.api import ols "
   ]
  },
  {
   "cell_type": "code",
   "execution_count": 40,
   "id": "c6fb4a95-ad04-4b8d-b8d9-08b2036bd5e2",
   "metadata": {},
   "outputs": [
    {
     "data": {
      "application/vnd.microsoft.datawrangler.viewer.v0+json": {
       "columns": [
        {
         "name": "index",
         "rawType": "object",
         "type": "string"
        },
        {
         "name": "sum_sq",
         "rawType": "float64",
         "type": "float"
        },
        {
         "name": "df",
         "rawType": "float64",
         "type": "float"
        },
        {
         "name": "F",
         "rawType": "float64",
         "type": "float"
        },
        {
         "name": "PR(>F)",
         "rawType": "float64",
         "type": "float"
        }
       ],
       "ref": "036964a6-e405-4289-95a0-c8e729ef5cca",
       "rows": [
        [
         "C(Ethnicity_Black)",
         "27.97727742547639",
         "1.0",
         "0.14131668321229393",
         "0.7070590329163713"
        ],
        [
         "C(uACR)",
         "2941.9801875672374",
         "2.0",
         "7.430152617436202",
         "0.0006280210707991554"
        ],
        [
         "C(Ethnicity_Black):C(uACR)",
         "446.7445713832262",
         "2.0",
         "1.1282809994493308",
         "0.3240199819494569"
        ],
        [
         "Residual",
         "189066.84854181166",
         "955.0",
         null,
         null
        ]
       ],
       "shape": {
        "columns": 4,
        "rows": 4
       }
      },
      "text/html": [
       "<div>\n",
       "<style scoped>\n",
       "    .dataframe tbody tr th:only-of-type {\n",
       "        vertical-align: middle;\n",
       "    }\n",
       "\n",
       "    .dataframe tbody tr th {\n",
       "        vertical-align: top;\n",
       "    }\n",
       "\n",
       "    .dataframe thead th {\n",
       "        text-align: right;\n",
       "    }\n",
       "</style>\n",
       "<table border=\"1\" class=\"dataframe\">\n",
       "  <thead>\n",
       "    <tr style=\"text-align: right;\">\n",
       "      <th></th>\n",
       "      <th>sum_sq</th>\n",
       "      <th>df</th>\n",
       "      <th>F</th>\n",
       "      <th>PR(&gt;F)</th>\n",
       "    </tr>\n",
       "  </thead>\n",
       "  <tbody>\n",
       "    <tr>\n",
       "      <th>C(Ethnicity_Black)</th>\n",
       "      <td>27.977277</td>\n",
       "      <td>1.0</td>\n",
       "      <td>0.141317</td>\n",
       "      <td>0.707059</td>\n",
       "    </tr>\n",
       "    <tr>\n",
       "      <th>C(uACR)</th>\n",
       "      <td>2941.980188</td>\n",
       "      <td>2.0</td>\n",
       "      <td>7.430153</td>\n",
       "      <td>0.000628</td>\n",
       "    </tr>\n",
       "    <tr>\n",
       "      <th>C(Ethnicity_Black):C(uACR)</th>\n",
       "      <td>446.744571</td>\n",
       "      <td>2.0</td>\n",
       "      <td>1.128281</td>\n",
       "      <td>0.324020</td>\n",
       "    </tr>\n",
       "    <tr>\n",
       "      <th>Residual</th>\n",
       "      <td>189066.848542</td>\n",
       "      <td>955.0</td>\n",
       "      <td>NaN</td>\n",
       "      <td>NaN</td>\n",
       "    </tr>\n",
       "  </tbody>\n",
       "</table>\n",
       "</div>"
      ],
      "text/plain": [
       "                                   sum_sq     df         F    PR(>F)\n",
       "C(Ethnicity_Black)              27.977277    1.0  0.141317  0.707059\n",
       "C(uACR)                       2941.980188    2.0  7.430153  0.000628\n",
       "C(Ethnicity_Black):C(uACR)     446.744571    2.0  1.128281  0.324020\n",
       "Residual                    189066.848542  955.0       NaN       NaN"
      ]
     },
     "execution_count": 40,
     "metadata": {},
     "output_type": "execute_result"
    }
   ],
   "source": [
    "# Performing two-way ANOVA between Age, Ethnicity_Black and uACR\n",
    "model = ols(\n",
    "    'Age ~ C(Ethnicity_Black) + C(uACR) +\\\n",
    "    C(Ethnicity_Black):C(uACR)', data=data).fit()\n",
    "sm.stats.anova_lm(model, typ=2)"
   ]
  },
  {
   "cell_type": "code",
   "execution_count": 41,
   "id": "a27fcdea-db8d-4a51-8d7e-7d96b0608a0c",
   "metadata": {},
   "outputs": [
    {
     "data": {
      "application/vnd.microsoft.datawrangler.viewer.v0+json": {
       "columns": [
        {
         "name": "index",
         "rawType": "object",
         "type": "string"
        },
        {
         "name": "sum_sq",
         "rawType": "float64",
         "type": "float"
        },
        {
         "name": "df",
         "rawType": "float64",
         "type": "float"
        },
        {
         "name": "F",
         "rawType": "float64",
         "type": "float"
        },
        {
         "name": "PR(>F)",
         "rawType": "float64",
         "type": "float"
        }
       ],
       "ref": "72122d17-07cf-478f-9e97-79462e237579",
       "rows": [
        [
         "C(Ethnicity_Black)",
         "150.21782884820658",
         "1.0",
         "0.7832636529352006",
         "0.3763685614258112"
        ],
        [
         "C(BP_Category)",
         "9728.720811358815",
         "4.0",
         "12.681839198980326",
         "4.65314961748654e-10"
        ],
        [
         "C(Ethnicity_Black):C(BP_Category)",
         "339.79201582984973",
         "4.0",
         "0.4429346662739379",
         "0.7776100111134109"
        ],
        [
         "Residual",
         "182387.0604735734",
         "951.0",
         null,
         null
        ]
       ],
       "shape": {
        "columns": 4,
        "rows": 4
       }
      },
      "text/html": [
       "<div>\n",
       "<style scoped>\n",
       "    .dataframe tbody tr th:only-of-type {\n",
       "        vertical-align: middle;\n",
       "    }\n",
       "\n",
       "    .dataframe tbody tr th {\n",
       "        vertical-align: top;\n",
       "    }\n",
       "\n",
       "    .dataframe thead th {\n",
       "        text-align: right;\n",
       "    }\n",
       "</style>\n",
       "<table border=\"1\" class=\"dataframe\">\n",
       "  <thead>\n",
       "    <tr style=\"text-align: right;\">\n",
       "      <th></th>\n",
       "      <th>sum_sq</th>\n",
       "      <th>df</th>\n",
       "      <th>F</th>\n",
       "      <th>PR(&gt;F)</th>\n",
       "    </tr>\n",
       "  </thead>\n",
       "  <tbody>\n",
       "    <tr>\n",
       "      <th>C(Ethnicity_Black)</th>\n",
       "      <td>150.217829</td>\n",
       "      <td>1.0</td>\n",
       "      <td>0.783264</td>\n",
       "      <td>3.763686e-01</td>\n",
       "    </tr>\n",
       "    <tr>\n",
       "      <th>C(BP_Category)</th>\n",
       "      <td>9728.720811</td>\n",
       "      <td>4.0</td>\n",
       "      <td>12.681839</td>\n",
       "      <td>4.653150e-10</td>\n",
       "    </tr>\n",
       "    <tr>\n",
       "      <th>C(Ethnicity_Black):C(BP_Category)</th>\n",
       "      <td>339.792016</td>\n",
       "      <td>4.0</td>\n",
       "      <td>0.442935</td>\n",
       "      <td>7.776100e-01</td>\n",
       "    </tr>\n",
       "    <tr>\n",
       "      <th>Residual</th>\n",
       "      <td>182387.060474</td>\n",
       "      <td>951.0</td>\n",
       "      <td>NaN</td>\n",
       "      <td>NaN</td>\n",
       "    </tr>\n",
       "  </tbody>\n",
       "</table>\n",
       "</div>"
      ],
      "text/plain": [
       "                                          sum_sq     df          F  \\\n",
       "C(Ethnicity_Black)                    150.217829    1.0   0.783264   \n",
       "C(BP_Category)                       9728.720811    4.0  12.681839   \n",
       "C(Ethnicity_Black):C(BP_Category)     339.792016    4.0   0.442935   \n",
       "Residual                           182387.060474  951.0        NaN   \n",
       "\n",
       "                                         PR(>F)  \n",
       "C(Ethnicity_Black)                 3.763686e-01  \n",
       "C(BP_Category)                     4.653150e-10  \n",
       "C(Ethnicity_Black):C(BP_Category)  7.776100e-01  \n",
       "Residual                                    NaN  "
      ]
     },
     "execution_count": 41,
     "metadata": {},
     "output_type": "execute_result"
    }
   ],
   "source": [
    "# Performing two-way ANOVA between Age, Ethnicity_Black and BP_Category\n",
    "model = ols(\n",
    "    'Age ~ C(Ethnicity_Black) + C(BP_Category) +\\\n",
    "    C(Ethnicity_Black):C(BP_Category)', data=data).fit()\n",
    "sm.stats.anova_lm(model, typ=2)"
   ]
  },
  {
   "cell_type": "code",
   "execution_count": 42,
   "id": "d826fcee-1a57-4ba1-abc8-b70a1d80c4fd",
   "metadata": {},
   "outputs": [],
   "source": [
    "import scipy.stats as stats"
   ]
  },
  {
   "cell_type": "code",
   "execution_count": 43,
   "id": "4b329c56-082c-4a67-bc09-5ec26e2cb700",
   "metadata": {},
   "outputs": [
    {
     "data": {
      "text/plain": [
       "Chi2ContingencyResult(statistic=19.024002327845235, pvalue=7.395888968551565e-05, dof=2, expected_freq=array([[ 45.80020812,   7.12174818,  65.0780437 ],\n",
       "       [327.19979188,  50.87825182, 464.9219563 ]]))"
      ]
     },
     "execution_count": 43,
     "metadata": {},
     "output_type": "execute_result"
    }
   ],
   "source": [
    "cross_eth_uacr = pd.crosstab(data['Ethnicity_Black'], data['uACR'])\n",
    "stats.chi2_contingency(cross_eth_uacr)"
   ]
  },
  {
   "cell_type": "code",
   "execution_count": 44,
   "id": "00fbf46d-b8b8-4967-ac86-842e2f17f58d",
   "metadata": {},
   "outputs": [
    {
     "data": {
      "text/plain": [
       "Chi2ContingencyResult(statistic=16.071001337530294, pvalue=0.0029253553108120017, dof=4, expected_freq=array([[ 24.18938606,   7.24453694,   1.10509886,  66.30593132,\n",
       "         19.15504683],\n",
       "       [172.81061394,  51.75546306,   7.89490114, 473.69406868,\n",
       "        136.84495317]]))"
      ]
     },
     "execution_count": 44,
     "metadata": {},
     "output_type": "execute_result"
    }
   ],
   "source": [
    "cross_eth_bpcat = pd.crosstab(data['Ethnicity_Black'], data['BP_Category'])\n",
    "stats.chi2_contingency(cross_eth_bpcat)"
   ]
  },
  {
   "cell_type": "code",
   "execution_count": 45,
   "id": "477a8b08-065d-4441-912a-6c57bdea8b96",
   "metadata": {},
   "outputs": [],
   "source": [
    "import researchpy as rp"
   ]
  },
  {
   "cell_type": "code",
   "execution_count": 46,
   "id": "c7013400-32b3-440f-827f-f0e1ebdda1ce",
   "metadata": {},
   "outputs": [
    {
     "name": "stderr",
     "output_type": "stream",
     "text": [
      "/opt/anaconda3/envs/vanilla/lib/python3.12/site-packages/researchpy/crosstab.py:146: FutureWarning:\n",
      "\n",
      "Setting an item of incompatible dtype is deprecated and will raise an error in a future version of pandas. Value 'Pearson Chi-square ( 2.0) = ' has dtype incompatible with float64, please explicitly cast to a compatible dtype first.\n",
      "\n"
     ]
    },
    {
     "data": {
      "application/vnd.microsoft.datawrangler.viewer.v0+json": {
       "columns": [
        {
         "name": "index",
         "rawType": "int64",
         "type": "integer"
        },
        {
         "name": "Chi-square test",
         "rawType": "object",
         "type": "string"
        },
        {
         "name": "results",
         "rawType": "float64",
         "type": "float"
        }
       ],
       "ref": "0772120c-b0aa-4d08-aa3f-111b5f45257e",
       "rows": [
        [
         "0",
         "Pearson Chi-square ( 2.0) = ",
         "19.024"
        ],
        [
         "1",
         "p-value = ",
         "0.0001"
        ],
        [
         "2",
         "Cramer's V = ",
         "0.1407"
        ]
       ],
       "shape": {
        "columns": 2,
        "rows": 3
       }
      },
      "text/html": [
       "<div>\n",
       "<style scoped>\n",
       "    .dataframe tbody tr th:only-of-type {\n",
       "        vertical-align: middle;\n",
       "    }\n",
       "\n",
       "    .dataframe tbody tr th {\n",
       "        vertical-align: top;\n",
       "    }\n",
       "\n",
       "    .dataframe thead th {\n",
       "        text-align: right;\n",
       "    }\n",
       "</style>\n",
       "<table border=\"1\" class=\"dataframe\">\n",
       "  <thead>\n",
       "    <tr style=\"text-align: right;\">\n",
       "      <th></th>\n",
       "      <th>Chi-square test</th>\n",
       "      <th>results</th>\n",
       "    </tr>\n",
       "  </thead>\n",
       "  <tbody>\n",
       "    <tr>\n",
       "      <th>0</th>\n",
       "      <td>Pearson Chi-square ( 2.0) =</td>\n",
       "      <td>19.0240</td>\n",
       "    </tr>\n",
       "    <tr>\n",
       "      <th>1</th>\n",
       "      <td>p-value =</td>\n",
       "      <td>0.0001</td>\n",
       "    </tr>\n",
       "    <tr>\n",
       "      <th>2</th>\n",
       "      <td>Cramer's V =</td>\n",
       "      <td>0.1407</td>\n",
       "    </tr>\n",
       "  </tbody>\n",
       "</table>\n",
       "</div>"
      ],
      "text/plain": [
       "                Chi-square test  results\n",
       "0  Pearson Chi-square ( 2.0) =   19.0240\n",
       "1                    p-value =    0.0001\n",
       "2                 Cramer's V =    0.1407"
      ]
     },
     "execution_count": 46,
     "metadata": {},
     "output_type": "execute_result"
    }
   ],
   "source": [
    "crosstab, test_results, expected = rp.crosstab(data[\"Ethnicity_Black\"], data[\"uACR\"],\n",
    "                                               test= \"chi-square\",\n",
    "                                               expected_freqs= True,\n",
    "                                               prop= \"cell\")\n",
    "\n",
    "test_results"
   ]
  },
  {
   "cell_type": "code",
   "execution_count": 47,
   "id": "56fe9bf2-9a24-4db6-9065-d65bae63597d",
   "metadata": {},
   "outputs": [
    {
     "name": "stderr",
     "output_type": "stream",
     "text": [
      "/opt/anaconda3/envs/vanilla/lib/python3.12/site-packages/researchpy/crosstab.py:146: FutureWarning:\n",
      "\n",
      "Setting an item of incompatible dtype is deprecated and will raise an error in a future version of pandas. Value 'Pearson Chi-square ( 4.0) = ' has dtype incompatible with float64, please explicitly cast to a compatible dtype first.\n",
      "\n"
     ]
    },
    {
     "data": {
      "application/vnd.microsoft.datawrangler.viewer.v0+json": {
       "columns": [
        {
         "name": "index",
         "rawType": "int64",
         "type": "integer"
        },
        {
         "name": "Chi-square test",
         "rawType": "object",
         "type": "string"
        },
        {
         "name": "results",
         "rawType": "float64",
         "type": "float"
        }
       ],
       "ref": "3216a104-01bf-4dab-b6c8-0593c088959e",
       "rows": [
        [
         "0",
         "Pearson Chi-square ( 4.0) = ",
         "16.071"
        ],
        [
         "1",
         "p-value = ",
         "0.0029"
        ],
        [
         "2",
         "Cramer's V = ",
         "0.1293"
        ]
       ],
       "shape": {
        "columns": 2,
        "rows": 3
       }
      },
      "text/html": [
       "<div>\n",
       "<style scoped>\n",
       "    .dataframe tbody tr th:only-of-type {\n",
       "        vertical-align: middle;\n",
       "    }\n",
       "\n",
       "    .dataframe tbody tr th {\n",
       "        vertical-align: top;\n",
       "    }\n",
       "\n",
       "    .dataframe thead th {\n",
       "        text-align: right;\n",
       "    }\n",
       "</style>\n",
       "<table border=\"1\" class=\"dataframe\">\n",
       "  <thead>\n",
       "    <tr style=\"text-align: right;\">\n",
       "      <th></th>\n",
       "      <th>Chi-square test</th>\n",
       "      <th>results</th>\n",
       "    </tr>\n",
       "  </thead>\n",
       "  <tbody>\n",
       "    <tr>\n",
       "      <th>0</th>\n",
       "      <td>Pearson Chi-square ( 4.0) =</td>\n",
       "      <td>16.0710</td>\n",
       "    </tr>\n",
       "    <tr>\n",
       "      <th>1</th>\n",
       "      <td>p-value =</td>\n",
       "      <td>0.0029</td>\n",
       "    </tr>\n",
       "    <tr>\n",
       "      <th>2</th>\n",
       "      <td>Cramer's V =</td>\n",
       "      <td>0.1293</td>\n",
       "    </tr>\n",
       "  </tbody>\n",
       "</table>\n",
       "</div>"
      ],
      "text/plain": [
       "                Chi-square test  results\n",
       "0  Pearson Chi-square ( 4.0) =   16.0710\n",
       "1                    p-value =    0.0029\n",
       "2                 Cramer's V =    0.1293"
      ]
     },
     "execution_count": 47,
     "metadata": {},
     "output_type": "execute_result"
    }
   ],
   "source": [
    "crosstab, test_results, expected = rp.crosstab(data[\"Ethnicity_Black\"], data[\"BP_Category\"],\n",
    "                                               test= \"chi-square\",\n",
    "                                               expected_freqs= True,\n",
    "                                               prop= \"cell\")\n",
    "\n",
    "test_results"
   ]
  },
  {
   "cell_type": "code",
   "execution_count": 48,
   "id": "49c151aa-aa1b-4bc9-aee5-d2ce1c94ed50",
   "metadata": {},
   "outputs": [
    {
     "data": {
      "application/vnd.plotly.v1+json": {
       "config": {
        "plotlyServerURL": "https://plot.ly"
       },
       "data": [
        {
         "marker": {
          "color": "DarkOrange"
         },
         "name": "HEALTHY",
         "type": "bar",
         "visible": true,
         "x": [
          "Abnormal",
          "Normal",
          "High Abnormal"
         ],
         "y": [
          50.37931034482759,
          51.205128205128204,
          54.333333333333336
         ]
        },
        {
         "marker": {
          "color": "Sienna"
         },
         "name": "OVERWEIGHT",
         "type": "bar",
         "visible": true,
         "x": [
          "Abnormal",
          "Normal",
          "High Abnormal"
         ],
         "y": [
          53.62589928057554,
          52.21844660194175,
          65.375
         ]
        },
        {
         "marker": {
          "color": "Chocolate"
         },
         "name": "OBESE",
         "type": "bar",
         "visible": true,
         "x": [
          "Abnormal",
          "Normal",
          "High Abnormal"
         ],
         "y": [
          56.31818181818182,
          53.79710144927536,
          52.93939393939394
         ]
        },
        {
         "marker": {
          "color": "DarkOrange"
         },
         "name": "NORMAL",
         "type": "bar",
         "visible": false,
         "x": [
          "Abnormal",
          "Normal",
          "High Abnormal"
         ],
         "y": [
          47.52791878172589,
          46.839622641509436,
          49.32
         ]
        },
        {
         "marker": {
          "color": "Sienna"
         },
         "name": "PRE HPT",
         "type": "bar",
         "visible": false,
         "x": [
          "Abnormal",
          "Normal",
          "High Abnormal"
         ],
         "y": [
          54.82857142857143,
          56.38157894736842,
          50.7
         ]
        },
        {
         "marker": {
          "color": "Chocolate"
         },
         "name": "HPT 1",
         "type": "bar",
         "visible": false,
         "x": [
          "Abnormal",
          "Normal",
          "High Abnormal"
         ],
         "y": [
          62.54794520547945,
          60.69090909090909,
          58.285714285714285
         ]
        },
        {
         "marker": {
          "color": "DarkSalmon"
         },
         "name": "HPT 2",
         "type": "bar",
         "visible": false,
         "x": [
          "Abnormal",
          "Normal",
          "High Abnormal"
         ],
         "y": [
          75.42857142857143,
          76.47826086956522,
          75.25
         ]
        },
        {
         "marker": {
          "color": "Coral"
         },
         "name": "HPT CRISIS",
         "type": "bar",
         "visible": false,
         "x": [
          "Abnormal",
          "Normal",
          "High Abnormal"
         ],
         "y": [
          81.8,
          89.66666666666667,
          124
         ]
        },
        {
         "marker": {
          "color": "DarkOrange"
         },
         "name": "Black",
         "type": "bar",
         "visible": false,
         "x": [
          "Abnormal",
          "Normal",
          "High Abnormal"
         ],
         "y": [
          54.53432835820895,
          52.53023255813954,
          54.92307692307692
         ]
        },
        {
         "marker": {
          "color": "Sienna"
         },
         "name": "White",
         "type": "bar",
         "visible": false,
         "x": [
          "Abnormal",
          "Normal",
          "High Abnormal"
         ],
         "y": [
          52.72727272727273,
          50.61538461538461,
          53
         ]
        },
        {
         "marker": {
          "color": "Chocolate"
         },
         "name": "Mixed",
         "type": "bar",
         "visible": false,
         "x": [
          "Abnormal",
          "Normal",
          "High Abnormal"
         ],
         "y": [
          63.916666666666664,
          53.166666666666664,
          65.33333333333333
         ]
        },
        {
         "marker": {
          "color": "DarkSalmon"
         },
         "name": "Indian",
         "type": "bar",
         "visible": false,
         "x": [
          "Abnormal",
          "Normal",
          "High Abnormal"
         ],
         "y": [
          46.142857142857146,
          59.28,
          null
         ]
        },
        {
         "marker": {
          "color": "Coral"
         },
         "name": "SE Asian",
         "type": "bar",
         "visible": false,
         "x": [
          "Abnormal",
          "Normal",
          "High Abnormal"
         ],
         "y": [
          41.42857142857143,
          49.2,
          124
         ]
        },
        {
         "marker": {
          "color": "SandyBrown"
         },
         "name": "Other",
         "type": "bar",
         "visible": false,
         "x": [
          "Abnormal",
          "Normal",
          "High Abnormal"
         ],
         "y": [
          59,
          48.333333333333336,
          null
         ]
        },
        {
         "marker": {
          "color": "DarkOrange"
         },
         "name": "True",
         "type": "bar",
         "visible": false,
         "x": [
          "Abnormal",
          "Normal",
          "High Abnormal"
         ],
         "y": [
          54.791304347826085,
          52.54176072234763,
          55.49090909090909
         ]
        },
        {
         "marker": {
          "color": "Sienna"
         },
         "name": "False",
         "type": "bar",
         "visible": false,
         "x": [
          "Abnormal",
          "Normal",
          "High Abnormal"
         ],
         "y": [
          49.464285714285715,
          52.96551724137931,
          76.66666666666667
         ]
        },
        {
         "marker": {
          "color": "DarkOrange"
         },
         "name": "Male",
         "type": "bar",
         "visible": false,
         "x": [
          "Abnormal",
          "Normal",
          "High Abnormal"
         ],
         "y": [
          53.779411764705884,
          51.74409448818898,
          55.225806451612904
         ]
        },
        {
         "marker": {
          "color": "Sienna"
         },
         "name": "Female",
         "type": "bar",
         "visible": false,
         "x": [
          "Abnormal",
          "Normal",
          "High Abnormal"
         ],
         "y": [
          54.742616033755276,
          53.40942028985507,
          58.148148148148145
         ]
        },
        {
         "marker": {
          "color": "DarkOrange"
         },
         "name": "Abnormal",
         "type": "bar",
         "visible": false,
         "x": [
          "Abnormal",
          "Normal",
          "High Abnormal"
         ],
         "y": [
          54.39142091152815,
          null,
          null
         ]
        },
        {
         "marker": {
          "color": "Sienna"
         },
         "name": "Normal",
         "type": "bar",
         "visible": false,
         "x": [
          "Abnormal",
          "Normal",
          "High Abnormal"
         ],
         "y": [
          null,
          52.61132075471698,
          null
         ]
        },
        {
         "marker": {
          "color": "Chocolate"
         },
         "name": "High Abnormal",
         "type": "bar",
         "visible": false,
         "x": [
          "Abnormal",
          "Normal",
          "High Abnormal"
         ],
         "y": [
          null,
          null,
          56.58620689655172
         ]
        }
       ],
       "layout": {
        "annotations": [
         {
          "align": "left",
          "showarrow": false,
          "text": "Select x Variable:",
          "x": -0.3,
          "xref": "paper",
          "y": 1,
          "yref": "paper"
         },
         {
          "align": "left",
          "showarrow": false,
          "text": "Select Feature:",
          "x": -0.3,
          "xref": "paper",
          "y": 0.7,
          "yref": "paper"
         }
        ],
        "autosize": false,
        "barmode": "group",
        "height": 350,
        "margin": {
         "b": 20,
         "l": 20,
         "r": 20,
         "t": 50
        },
        "template": {
         "data": {
          "bar": [
           {
            "error_x": {
             "color": "#2a3f5f"
            },
            "error_y": {
             "color": "#2a3f5f"
            },
            "marker": {
             "line": {
              "color": "#E5ECF6",
              "width": 0.5
             },
             "pattern": {
              "fillmode": "overlay",
              "size": 10,
              "solidity": 0.2
             }
            },
            "type": "bar"
           }
          ],
          "barpolar": [
           {
            "marker": {
             "line": {
              "color": "#E5ECF6",
              "width": 0.5
             },
             "pattern": {
              "fillmode": "overlay",
              "size": 10,
              "solidity": 0.2
             }
            },
            "type": "barpolar"
           }
          ],
          "carpet": [
           {
            "aaxis": {
             "endlinecolor": "#2a3f5f",
             "gridcolor": "white",
             "linecolor": "white",
             "minorgridcolor": "white",
             "startlinecolor": "#2a3f5f"
            },
            "baxis": {
             "endlinecolor": "#2a3f5f",
             "gridcolor": "white",
             "linecolor": "white",
             "minorgridcolor": "white",
             "startlinecolor": "#2a3f5f"
            },
            "type": "carpet"
           }
          ],
          "choropleth": [
           {
            "colorbar": {
             "outlinewidth": 0,
             "ticks": ""
            },
            "type": "choropleth"
           }
          ],
          "contour": [
           {
            "colorbar": {
             "outlinewidth": 0,
             "ticks": ""
            },
            "colorscale": [
             [
              0,
              "#0d0887"
             ],
             [
              0.1111111111111111,
              "#46039f"
             ],
             [
              0.2222222222222222,
              "#7201a8"
             ],
             [
              0.3333333333333333,
              "#9c179e"
             ],
             [
              0.4444444444444444,
              "#bd3786"
             ],
             [
              0.5555555555555556,
              "#d8576b"
             ],
             [
              0.6666666666666666,
              "#ed7953"
             ],
             [
              0.7777777777777778,
              "#fb9f3a"
             ],
             [
              0.8888888888888888,
              "#fdca26"
             ],
             [
              1,
              "#f0f921"
             ]
            ],
            "type": "contour"
           }
          ],
          "contourcarpet": [
           {
            "colorbar": {
             "outlinewidth": 0,
             "ticks": ""
            },
            "type": "contourcarpet"
           }
          ],
          "heatmap": [
           {
            "colorbar": {
             "outlinewidth": 0,
             "ticks": ""
            },
            "colorscale": [
             [
              0,
              "#0d0887"
             ],
             [
              0.1111111111111111,
              "#46039f"
             ],
             [
              0.2222222222222222,
              "#7201a8"
             ],
             [
              0.3333333333333333,
              "#9c179e"
             ],
             [
              0.4444444444444444,
              "#bd3786"
             ],
             [
              0.5555555555555556,
              "#d8576b"
             ],
             [
              0.6666666666666666,
              "#ed7953"
             ],
             [
              0.7777777777777778,
              "#fb9f3a"
             ],
             [
              0.8888888888888888,
              "#fdca26"
             ],
             [
              1,
              "#f0f921"
             ]
            ],
            "type": "heatmap"
           }
          ],
          "histogram": [
           {
            "marker": {
             "pattern": {
              "fillmode": "overlay",
              "size": 10,
              "solidity": 0.2
             }
            },
            "type": "histogram"
           }
          ],
          "histogram2d": [
           {
            "colorbar": {
             "outlinewidth": 0,
             "ticks": ""
            },
            "colorscale": [
             [
              0,
              "#0d0887"
             ],
             [
              0.1111111111111111,
              "#46039f"
             ],
             [
              0.2222222222222222,
              "#7201a8"
             ],
             [
              0.3333333333333333,
              "#9c179e"
             ],
             [
              0.4444444444444444,
              "#bd3786"
             ],
             [
              0.5555555555555556,
              "#d8576b"
             ],
             [
              0.6666666666666666,
              "#ed7953"
             ],
             [
              0.7777777777777778,
              "#fb9f3a"
             ],
             [
              0.8888888888888888,
              "#fdca26"
             ],
             [
              1,
              "#f0f921"
             ]
            ],
            "type": "histogram2d"
           }
          ],
          "histogram2dcontour": [
           {
            "colorbar": {
             "outlinewidth": 0,
             "ticks": ""
            },
            "colorscale": [
             [
              0,
              "#0d0887"
             ],
             [
              0.1111111111111111,
              "#46039f"
             ],
             [
              0.2222222222222222,
              "#7201a8"
             ],
             [
              0.3333333333333333,
              "#9c179e"
             ],
             [
              0.4444444444444444,
              "#bd3786"
             ],
             [
              0.5555555555555556,
              "#d8576b"
             ],
             [
              0.6666666666666666,
              "#ed7953"
             ],
             [
              0.7777777777777778,
              "#fb9f3a"
             ],
             [
              0.8888888888888888,
              "#fdca26"
             ],
             [
              1,
              "#f0f921"
             ]
            ],
            "type": "histogram2dcontour"
           }
          ],
          "mesh3d": [
           {
            "colorbar": {
             "outlinewidth": 0,
             "ticks": ""
            },
            "type": "mesh3d"
           }
          ],
          "parcoords": [
           {
            "line": {
             "colorbar": {
              "outlinewidth": 0,
              "ticks": ""
             }
            },
            "type": "parcoords"
           }
          ],
          "pie": [
           {
            "automargin": true,
            "type": "pie"
           }
          ],
          "scatter": [
           {
            "fillpattern": {
             "fillmode": "overlay",
             "size": 10,
             "solidity": 0.2
            },
            "type": "scatter"
           }
          ],
          "scatter3d": [
           {
            "line": {
             "colorbar": {
              "outlinewidth": 0,
              "ticks": ""
             }
            },
            "marker": {
             "colorbar": {
              "outlinewidth": 0,
              "ticks": ""
             }
            },
            "type": "scatter3d"
           }
          ],
          "scattercarpet": [
           {
            "marker": {
             "colorbar": {
              "outlinewidth": 0,
              "ticks": ""
             }
            },
            "type": "scattercarpet"
           }
          ],
          "scattergeo": [
           {
            "marker": {
             "colorbar": {
              "outlinewidth": 0,
              "ticks": ""
             }
            },
            "type": "scattergeo"
           }
          ],
          "scattergl": [
           {
            "marker": {
             "colorbar": {
              "outlinewidth": 0,
              "ticks": ""
             }
            },
            "type": "scattergl"
           }
          ],
          "scattermap": [
           {
            "marker": {
             "colorbar": {
              "outlinewidth": 0,
              "ticks": ""
             }
            },
            "type": "scattermap"
           }
          ],
          "scattermapbox": [
           {
            "marker": {
             "colorbar": {
              "outlinewidth": 0,
              "ticks": ""
             }
            },
            "type": "scattermapbox"
           }
          ],
          "scatterpolar": [
           {
            "marker": {
             "colorbar": {
              "outlinewidth": 0,
              "ticks": ""
             }
            },
            "type": "scatterpolar"
           }
          ],
          "scatterpolargl": [
           {
            "marker": {
             "colorbar": {
              "outlinewidth": 0,
              "ticks": ""
             }
            },
            "type": "scatterpolargl"
           }
          ],
          "scatterternary": [
           {
            "marker": {
             "colorbar": {
              "outlinewidth": 0,
              "ticks": ""
             }
            },
            "type": "scatterternary"
           }
          ],
          "surface": [
           {
            "colorbar": {
             "outlinewidth": 0,
             "ticks": ""
            },
            "colorscale": [
             [
              0,
              "#0d0887"
             ],
             [
              0.1111111111111111,
              "#46039f"
             ],
             [
              0.2222222222222222,
              "#7201a8"
             ],
             [
              0.3333333333333333,
              "#9c179e"
             ],
             [
              0.4444444444444444,
              "#bd3786"
             ],
             [
              0.5555555555555556,
              "#d8576b"
             ],
             [
              0.6666666666666666,
              "#ed7953"
             ],
             [
              0.7777777777777778,
              "#fb9f3a"
             ],
             [
              0.8888888888888888,
              "#fdca26"
             ],
             [
              1,
              "#f0f921"
             ]
            ],
            "type": "surface"
           }
          ],
          "table": [
           {
            "cells": {
             "fill": {
              "color": "#EBF0F8"
             },
             "line": {
              "color": "white"
             }
            },
            "header": {
             "fill": {
              "color": "#C8D4E3"
             },
             "line": {
              "color": "white"
             }
            },
            "type": "table"
           }
          ]
         },
         "layout": {
          "annotationdefaults": {
           "arrowcolor": "#2a3f5f",
           "arrowhead": 0,
           "arrowwidth": 1
          },
          "autotypenumbers": "strict",
          "coloraxis": {
           "colorbar": {
            "outlinewidth": 0,
            "ticks": ""
           }
          },
          "colorscale": {
           "diverging": [
            [
             0,
             "#8e0152"
            ],
            [
             0.1,
             "#c51b7d"
            ],
            [
             0.2,
             "#de77ae"
            ],
            [
             0.3,
             "#f1b6da"
            ],
            [
             0.4,
             "#fde0ef"
            ],
            [
             0.5,
             "#f7f7f7"
            ],
            [
             0.6,
             "#e6f5d0"
            ],
            [
             0.7,
             "#b8e186"
            ],
            [
             0.8,
             "#7fbc41"
            ],
            [
             0.9,
             "#4d9221"
            ],
            [
             1,
             "#276419"
            ]
           ],
           "sequential": [
            [
             0,
             "#0d0887"
            ],
            [
             0.1111111111111111,
             "#46039f"
            ],
            [
             0.2222222222222222,
             "#7201a8"
            ],
            [
             0.3333333333333333,
             "#9c179e"
            ],
            [
             0.4444444444444444,
             "#bd3786"
            ],
            [
             0.5555555555555556,
             "#d8576b"
            ],
            [
             0.6666666666666666,
             "#ed7953"
            ],
            [
             0.7777777777777778,
             "#fb9f3a"
            ],
            [
             0.8888888888888888,
             "#fdca26"
            ],
            [
             1,
             "#f0f921"
            ]
           ],
           "sequentialminus": [
            [
             0,
             "#0d0887"
            ],
            [
             0.1111111111111111,
             "#46039f"
            ],
            [
             0.2222222222222222,
             "#7201a8"
            ],
            [
             0.3333333333333333,
             "#9c179e"
            ],
            [
             0.4444444444444444,
             "#bd3786"
            ],
            [
             0.5555555555555556,
             "#d8576b"
            ],
            [
             0.6666666666666666,
             "#ed7953"
            ],
            [
             0.7777777777777778,
             "#fb9f3a"
            ],
            [
             0.8888888888888888,
             "#fdca26"
            ],
            [
             1,
             "#f0f921"
            ]
           ]
          },
          "colorway": [
           "#636efa",
           "#EF553B",
           "#00cc96",
           "#ab63fa",
           "#FFA15A",
           "#19d3f3",
           "#FF6692",
           "#B6E880",
           "#FF97FF",
           "#FECB52"
          ],
          "font": {
           "color": "#2a3f5f"
          },
          "geo": {
           "bgcolor": "white",
           "lakecolor": "white",
           "landcolor": "#E5ECF6",
           "showlakes": true,
           "showland": true,
           "subunitcolor": "white"
          },
          "hoverlabel": {
           "align": "left"
          },
          "hovermode": "closest",
          "mapbox": {
           "style": "light"
          },
          "paper_bgcolor": "white",
          "plot_bgcolor": "#E5ECF6",
          "polar": {
           "angularaxis": {
            "gridcolor": "white",
            "linecolor": "white",
            "ticks": ""
           },
           "bgcolor": "#E5ECF6",
           "radialaxis": {
            "gridcolor": "white",
            "linecolor": "white",
            "ticks": ""
           }
          },
          "scene": {
           "xaxis": {
            "backgroundcolor": "#E5ECF6",
            "gridcolor": "white",
            "gridwidth": 2,
            "linecolor": "white",
            "showbackground": true,
            "ticks": "",
            "zerolinecolor": "white"
           },
           "yaxis": {
            "backgroundcolor": "#E5ECF6",
            "gridcolor": "white",
            "gridwidth": 2,
            "linecolor": "white",
            "showbackground": true,
            "ticks": "",
            "zerolinecolor": "white"
           },
           "zaxis": {
            "backgroundcolor": "#E5ECF6",
            "gridcolor": "white",
            "gridwidth": 2,
            "linecolor": "white",
            "showbackground": true,
            "ticks": "",
            "zerolinecolor": "white"
           }
          },
          "shapedefaults": {
           "line": {
            "color": "#2a3f5f"
           }
          },
          "ternary": {
           "aaxis": {
            "gridcolor": "white",
            "linecolor": "white",
            "ticks": ""
           },
           "baxis": {
            "gridcolor": "white",
            "linecolor": "white",
            "ticks": ""
           },
           "bgcolor": "#E5ECF6",
           "caxis": {
            "gridcolor": "white",
            "linecolor": "white",
            "ticks": ""
           }
          },
          "title": {
           "x": 0.05
          },
          "xaxis": {
           "automargin": true,
           "gridcolor": "white",
           "linecolor": "white",
           "ticks": "",
           "title": {
            "standoff": 15
           },
           "zerolinecolor": "white",
           "zerolinewidth": 2
          },
          "yaxis": {
           "automargin": true,
           "gridcolor": "white",
           "linecolor": "white",
           "ticks": "",
           "title": {
            "standoff": 15
           },
           "zerolinecolor": "white",
           "zerolinewidth": 2
          }
         }
        },
        "title": {
         "text": "Bivariate Analysis (Pulse Pressure)",
         "x": 0.01
        },
        "updatemenus": [
         {
          "buttons": [
           {
            "args": [
             {
              "title.text": "Mean Pulse Pressure by BMI_Category and uACR",
              "x": [
               [
                "Abnormal",
                "Normal",
                "High Abnormal"
               ],
               [
                "Abnormal",
                "Normal",
                "High Abnormal"
               ],
               [
                "Abnormal",
                "Normal",
                "High Abnormal"
               ],
               [
                "Abnormal",
                "Normal",
                "High Abnormal"
               ],
               [
                "Abnormal",
                "Normal",
                "High Abnormal"
               ],
               [
                "Abnormal",
                "Normal",
                "High Abnormal"
               ],
               [
                "Abnormal",
                "Normal",
                "High Abnormal"
               ],
               [
                "Abnormal",
                "Normal",
                "High Abnormal"
               ],
               [
                "Abnormal",
                "Normal",
                "High Abnormal"
               ],
               [
                "Abnormal",
                "Normal",
                "High Abnormal"
               ],
               [
                "Abnormal",
                "Normal",
                "High Abnormal"
               ],
               [
                "Abnormal",
                "Normal",
                "High Abnormal"
               ],
               [
                "Abnormal",
                "Normal",
                "High Abnormal"
               ],
               [
                "Abnormal",
                "Normal",
                "High Abnormal"
               ],
               [
                "Abnormal",
                "Normal",
                "High Abnormal"
               ],
               [
                "Abnormal",
                "Normal",
                "High Abnormal"
               ],
               [
                "Abnormal",
                "Normal",
                "High Abnormal"
               ],
               [
                "Abnormal",
                "Normal",
                "High Abnormal"
               ]
              ],
              "y": [
               [
                50.37931034482759,
                51.205128205128204,
                54.333333333333336
               ],
               [
                53.62589928057554,
                52.21844660194175,
                65.375
               ],
               [
                56.31818181818182,
                53.79710144927536,
                52.93939393939394
               ],
               [
                47.52791878172589,
                46.839622641509436,
                49.32
               ],
               [
                54.82857142857143,
                56.38157894736842,
                50.7
               ],
               [
                62.54794520547945,
                60.69090909090909,
                58.285714285714285
               ],
               [
                75.42857142857143,
                76.47826086956522,
                75.25
               ],
               [
                81.8,
                89.66666666666667,
                124
               ],
               [
                54.53432835820895,
                52.53023255813954,
                54.92307692307692
               ],
               [
                52.72727272727273,
                50.61538461538461,
                53
               ],
               [
                63.916666666666664,
                53.166666666666664,
                65.33333333333333
               ],
               [
                46.142857142857146,
                59.28,
                null
               ],
               [
                41.42857142857143,
                49.2,
                124
               ],
               [
                59,
                48.333333333333336,
                null
               ],
               [
                54.791304347826085,
                52.54176072234763,
                55.49090909090909
               ],
               [
                49.464285714285715,
                52.96551724137931,
                76.66666666666667
               ],
               [
                53.779411764705884,
                51.74409448818898,
                55.225806451612904
               ],
               [
                54.742616033755276,
                53.40942028985507,
                58.148148148148145
               ],
               [
                54.39142091152815,
                null,
                null
               ],
               [
                null,
                52.61132075471698,
                null
               ],
               [
                null,
                null,
                56.58620689655172
               ]
              ]
             }
            ],
            "label": "uACR",
            "method": "update"
           },
           {
            "args": [
             {
              "title.text": "Mean Pulse Pressure by BMI_Category and BMI_Category",
              "x": [
               [
                "HEALTHY",
                "OVERWEIGHT",
                "OBESE"
               ],
               [
                "HEALTHY",
                "OVERWEIGHT",
                "OBESE"
               ],
               [
                "HEALTHY",
                "OVERWEIGHT",
                "OBESE"
               ],
               [
                "HEALTHY",
                "OVERWEIGHT",
                "OBESE"
               ],
               [
                "HEALTHY",
                "OVERWEIGHT",
                "OBESE"
               ],
               [
                "HEALTHY",
                "OVERWEIGHT",
                "OBESE"
               ],
               [
                "HEALTHY",
                "OVERWEIGHT",
                "OBESE"
               ],
               [
                "HEALTHY",
                "OVERWEIGHT",
                "OBESE"
               ],
               [
                "HEALTHY",
                "OVERWEIGHT",
                "OBESE"
               ],
               [
                "HEALTHY",
                "OVERWEIGHT",
                "OBESE"
               ],
               [
                "HEALTHY",
                "OVERWEIGHT",
                "OBESE"
               ],
               [
                "HEALTHY",
                "OVERWEIGHT",
                "OBESE"
               ],
               [
                "HEALTHY",
                "OVERWEIGHT",
                "OBESE"
               ],
               [
                "HEALTHY",
                "OVERWEIGHT",
                "OBESE"
               ],
               [
                "HEALTHY",
                "OVERWEIGHT",
                "OBESE"
               ],
               [
                "HEALTHY",
                "OVERWEIGHT",
                "OBESE"
               ],
               [
                "HEALTHY",
                "OVERWEIGHT",
                "OBESE"
               ],
               [
                "HEALTHY",
                "OVERWEIGHT",
                "OBESE"
               ]
              ],
              "y": [
               [
                51.09782608695652,
                null,
                null
               ],
               [
                null,
                53.34349030470914,
                null
               ],
               [
                null,
                null,
                54.79567307692308
               ],
               [
                45.78125,
                47.65686274509804,
                47.63942307692308
               ],
               [
                58.80769230769231,
                56,
                53.513888888888886
               ],
               [
                62.86363636363637,
                59.346666666666664,
                62.24
               ],
               [
                78.75,
                73.05,
                76.83870967741936
               ],
               [
                null,
                93.75,
                85.4
               ],
               [
                51.97452229299363,
                53.42993630573248,
                54.26589595375722
               ],
               [
                44.53333333333333,
                45.6,
                56.888888888888886
               ],
               [
                54.75,
                56,
                59.666666666666664
               ],
               [
                44.2,
                57.8235294117647,
                60.1
               ],
               [
                44.666666666666664,
                50,
                52
               ],
               [
                null,
                43,
                53.666666666666664
               ],
               [
                52.04347826086956,
                53.49843260188088,
                54.5068870523416
               ],
               [
                44.47826086956522,
                52.166666666666664,
                56.77358490566038
               ],
               [
                52.626506024096386,
                51.81987577639752,
                53.43502824858757
               ],
               [
                49.84158415841584,
                54.57,
                55.80334728033473
               ],
               [
                50.37931034482759,
                53.62589928057554,
                56.31818181818182
               ],
               [
                51.205128205128204,
                52.21844660194175,
                53.79710144927536
               ],
               [
                54.333333333333336,
                65.375,
                52.93939393939394
               ]
              ]
             }
            ],
            "label": "BMI_Category",
            "method": "update"
           },
           {
            "args": [
             {
              "title.text": "Mean Pulse Pressure by BMI_Category and BP_Category",
              "x": [
               [
                "NORMAL",
                "PRE HPT",
                "HPT 1",
                "HPT 2",
                "HPT CRISIS"
               ],
               [
                "NORMAL",
                "PRE HPT",
                "HPT 1",
                "HPT 2",
                "HPT CRISIS"
               ],
               [
                "NORMAL",
                "PRE HPT",
                "HPT 1",
                "HPT 2",
                "HPT CRISIS"
               ],
               [
                "NORMAL",
                "PRE HPT",
                "HPT 1",
                "HPT 2",
                "HPT CRISIS"
               ],
               [
                "NORMAL",
                "PRE HPT",
                "HPT 1",
                "HPT 2",
                "HPT CRISIS"
               ],
               [
                "NORMAL",
                "PRE HPT",
                "HPT 1",
                "HPT 2",
                "HPT CRISIS"
               ],
               [
                "NORMAL",
                "PRE HPT",
                "HPT 1",
                "HPT 2",
                "HPT CRISIS"
               ],
               [
                "NORMAL",
                "PRE HPT",
                "HPT 1",
                "HPT 2",
                "HPT CRISIS"
               ],
               [
                "NORMAL",
                "PRE HPT",
                "HPT 1",
                "HPT 2",
                "HPT CRISIS"
               ],
               [
                "NORMAL",
                "PRE HPT",
                "HPT 1",
                "HPT 2",
                "HPT CRISIS"
               ],
               [
                "NORMAL",
                "PRE HPT",
                "HPT 1",
                "HPT 2",
                "HPT CRISIS"
               ],
               [
                "NORMAL",
                "PRE HPT",
                "HPT 1",
                "HPT 2",
                "HPT CRISIS"
               ],
               [
                "NORMAL",
                "PRE HPT",
                "HPT 1",
                "HPT 2",
                "HPT CRISIS"
               ],
               [
                "NORMAL",
                "PRE HPT",
                "HPT 1",
                "HPT 2",
                "HPT CRISIS"
               ],
               [
                "NORMAL",
                "PRE HPT",
                "HPT 1",
                "HPT 2",
                "HPT CRISIS"
               ],
               [
                "NORMAL",
                "PRE HPT",
                "HPT 1",
                "HPT 2",
                "HPT CRISIS"
               ],
               [
                "NORMAL",
                "PRE HPT",
                "HPT 1",
                "HPT 2",
                "HPT CRISIS"
               ],
               [
                "NORMAL",
                "PRE HPT",
                "HPT 1",
                "HPT 2",
                "HPT CRISIS"
               ]
              ],
              "y": [
               [
                45.78125,
                58.80769230769231,
                62.86363636363637,
                78.75,
                null
               ],
               [
                47.65686274509804,
                56,
                59.346666666666664,
                73.05,
                93.75
               ],
               [
                47.63942307692308,
                53.513888888888886,
                62.24,
                76.83870967741936,
                85.4
               ],
               [
                47.205555555555556,
                null,
                null,
                null,
                null
               ],
               [
                null,
                55.32051282051282,
                null,
                null,
                null
               ],
               [
                null,
                null,
                61.20812182741117,
                null,
                null
               ],
               [
                null,
                null,
                null,
                75.8135593220339,
                null
               ],
               [
                null,
                null,
                null,
                null,
                89.11111111111111
               ],
               [
                47.58568329718004,
                54.514084507042256,
                61.44303797468354,
                76.03921568627452,
                89.8
               ],
               [
                42.21875,
                66.33333333333333,
                60.666666666666664,
                73,
                81.5
               ],
               [
                49.857142857142854,
                59.6,
                63.45454545454545,
                75.33333333333333,
                null
               ],
               [
                45.84615384615385,
                66.6,
                60,
                75,
                66
               ],
               [
                45,
                null,
                54.5,
                null,
                124
               ],
               [
                49.5,
                59,
                46,
                null,
                null
               ],
               [
                47.678646934460886,
                54.602739726027394,
                61.55421686746988,
                76.22641509433963,
                89.8
               ],
               [
                43.865671641791046,
                65.8,
                59.354838709677416,
                72.16666666666667,
                88.25
               ],
               [
                46.24583333333333,
                55.77142857142857,
                60.109756097560975,
                76.8076923076923,
                80
               ],
               [
                47.973333333333336,
                54.95348837209303,
                61.99130434782609,
                75.03030303030303,
                93.66666666666667
               ],
               [
                47.52791878172589,
                54.82857142857143,
                62.54794520547945,
                75.42857142857143,
                81.8
               ],
               [
                46.839622641509436,
                56.38157894736842,
                60.69090909090909,
                76.47826086956522,
                89.66666666666667
               ],
               [
                49.32,
                50.7,
                58.285714285714285,
                75.25,
                124
               ]
              ]
             }
            ],
            "label": "BP_Category",
            "method": "update"
           },
           {
            "args": [
             {
              "title.text": "Mean Pulse Pressure by BMI_Category and Ethnicity_Black",
              "x": [
               [
                true,
                false
               ],
               [
                true,
                false
               ],
               [
                true,
                false
               ],
               [
                true,
                false
               ],
               [
                true,
                false
               ],
               [
                true,
                false
               ],
               [
                true,
                false
               ],
               [
                true,
                false
               ],
               [
                true,
                false
               ],
               [
                true,
                false
               ],
               [
                true,
                false
               ],
               [
                true,
                false
               ],
               [
                true,
                false
               ],
               [
                true,
                false
               ],
               [
                true,
                false
               ],
               [
                true,
                false
               ],
               [
                true,
                false
               ],
               [
                true,
                false
               ]
              ],
              "y": [
               [
                52.04347826086956,
                44.47826086956522
               ],
               [
                53.49843260188088,
                52.166666666666664
               ],
               [
                54.5068870523416,
                56.77358490566038
               ],
               [
                47.678646934460886,
                43.865671641791046
               ],
               [
                54.602739726027394,
                65.8
               ],
               [
                61.55421686746988,
                59.354838709677416
               ],
               [
                76.22641509433963,
                72.16666666666667
               ],
               [
                89.8,
                88.25
               ],
               [
                53.50428396572828,
                null
               ],
               [
                null,
                51.15384615384615
               ],
               [
                58.38461538461539,
                57.42857142857143
               ],
               [
                null,
                56.40625
               ],
               [
                null,
                50.08695652173913
               ],
               [
                null,
                51
               ],
               [
                53.654804270462634,
                null
               ],
               [
                null,
                52.73728813559322
               ],
               [
                52.83967391304348,
                51.39622641509434
               ],
               [
                54.28631578947368,
                53.83076923076923
               ],
               [
                54.791304347826085,
                49.464285714285715
               ],
               [
                52.54176072234763,
                52.96551724137931
               ],
               [
                55.49090909090909,
                76.66666666666667
               ]
              ]
             }
            ],
            "label": "Ethnicity_Black",
            "method": "update"
           },
           {
            "args": [
             {
              "title.text": "Mean Pulse Pressure by BMI_Category and Gender",
              "x": [
               [
                "Male",
                "Female"
               ],
               [
                "Male",
                "Female"
               ],
               [
                "Male",
                "Female"
               ],
               [
                "Male",
                "Female"
               ],
               [
                "Male",
                "Female"
               ],
               [
                "Male",
                "Female"
               ],
               [
                "Male",
                "Female"
               ],
               [
                "Male",
                "Female"
               ],
               [
                "Male",
                "Female"
               ],
               [
                "Male",
                "Female"
               ],
               [
                "Male",
                "Female"
               ],
               [
                "Male",
                "Female"
               ],
               [
                "Male",
                "Female"
               ],
               [
                "Male",
                "Female"
               ],
               [
                "Male",
                "Female"
               ],
               [
                "Male",
                "Female"
               ],
               [
                "Male",
                "Female"
               ],
               [
                "Male",
                "Female"
               ]
              ],
              "y": [
               [
                52.626506024096386,
                49.84158415841584
               ],
               [
                51.81987577639752,
                54.57
               ],
               [
                53.43502824858757,
                55.80334728033473
               ],
               [
                46.24583333333333,
                47.973333333333336
               ],
               [
                55.77142857142857,
                54.95348837209303
               ],
               [
                60.109756097560975,
                61.99130434782609
               ],
               [
                76.8076923076923,
                75.03030303030303
               ],
               [
                80,
                93.66666666666667
               ],
               [
                52.738028169014086,
                54.09307359307359
               ],
               [
                47.8,
                53.25
               ],
               [
                55.625,
                60.588235294117645
               ],
               [
                61.07142857142857,
                52.77777777777778
               ],
               [
                45.785714285714285,
                56.77777777777778
               ],
               [
                52.5,
                49.5
               ],
               [
                52.83967391304348,
                54.28631578947368
               ],
               [
                51.39622641509434,
                53.83076923076923
               ],
               [
                52.657957244655584,
                null
               ],
               [
                null,
                54.23148148148148
               ],
               [
                53.779411764705884,
                54.742616033755276
               ],
               [
                51.74409448818898,
                53.40942028985507
               ],
               [
                55.225806451612904,
                58.148148148148145
               ]
              ]
             }
            ],
            "label": "Gender",
            "method": "update"
           }
          ],
          "direction": "down",
          "showactive": true,
          "x": -0.3,
          "xanchor": "left",
          "y": 0.9,
          "yanchor": "top"
         },
         {
          "buttons": [
           {
            "args": [
             {
              "title.text": "Mean Age by BMI_Category and uACR",
              "visible": [
               true,
               true,
               true,
               false,
               false,
               false,
               false,
               false,
               false,
               false,
               false,
               false,
               false,
               false,
               false,
               false,
               false,
               false,
               false,
               false,
               false
              ]
             }
            ],
            "label": "BMI_Category",
            "method": "update"
           },
           {
            "args": [
             {
              "title.text": "Mean Age by BP_Category and uACR",
              "visible": [
               false,
               false,
               false,
               true,
               true,
               true,
               true,
               true,
               false,
               false,
               false,
               false,
               false,
               false,
               false,
               false,
               false,
               false,
               false,
               false,
               false
              ]
             }
            ],
            "label": "BP_Category",
            "method": "update"
           },
           {
            "args": [
             {
              "title.text": "Mean Age by S_Ethnicity and uACR",
              "visible": [
               false,
               false,
               false,
               false,
               false,
               false,
               false,
               false,
               true,
               true,
               true,
               true,
               true,
               true,
               false,
               false,
               false,
               false,
               false,
               false,
               false
              ]
             }
            ],
            "label": "S_Ethnicity",
            "method": "update"
           },
           {
            "args": [
             {
              "title.text": "Mean Age by Ethnicity_Black and uACR",
              "visible": [
               false,
               false,
               false,
               false,
               false,
               false,
               false,
               false,
               false,
               false,
               false,
               false,
               false,
               false,
               true,
               true,
               false,
               false,
               false,
               false,
               false
              ]
             }
            ],
            "label": "Ethnicity_Black",
            "method": "update"
           },
           {
            "args": [
             {
              "title.text": "Mean Age by Gender and uACR",
              "visible": [
               false,
               false,
               false,
               false,
               false,
               false,
               false,
               false,
               false,
               false,
               false,
               false,
               false,
               false,
               false,
               false,
               true,
               true,
               false,
               false,
               false
              ]
             }
            ],
            "label": "Gender",
            "method": "update"
           },
           {
            "args": [
             {
              "title.text": "Mean Age by uACR and uACR",
              "visible": [
               false,
               false,
               false,
               false,
               false,
               false,
               false,
               false,
               false,
               false,
               false,
               false,
               false,
               false,
               false,
               false,
               false,
               false,
               true,
               true,
               true
              ]
             }
            ],
            "label": "uACR",
            "method": "update"
           }
          ],
          "direction": "down",
          "showactive": true,
          "x": -0.3,
          "xanchor": "left",
          "y": 0.6,
          "yanchor": "top"
         }
        ],
        "width": 1100,
        "yaxis": {
         "title": {
          "text": "Mean Pulse Pressure"
         }
        }
       }
      }
     },
     "metadata": {},
     "output_type": "display_data"
    }
   ],
   "source": [
    "data['Pulse Pressure'] = data['Systolic'] - data['Diastolic']\n",
    "\n",
    "# Variables\n",
    "x_vars = ['uACR', 'BMI_Category', 'BP_Category', 'Ethnicity_Black', 'Gender']\n",
    "y_var = 'Pulse Pressure'\n",
    "k_var = ['BMI_Category', 'BP_Category', 'S_Ethnicity', 'Ethnicity_Black', 'Gender', 'uACR']\n",
    "colour_list = ['DarkOrange', 'Sienna', 'Chocolate', 'DarkSalmon', 'Coral', 'SandyBrown']\n",
    "\n",
    "# Initial x_var\n",
    "current_x_var = x_vars[0]\n",
    "\n",
    "fig = go.Figure()\n",
    "\n",
    "# Add traces for each combination of k_var values\n",
    "for a in k_var:\n",
    "    for col, k in enumerate(data[a].unique()):\n",
    "        fig.add_trace(\n",
    "            go.Bar(\n",
    "                name=f'{k}',\n",
    "                x=data[current_x_var].unique(),\n",
    "                y=[data[y_var][(data[current_x_var] == x) & (data[a] == k)].mean() for x in data[current_x_var].unique()],\n",
    "                marker_color=colour_list[col],\n",
    "                visible=a == k_var[0],\n",
    "            )\n",
    "        )\n",
    "\n",
    "# Create buttons for each k_var\n",
    "buttons_k_var = []\n",
    "for a in k_var:\n",
    "    buttons_k_var.append(dict(\n",
    "        method='update',\n",
    "        label=a,\n",
    "        args=[{\n",
    "            'visible': [a == current for current in k_var for _ in data[current].unique()],\n",
    "            'title.text': f'Mean Age by {a} and {current_x_var}'\n",
    "        }]\n",
    "    ))\n",
    "\n",
    "# Create buttons for each x_var\n",
    "buttons_x_var = []\n",
    "for x in x_vars:\n",
    "    buttons_x_var.append(dict(\n",
    "        method='update',\n",
    "        label=x,\n",
    "        args=[{\n",
    "            'x': [data[x].unique()] * len(k_var) * data[k_var[0]].nunique(),\n",
    "            'y': [[data[y_var][(data[x] == val) & (data[a] == k)].mean() for val in data[x].unique()] for a in k_var for k in data[a].unique()],\n",
    "            'title.text': f'Mean Pulse Pressure by {k_var[0]} and {x}'\n",
    "        }]\n",
    "    ))\n",
    "\n",
    "# Update layout with dropdowns\n",
    "fig.update_layout(\n",
    "    updatemenus=[\n",
    "        dict(\n",
    "            buttons=buttons_x_var,\n",
    "            direction='down',\n",
    "            showactive=True,\n",
    "            x=-0.3,\n",
    "            xanchor='left',\n",
    "            y=0.9,\n",
    "            yanchor='top'\n",
    "        ),\n",
    "        dict(\n",
    "            buttons=buttons_k_var,\n",
    "            direction='down',\n",
    "            showactive=True,\n",
    "            x=-0.3,\n",
    "            xanchor='left',\n",
    "            y=0.6,\n",
    "            yanchor='top'\n",
    "        )\n",
    "    ],\n",
    "    barmode='group',\n",
    "    title=dict(text='Bivariate Analysis (Pulse Pressure)', x=0.01),\n",
    "    yaxis_title='Mean Pulse Pressure',\n",
    "    autosize=False,\n",
    "    width=1100,\n",
    "    height=350,\n",
    "    margin=dict(l=20, r=20, t=50, b=20)\n",
    ")\n",
    "\n",
    "# Add annotation\n",
    "fig.update_layout(\n",
    "    annotations=[\n",
    "        dict(text=\"Select x Variable:\", showarrow=False,\n",
    "             x=-0.3, xref=\"paper\", y=1, yref=\"paper\", align=\"left\"),\n",
    "        dict(text=\"Select Feature:\", showarrow=False,\n",
    "             x=-0.3, xref=\"paper\", y=0.7, yref=\"paper\", align=\"left\")\n",
    "    ]\n",
    ")\n",
    "\n",
    "fig.show()\n"
   ]
  },
  {
   "cell_type": "markdown",
   "id": "b3b4e63d-0e05-4c48-a921-84da2a44d5fb",
   "metadata": {},
   "source": [
    "Chart Results\n",
    "- Mean pulse pressure for Black people with high abnormal uACR results is over 20 mmHg lower than non Black participants.\n",
    "- There is a sharper gradient for mean pulse pressure across BMI categories (from 44.5 to 56.8) among non Black participants than among Black participants (52.0 to 55.1). This could be due to the deficiencies of BMI measures of Black people."
   ]
  },
  {
   "cell_type": "markdown",
   "id": "65a8c0be",
   "metadata": {
    "editable": true,
    "slideshow": {
     "slide_type": ""
    },
    "tags": []
   },
   "source": [
    "# **Building a Random Forest Classifier to Predict uACR**"
   ]
  },
  {
   "cell_type": "markdown",
   "id": "ba53a8f1-8399-464c-9d11-950923f6de4c",
   "metadata": {},
   "source": [
    "EDA reveals that comparing patients with High Abnormal uACR with those with Normal or Abnormal uACR values shows the greatest variations in the readings of the other measures. In building a classification model, it might be prudent to create a column that encodes the uACR values by checking if they are high abnormal or not. It will also be good to create a column that simply encodes the uACR values as 0, 1, 2\n",
    "\n",
    "Also, it is important to note that the dataset is heavily unbalanced. 530 entries are 'Normal' (55%), 374 are 'Abnormal' (39%), and 58 are 'High Abnormal' (6%). Oversampling can be used to balance the dataset."
   ]
  },
  {
   "cell_type": "code",
   "execution_count": 49,
   "id": "fe83b0be",
   "metadata": {},
   "outputs": [],
   "source": [
    "from sklearn.ensemble import RandomForestClassifier\n",
    "from sklearn.model_selection import train_test_split\n",
    "from sklearn.metrics import accuracy_score, classification_report\n",
    "from sklearn import model_selection, metrics"
   ]
  },
  {
   "cell_type": "markdown",
   "id": "cd59ade0",
   "metadata": {},
   "source": [
    "### **Data Preprocessing**"
   ]
  },
  {
   "cell_type": "code",
   "execution_count": 50,
   "id": "cb7709ea",
   "metadata": {},
   "outputs": [],
   "source": [
    "data_rf = data.copy()"
   ]
  },
  {
   "cell_type": "code",
   "execution_count": 51,
   "id": "ad1b996e-2877-4ba3-9868-f27091e7cc0e",
   "metadata": {},
   "outputs": [],
   "source": [
    "from sklearn.preprocessing import PowerTransformer\n",
    "from sklearn.preprocessing import RobustScaler\n",
    "\n",
    "numeric_vars = ['Age', 'Height', 'Weight', 'Systolic', 'Diastolic']\n",
    "nv = np.array(data_rf[numeric_vars])\n",
    "\n",
    "scaler = PowerTransformer()\n",
    "\n",
    "# standardization \n",
    "scaled_data = scaler.fit_transform(nv) \n",
    "data_rf[numeric_vars] = pd.DataFrame(scaled_data, columns=numeric_vars)"
   ]
  },
  {
   "cell_type": "code",
   "execution_count": 52,
   "id": "2ecec3b2",
   "metadata": {},
   "outputs": [],
   "source": [
    "# Encode data\n",
    "data_rf['Male'] = data_rf['Gender'].map({'Male' : 1, 'Female' : 0})\n",
    "\n",
    "# Encode uACR values\n",
    "uACR_mapping = {\n",
    "    'Normal' : 0,\n",
    "    'Abnormal' : 1,\n",
    "    'High Abnormal' : 2\n",
    "}\n",
    "\n",
    "data_rf['uACR'] = data_rf['uACR'].map(uACR_mapping)\n",
    "\n",
    "# Create a High Abnormal uACR column since this show the most variation when compared with other variables (especially BP)\n",
    "HA_uACR_mapping = {\n",
    "    0 : 0,\n",
    "    1 : 0,\n",
    "    2 : 1\n",
    "}\n",
    "\n",
    "data_rf['HA_uACR'] = data_rf['uACR'].map(HA_uACR_mapping)"
   ]
  },
  {
   "cell_type": "code",
   "execution_count": 53,
   "id": "7a0e4fcf",
   "metadata": {},
   "outputs": [],
   "source": [
    "# Make list of nominal categorical variables\n",
    "nominal_vars = ['S_Ethnicity', 'BMI_Category', 'BP_Category', 'Family_KD']\n",
    "\n",
    "# Apply one hot encoding\n",
    "data_rf = pd.get_dummies(data = data_rf,\n",
    "                         prefix = nominal_vars,\n",
    "                         columns = nominal_vars)"
   ]
  },
  {
   "cell_type": "code",
   "execution_count": 54,
   "id": "ddbd9da2",
   "metadata": {},
   "outputs": [],
   "source": [
    "# Select train features/columns\n",
    "cols = [\n",
    "    'Age',\n",
    "    'Male',\n",
    "    'S_Ethnicity_Black', 'S_Ethnicity_Indian', 'S_Ethnicity_Mixed', 'S_Ethnicity_SE Asian', 'S_Ethnicity_White',\n",
    "    'Height', 'Weight',\n",
    "    'Systolic', 'Diastolic', 'Has_KD', 'Has_Diabetes',\n",
    "    'Family_KD_Definitely yes', 'Family_KD_Definitely not'\n",
    "]"
   ]
  },
  {
   "cell_type": "code",
   "execution_count": 55,
   "id": "1b4b701a",
   "metadata": {},
   "outputs": [],
   "source": [
    "# Feature variables\n",
    "X = data_rf[cols]\n",
    "\n",
    "# Target variables (HA_uACR)\n",
    "y1 = data_rf['HA_uACR']\n",
    "\n",
    "# Target variables (encoded uACR)\n",
    "y2 = data_rf['uACR']"
   ]
  },
  {
   "cell_type": "markdown",
   "id": "7534e48a",
   "metadata": {},
   "source": [
    "### **Model 1 (Predict High Abnormal uACR)**"
   ]
  },
  {
   "cell_type": "code",
   "execution_count": 56,
   "id": "d7105bc1",
   "metadata": {},
   "outputs": [
    {
     "name": "stdout",
     "output_type": "stream",
     "text": [
      "Accuracy: 1.00\n",
      "\n",
      "Classification Report:\n",
      "               precision    recall  f1-score   support\n",
      "\n",
      "           0       1.00      0.99      1.00       223\n",
      "           1       0.99      1.00      1.00       229\n",
      "\n",
      "    accuracy                           1.00       452\n",
      "   macro avg       1.00      1.00      1.00       452\n",
      "weighted avg       1.00      1.00      1.00       452\n",
      "\n"
     ]
    }
   ],
   "source": [
    "from imblearn.over_sampling import RandomOverSampler\n",
    "from imblearn.under_sampling import RandomUnderSampler\n",
    "from imblearn.pipeline import Pipeline\n",
    "\n",
    "# Oversample minority class\n",
    "oversample = RandomOverSampler(sampling_strategy='not majority', random_state=42)\n",
    "X_over, y_over = oversample.fit_resample(X, y1)\n",
    "\n",
    "# Split the oversampled data into training and testing sets\n",
    "X_train, X_test, y_train, y_test = train_test_split(X_over, y_over, test_size=0.25, random_state=42)\n",
    "\n",
    "# Define the pipeline with undersampling and model\n",
    "steps = [('under', RandomUnderSampler(random_state=42)), ('model', RandomForestClassifier(n_estimators=25, random_state=42))]\n",
    "pipeline = Pipeline(steps=steps)\n",
    "\n",
    "# Fit the pipeline to the training data\n",
    "pipeline.fit(X_train, y_train)\n",
    "\n",
    "# Make predictions on the test set\n",
    "y_pred = pipeline.predict(X_test)\n",
    "\n",
    "# Evaluate the model\n",
    "accuracy = accuracy_score(y_test, y_pred)\n",
    "classification_rep = classification_report(y_test, y_pred)\n",
    "\n",
    "# Print the results\n",
    "print(f\"Accuracy: {accuracy:.2f}\")\n",
    "print(f\"\\nClassification Report:\\n\", classification_rep)"
   ]
  },
  {
   "cell_type": "markdown",
   "id": "556ce83d",
   "metadata": {},
   "source": [
    "### **Model 2 (Predict Normal, Abnormal, and High Abnormal uACR values)**"
   ]
  },
  {
   "cell_type": "markdown",
   "id": "b5d5ab91-bc08-40a6-b01d-9ea74893885f",
   "metadata": {},
   "source": [
    "As stated above the distribution for uACR values is highly unbalanced. SMOTENNN will be an appropriate solution for rebalancing the dataset as SMOTE interpolates values for the minority classes and ENN undersamples the dataset by getting rid of outliers, allowing for clearer distinctions between groups. "
   ]
  },
  {
   "cell_type": "code",
   "execution_count": 57,
   "id": "3aebefe7",
   "metadata": {},
   "outputs": [
    {
     "data": {
      "image/png": "[encoded data removed]",
      "text/plain": [
       "<Figure size 1300x500 with 1 Axes>"
      ]
     },
     "metadata": {},
     "output_type": "display_data"
    },
    {
     "name": "stdout",
     "output_type": "stream",
     "text": [
      "Max test accuracy: 0.9378238341968912 at 38 estimators\n"
     ]
    }
   ],
   "source": [
    "# Import SMOTEENN\n",
    "from imblearn.combine import SMOTEENN\n",
    "\n",
    "# This line ensures that the plot is displayed inside the notebook\n",
    "%matplotlib inline\n",
    "\n",
    "# initialize lists to store accuracies for training and test data we start with 50% accuracy\n",
    "train_accuracies = []\n",
    "test_accuracies = []\n",
    "\n",
    "# iterate over a few depth values\n",
    "for n in range(1, 100):\n",
    "    \n",
    "    # Split into test and train sets\n",
    "    X = data_rf[cols]\n",
    "    y = data_rf['uACR']\n",
    "    \n",
    "    # Oversample minority classes\n",
    "    oversample = SMOTEENN(sampling_strategy='not majority', random_state=42)\n",
    "    X_over, y_over = oversample.fit_resample(X, y)\n",
    "    \n",
    "    # Shuffle dataframes abd reset indices after shuffling\n",
    "    X_over = X_over.sample(frac=1, random_state=42).reset_index(drop=True)\n",
    "    y_over = y_over.sample(frac=1, random_state=42).reset_index(drop=True)\n",
    "    \n",
    "    # Split the oversampled data into training and testing sets\n",
    "    X_train, X_test, y_train, y_test = train_test_split(X_over, y_over, test_size=0.25, random_state=42)\n",
    "\n",
    "    # Define parameters for random forest model\n",
    "    clf = RandomForestClassifier(n_estimators=n, random_state=42)\n",
    "\n",
    "    # Fit the model to the training data\n",
    "    clf.fit(X_train, y_train)\n",
    "\n",
    "    #generate predictions on the training set\n",
    "    train_predictions = clf.predict(X_train)\n",
    "\n",
    "    # generate predictions on the test set\n",
    "    test_predictions = clf.predict(X_test)\n",
    "\n",
    "    # calculate the accuracy of predictions on training data set\n",
    "    train_accuracy = metrics.accuracy_score(\n",
    "    y_train, train_predictions\n",
    "    )\n",
    "\n",
    "    # calculate the accuracy of predictions on test data set\n",
    "    test_accuracy = metrics.accuracy_score(\n",
    "        y_test, test_predictions\n",
    "    )\n",
    "\n",
    "    # append accuracies\n",
    "    train_accuracies.append(train_accuracy)\n",
    "    test_accuracies.append(test_accuracy)\n",
    "\n",
    "# create two plots using matplotlib # and seaborn\n",
    "plt.figure(figsize=(13, 5))\n",
    "sns.set_style(\"whitegrid\")\n",
    "plt.plot(train_accuracies, label=\"train accuracy\")\n",
    "plt.plot(test_accuracies, label=\"test accuracy\")\n",
    "plt.legend(loc=\"upper left\", prop={'size': 15})\n",
    "plt.xticks(range(0, 101, 10))\n",
    "plt.xlabel(\"n_estimators\", size=20)\n",
    "plt.ylabel(\"accuracy\", size=20)\n",
    "plt.show()\n",
    "\n",
    "# find max test accuracy\n",
    "max_accuracy = max(test_accuracies)\n",
    "max_n_estimators = test_accuracies.index(max(test_accuracies))+1\n",
    "\n",
    "print(f\"Max test accuracy: {max_accuracy} at {max_n_estimators} estimators\")"
   ]
  },
  {
   "cell_type": "markdown",
   "id": "0a448eff-e9be-4cc2-a627-297abc8362a7",
   "metadata": {},
   "source": [
    "Accuracy peaks at a little under 94% after iterating over 100 estimators"
   ]
  },
  {
   "cell_type": "code",
   "execution_count": 58,
   "id": "1e77a821",
   "metadata": {},
   "outputs": [
    {
     "name": "stdout",
     "output_type": "stream",
     "text": [
      "Accuracy: 0.94\n",
      "\n",
      "Classification Report:\n",
      "               precision    recall  f1-score   support\n",
      "\n",
      "           0       1.00      0.83      0.90        23\n",
      "           1       0.95      0.85      0.90        46\n",
      "           2       0.92      0.99      0.96       124\n",
      "\n",
      "    accuracy                           0.94       193\n",
      "   macro avg       0.96      0.89      0.92       193\n",
      "weighted avg       0.94      0.94      0.94       193\n",
      "\n"
     ]
    }
   ],
   "source": [
    "# Oversample minority classes\n",
    "oversample = SMOTEENN(sampling_strategy='not majority', random_state=42)\n",
    "X_over, y_over = oversample.fit_resample(X, y2)\n",
    "\n",
    "# Shuffle dataframes abd reset indices after shuffling\n",
    "X_over = X_over.sample(frac=1, random_state=42).reset_index(drop=True)\n",
    "y_over = y_over.sample(frac=1, random_state=42).reset_index(drop=True)\n",
    "\n",
    "# Split the oversampled data into training and testing sets\n",
    "X_train, X_test, y_train, y_test = train_test_split(X_over, y_over, test_size=0.25, random_state=42)\n",
    "\n",
    "# Define parameters for random forest model\n",
    "clf = RandomForestClassifier(n_estimators=max_n_estimators, random_state=42)\n",
    "\n",
    "# Fit the model to the training data\n",
    "clf.fit(X_train, y_train)\n",
    "\n",
    "# Make predictions on the test set\n",
    "y_pred = clf.predict(X_test)\n",
    "\n",
    "# Evaluate the model\n",
    "accuracy = accuracy_score(y_test, y_pred)\n",
    "classification_rep = classification_report(y_test, y_pred)\n",
    "\n",
    "# Print the results\n",
    "print(f\"Accuracy: {accuracy:.2f}\")\n",
    "print(f\"\\nClassification Report:\\n\", classification_rep)"
   ]
  },
  {
   "cell_type": "code",
   "execution_count": null,
   "id": "c5d80545-7d3e-4475-aaa8-0609de00870f",
   "metadata": {},
   "outputs": [],
   "source": []
  }
 ],
 "metadata": {
  "kernelspec": {
   "display_name": "vanilla",
   "language": "python",
   "name": "python3"
  },
  "language_info": {
   "codemirror_mode": {
    "name": "ipython",
    "version": 3
   },
   "file_extension": ".py",
   "mimetype": "text/x-python",
   "name": "python",
   "nbconvert_exporter": "python",
   "pygments_lexer": "ipython3",
   "version": "3.12.2"
  }
 },
 "nbformat": 4,
 "nbformat_minor": 5
}
